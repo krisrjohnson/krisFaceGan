{
 "cells": [
  {
   "cell_type": "code",
   "execution_count": 22,
   "metadata": {},
   "outputs": [],
   "source": [
    "import pathlib\n",
    "path = pathlib.Path.cwd()"
   ]
  },
  {
   "cell_type": "code",
   "execution_count": 8,
   "metadata": {},
   "outputs": [],
   "source": [
    "# !pip install imutils\n",
    "# !pip install CMake\n",
    "# !pip install dlib"
   ]
  },
  {
   "cell_type": "code",
   "execution_count": 14,
   "metadata": {},
   "outputs": [],
   "source": [
    "import os\n",
    "import cv2\n",
    "import dlib\n",
    "import numpy as np\n",
    "import glob"
   ]
  },
  {
   "cell_type": "code",
   "execution_count": 21,
   "metadata": {},
   "outputs": [
    {
     "data": {
      "text/plain": [
       "PosixPath('/home/jupyter/tutorials/fastai/course-v3/nbs/dl1/images/KrisFace/markFace/markFace/landmakrs/markFace/landmarks')"
      ]
     },
     "execution_count": 21,
     "metadata": {},
     "output_type": "execute_result"
    }
   ],
   "source": [
    "path"
   ]
  },
  {
   "cell_type": "code",
   "execution_count": 16,
   "metadata": {},
   "outputs": [],
   "source": [
    "os.makedirs(path/'markFace', exist_ok=True)\n",
    "os.makedirs(path/'markFace/landmarks', exist_ok=True)\n",
    "os.makedirs(path/'markFace/original', exist_ok=True)"
   ]
  },
  {
   "cell_type": "code",
   "execution_count": 19,
   "metadata": {},
   "outputs": [],
   "source": [
    "path = path/'markFace/landmarks'"
   ]
  },
  {
   "cell_type": "markdown",
   "metadata": {},
   "source": [
    "# Rejoin"
   ]
  },
  {
   "cell_type": "code",
   "execution_count": 5,
   "metadata": {},
   "outputs": [],
   "source": [
    "FRAMES=903"
   ]
  },
  {
   "cell_type": "code",
   "execution_count": 25,
   "metadata": {},
   "outputs": [
    {
     "name": "stdout",
     "output_type": "stream",
     "text": [
      "/home/jupyter/tutorials/fastai/course-v3/nbs/dl1/images/KrisFace/landmarks/40.png\n",
      "/home/jupyter/tutorials/fastai/course-v3/nbs/dl1/images/KrisFace/landmarks/80.png\n",
      "/home/jupyter/tutorials/fastai/course-v3/nbs/dl1/images/KrisFace/landmarks/120.png\n",
      "/home/jupyter/tutorials/fastai/course-v3/nbs/dl1/images/KrisFace/landmarks/160.png\n",
      "/home/jupyter/tutorials/fastai/course-v3/nbs/dl1/images/KrisFace/landmarks/200.png\n",
      "/home/jupyter/tutorials/fastai/course-v3/nbs/dl1/images/KrisFace/landmarks/240.png\n",
      "/home/jupyter/tutorials/fastai/course-v3/nbs/dl1/images/KrisFace/landmarks/280.png\n",
      "/home/jupyter/tutorials/fastai/course-v3/nbs/dl1/images/KrisFace/landmarks/320.png\n",
      "/home/jupyter/tutorials/fastai/course-v3/nbs/dl1/images/KrisFace/landmarks/360.png\n",
      "/home/jupyter/tutorials/fastai/course-v3/nbs/dl1/images/KrisFace/landmarks/400.png\n",
      "/home/jupyter/tutorials/fastai/course-v3/nbs/dl1/images/KrisFace/landmarks/440.png\n",
      "/home/jupyter/tutorials/fastai/course-v3/nbs/dl1/images/KrisFace/landmarks/480.png\n",
      "/home/jupyter/tutorials/fastai/course-v3/nbs/dl1/images/KrisFace/landmarks/520.png\n"
     ]
    }
   ],
   "source": [
    "img_array = []\n",
    "for i in range(1, FRAMES+1):\n",
    "    img_name = f'{str(path)}/{i}.png'\n",
    "    if i % 40 == 0:\n",
    "        print (img_name)\n",
    "    img = cv2.imread(img_name)\n",
    "    img_array.append(img)\n",
    "\n"
   ]
  },
  {
   "cell_type": "code",
   "execution_count": 29,
   "metadata": {},
   "outputs": [
    {
     "data": {
      "text/plain": [
       "540"
      ]
     },
     "execution_count": 29,
     "metadata": {},
     "output_type": "execute_result"
    }
   ],
   "source": [
    "len(img_array)"
   ]
  },
  {
   "cell_type": "code",
   "execution_count": 30,
   "metadata": {},
   "outputs": [],
   "source": [
    "height, width, layers = img.shape\n",
    "size = (width,height)"
   ]
  },
  {
   "cell_type": "code",
   "execution_count": 32,
   "metadata": {},
   "outputs": [],
   "source": [
    "fourcc = cv2.VideoWriter_fourcc('H','2','6','4') #mp4v for windows\n",
    "\n",
    "out = cv2.VideoWriter(f'/home/jupyter/tutorials/fastai/course-v3/nbs/dl1/images/KrisFace/landmarks_reconstructed.avi', fourcc, 30, size, True)\n",
    "\n",
    "for i in range(len(img_array)):\n",
    "    out.write(img_array[i])\n",
    "\n"
   ]
  },
  {
   "cell_type": "code",
   "execution_count": 33,
   "metadata": {},
   "outputs": [],
   "source": [
    "cv2.destroyAllWindows()\n",
    "out.release()"
   ]
  },
  {
   "cell_type": "code",
   "execution_count": 16,
   "metadata": {},
   "outputs": [
    {
     "data": {
      "text/plain": [
       "PosixPath('/home/jupyter/tutorials/fastai/course-v3/nbs/dl1/images/KrisFace/landmarks')"
      ]
     },
     "execution_count": 16,
     "metadata": {},
     "output_type": "execute_result"
    }
   ],
   "source": [
    "path"
   ]
  },
  {
   "cell_type": "code",
   "execution_count": null,
   "metadata": {},
   "outputs": [],
   "source": []
  }
 ],
 "metadata": {
  "kernelspec": {
   "display_name": "Python 3",
   "language": "python",
   "name": "python3"
  },
  "language_info": {
   "codemirror_mode": {
    "name": "ipython",
    "version": 3
   },
   "file_extension": ".py",
   "mimetype": "text/x-python",
   "name": "python",
   "nbconvert_exporter": "python",
   "pygments_lexer": "ipython3",
   "version": "3.7.4"
  }
 },
 "nbformat": 4,
 "nbformat_minor": 2
}
