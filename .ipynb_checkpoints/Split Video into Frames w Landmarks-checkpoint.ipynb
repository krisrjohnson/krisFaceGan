{
 "cells": [
  {
   "cell_type": "code",
   "execution_count": 2,
   "metadata": {},
   "outputs": [],
   "source": [
    "import pathlib\n",
    "path = pathlib.Path.cwd()"
   ]
  },
  {
   "cell_type": "code",
   "execution_count": 3,
   "metadata": {},
   "outputs": [],
   "source": [
    "numFrames = 540\n",
    "# numFrames = 903"
   ]
  },
  {
   "cell_type": "code",
   "execution_count": 4,
   "metadata": {},
   "outputs": [],
   "source": [
    "# !pip install imutils\n",
    "# !pip install CMake\n",
    "# in conda: conda install -c conda-forge dlib "
   ]
  },
  {
   "cell_type": "code",
   "execution_count": 5,
   "metadata": {},
   "outputs": [],
   "source": [
    "import os\n",
    "import pathlib\n",
    "import cv2\n",
    "import dlib\n",
    "import numpy as np\n",
    "from imutils import video\n",
    "import time"
   ]
  },
  {
   "cell_type": "code",
   "execution_count": 6,
   "metadata": {},
   "outputs": [
    {
     "data": {
      "text/plain": [
       "WindowsPath('C:/Users/Awesome Freelancer/Desktop/KJ/krisFaceGan/data')"
      ]
     },
     "execution_count": 6,
     "metadata": {},
     "output_type": "execute_result"
    }
   ],
   "source": [
    "path = path/'data'\n",
    "path"
   ]
  },
  {
   "cell_type": "code",
   "execution_count": 7,
   "metadata": {},
   "outputs": [],
   "source": [
    "os.makedirs(path/'krisFace', exist_ok=True)\n",
    "os.makedirs(path/'krisFace/original', exist_ok=True)\n",
    "os.makedirs(path/'krisFace/landmarks', exist_ok=True)"
   ]
  },
  {
   "cell_type": "code",
   "execution_count": 8,
   "metadata": {},
   "outputs": [],
   "source": [
    "path = path/'krisFace/'\n",
    "path_og = path/'original'\n",
    "path_land = path/'landmarks'"
   ]
  },
  {
   "cell_type": "code",
   "execution_count": 9,
   "metadata": {},
   "outputs": [
    {
     "data": {
      "text/plain": [
       "'C:\\\\Users\\\\Awesome Freelancer\\\\Desktop\\\\KJ\\\\krisFaceGan\\\\data\\\\krisFace\\\\landmarks'"
      ]
     },
     "execution_count": 9,
     "metadata": {},
     "output_type": "execute_result"
    }
   ],
   "source": [
    "str(path_land)"
   ]
  },
  {
   "cell_type": "markdown",
   "metadata": {},
   "source": [
    "# Perform split"
   ]
  },
  {
   "cell_type": "code",
   "execution_count": 10,
   "metadata": {},
   "outputs": [],
   "source": [
    "# cap=cv2.VideoCapture('/home/jupyter/tutorials/fastai/course-v3/nbs/dl1/images/KrisFace/faces_detected.avi')\n",
    "cap=cv2.VideoCapture(str(path/'../faces_detected.avi'))\n",
    "fps = video.FPS().start()"
   ]
  },
  {
   "cell_type": "code",
   "execution_count": 11,
   "metadata": {},
   "outputs": [],
   "source": [
    "DOWNSAMPLE = 4\n",
    "count = 0"
   ]
  },
  {
   "cell_type": "code",
   "execution_count": 12,
   "metadata": {},
   "outputs": [],
   "source": [
    "def reshape_for_polyline(array):\n",
    "    return np.array(array, np.int32).reshape((-1, 1, 2))"
   ]
  },
  {
   "cell_type": "code",
   "execution_count": 13,
   "metadata": {},
   "outputs": [],
   "source": [
    "detector = dlib.get_frontal_face_detector()\n",
    "predictor = dlib.shape_predictor(str(path/'../shape_predictor_68_face_landmarks.dat'))"
   ]
  },
  {
   "cell_type": "code",
   "execution_count": 14,
   "metadata": {},
   "outputs": [
    {
     "name": "stdout",
     "output_type": "stream",
     "text": [
      "No face detected\n",
      "[INFO] elapsed time: 0.01\n",
      "[INFO] frames: 101, faces detected: 100\n",
      "No face detected\n",
      "No face detected\n",
      "No face detected\n",
      "No face detected\n",
      "No face detected\n",
      "No face detected\n",
      "No face detected\n",
      "No face detected\n",
      "No face detected\n",
      "No face detected\n",
      "No face detected\n",
      "No face detected\n",
      "No face detected\n",
      "No face detected\n",
      "No face detected\n",
      "[INFO] elapsed time: 0.01\n",
      "[INFO] frames: 216, faces detected: 200\n",
      "No face detected\n",
      "[INFO] elapsed time: 0.01\n",
      "[INFO] frames: 317, faces detected: 300\n",
      "[INFO] elapsed time: 0.01\n",
      "[INFO] frames: 417, faces detected: 400\n",
      "No face detected\n",
      "No face detected\n",
      "No face detected\n",
      "[INFO] elapsed time: 0.01\n",
      "[INFO] frames: 520, faces detected: 500\n",
      "[INFO] elapsed time (total): 14.53\n",
      "[INFO] approx. FPS: 37.17\n"
     ]
    }
   ],
   "source": [
    "frames, count = 0, 0\n",
    "while cap.isOpened():\n",
    "    ret, frame = cap.read()\n",
    "    frames += 1\n",
    "    \n",
    "#     TODO: Abstract this section into a fn\n",
    "    frame_resize = cv2.resize(frame, None, fx=1 / DOWNSAMPLE, fy=1 / DOWNSAMPLE)\n",
    "    gray = cv2.cvtColor(frame_resize, cv2.COLOR_BGR2GRAY)\n",
    "    faces = detector(gray, 1)\n",
    "    black_image = np.zeros(frame.shape, np.uint8)\n",
    "\n",
    "    t = time.time()\n",
    "\n",
    "    # Perform if there is a face detected\n",
    "    if len(faces) == 1:\n",
    "        count+=1\n",
    "        for face in faces:\n",
    "            detected_landmarks = predictor(gray, face).parts()\n",
    "            landmarks = [[p.x * DOWNSAMPLE, p.y * DOWNSAMPLE] for p in detected_landmarks]\n",
    "\n",
    "            jaw = reshape_for_polyline(landmarks[0:17])\n",
    "            left_eyebrow = reshape_for_polyline(landmarks[22:27])\n",
    "            right_eyebrow = reshape_for_polyline(landmarks[17:22])\n",
    "            nose_bridge = reshape_for_polyline(landmarks[27:31])\n",
    "            lower_nose = reshape_for_polyline(landmarks[30:35])\n",
    "            left_eye = reshape_for_polyline(landmarks[42:48])\n",
    "            right_eye = reshape_for_polyline(landmarks[36:42])\n",
    "            outer_lip = reshape_for_polyline(landmarks[48:60])\n",
    "            inner_lip = reshape_for_polyline(landmarks[60:68])\n",
    "\n",
    "            color = (255, 255, 255)\n",
    "            thickness = 3\n",
    "\n",
    "            cv2.polylines(black_image, [jaw], False, color, thickness)\n",
    "            cv2.polylines(black_image, [left_eyebrow], False, color, thickness)\n",
    "            cv2.polylines(black_image, [right_eyebrow], False, color, thickness)\n",
    "            cv2.polylines(black_image, [nose_bridge], False, color, thickness)\n",
    "            cv2.polylines(black_image, [lower_nose], True, color, thickness)\n",
    "            cv2.polylines(black_image, [left_eye], True, color, thickness)\n",
    "            cv2.polylines(black_image, [right_eye], True, color, thickness)\n",
    "            cv2.polylines(black_image, [outer_lip], True, color, thickness)\n",
    "            cv2.polylines(black_image, [inner_lip], True, color, thickness)\n",
    "\n",
    "        # Display the resulting frame\n",
    "        cv2.imwrite(os.path.join(path_og, f'{count}.png'), frame)\n",
    "        cv2.imwrite(os.path.join(path_land, f'{count}.png'), black_image)\n",
    "        fps.update()\n",
    "\n",
    "        if count % 100 == 0:\n",
    "            print('[INFO] elapsed time: {:.2f}'.format(time.time() - t))\n",
    "            print(f'[INFO] frames: {frames}, faces detected: {count}')\n",
    "\n",
    "#         TODO: Handle running out of frames\n",
    "        if count == numFrames:  # only take 400 photos\n",
    "            break\n",
    "        elif cv2.waitKey(1) & 0xFF == ord('q'):\n",
    "            break\n",
    "    else:\n",
    "        print(\"No face detected\")\n",
    "    \n",
    "fps.stop()\n",
    "\n",
    "print('[INFO] elapsed time (total): {:.2f}'.format(fps.elapsed()))\n",
    "print('[INFO] approx. FPS: {:.2f}'.format(fps.fps()))"
   ]
  },
  {
   "cell_type": "markdown",
   "metadata": {},
   "source": [
    "lol somehow 'no face detected' in webcam footage of someone sitting a foot away!"
   ]
  },
  {
   "cell_type": "code",
   "execution_count": 30,
   "metadata": {},
   "outputs": [],
   "source": [
    "cap.release()\n",
    "cv2.destroyAllWindows()"
   ]
  },
  {
   "cell_type": "code",
   "execution_count": null,
   "metadata": {},
   "outputs": [],
   "source": []
  }
 ],
 "metadata": {
  "kernelspec": {
   "display_name": "Python 3",
   "language": "python",
   "name": "python3"
  },
  "language_info": {
   "codemirror_mode": {
    "name": "ipython",
    "version": 3
   },
   "file_extension": ".py",
   "mimetype": "text/x-python",
   "name": "python",
   "nbconvert_exporter": "python",
   "pygments_lexer": "ipython3",
   "version": "3.6.9"
  }
 },
 "nbformat": 4,
 "nbformat_minor": 2
}
