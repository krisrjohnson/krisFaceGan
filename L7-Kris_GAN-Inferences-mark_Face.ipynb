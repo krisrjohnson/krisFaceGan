{
 "cells": [
  {
   "cell_type": "markdown",
   "metadata": {
    "nbpresent": {
     "id": "c732b8cb-0352-4235-b6de-bf85c41e574f"
    }
   },
   "source": [
    "## KrisFace GAN on Mark's Facial Landmarks"
   ]
  },
  {
   "cell_type": "markdown",
   "metadata": {
    "nbpresent": {
     "id": "991a53cf-3729-4513-8758-d966d30e642c"
    }
   },
   "source": [
    "Reimplementing a basic GAN with the fastai framework"
   ]
  },
  {
   "cell_type": "code",
   "execution_count": 1,
   "metadata": {
    "nbpresent": {
     "id": "42ddd840-b238-4430-b336-d8cb752c262b"
    }
   },
   "outputs": [],
   "source": [
    "%reload_ext autoreload\n",
    "%autoreload 2\n",
    "%matplotlib inline"
   ]
  },
  {
   "cell_type": "code",
   "execution_count": 2,
   "metadata": {
    "nbpresent": {
     "id": "db5fc785-e4e9-4d34-9ac4-a4d63c9f567e"
    }
   },
   "outputs": [],
   "source": [
    "import fastai\n",
    "from fastai.vision import *\n",
    "from fastai.callbacks import *\n",
    "import cv2\n",
    "import numpy as np\n",
    "from torchvision import transforms\n",
    "from skimage import io, transform\n",
    "# import tensorflow as tf"
   ]
  },
  {
   "cell_type": "code",
   "execution_count": 52,
   "metadata": {
    "nbpresent": {
     "id": "3333a246-7871-4eac-875a-8a2dfd6966bb"
    }
   },
   "outputs": [],
   "source": [
    "path = pathlib.Path('/home/jupyter/tutorials/fastai/course-v3/nbs/dl1/images/KrisFace/markFace')\n",
    "path_og = path/'original'\n",
    "path_land = path/'landmarks'\n",
    "# will make the following paths in the img resize task\n",
    "path_og_lr = path/'original-96' #low res\n",
    "path_og_mr = path/'original-256' #medium res\n",
    "path_land_lr = path/'landmarks-96'\n",
    "path_land_mr = path/'landmarks-256'"
   ]
  },
  {
   "cell_type": "markdown",
   "metadata": {},
   "source": [
    "# Create LR, HR Landmarks"
   ]
  },
  {
   "cell_type": "code",
   "execution_count": 53,
   "metadata": {},
   "outputs": [],
   "source": [
    "#Resize facial landmark imgs to 96 and 256\n",
    "def resize_one(fn, img, path, size):\n",
    "    dest = path/fn.relative_to(path_land) \n",
    "    print(dest)\n",
    "    dest.parent.mkdir(parents=True, exist_ok=True)\n",
    "    img = PIL.Image.open(fn)\n",
    "    targ_sz = resize_to(img, size, use_min=True)\n",
    "    img = img.resize(targ_sz, resample=PIL.Image.BILINEAR).convert('RGB')\n",
    "    img.save(dest, quality=90) #95 is most, 75 is default"
   ]
  },
  {
   "cell_type": "code",
   "execution_count": 54,
   "metadata": {},
   "outputs": [],
   "source": [
    "il = ImageList.from_folder(path_og)\n",
    "src = ImageList.from_folder(path_land)"
   ]
  },
  {
   "cell_type": "code",
   "execution_count": 57,
   "metadata": {},
   "outputs": [],
   "source": [
    "# #create smaller facial landmark pics first time this nb is run\n",
    "sets = [(path_land_lr, 96), (path_land_mr, 256)]\n",
    "for p,size in sets:\n",
    "    if not p.exists(): # if already exists, don't perform\n",
    "        print(f'resizing to {size} into {p}')\n",
    "        parallel(partial(resize_one, path=p, size=size), src.items)"
   ]
  },
  {
   "cell_type": "code",
   "execution_count": 58,
   "metadata": {},
   "outputs": [],
   "source": [
    "#resize og imgs, not necessary\n",
    "def resize_one(fn, img, path, size):\n",
    "    dest = path/fn.relative_to(path_og)\n",
    "    print(dest)\n",
    "    dest.parent.mkdir(parents=True, exist_ok=True)\n",
    "    img = PIL.Image.open(fn)\n",
    "    targ_sz = resize_to(img, size, use_min=True)\n",
    "    img = img.resize(targ_sz, resample=PIL.Image.BILINEAR).convert('RGB')\n",
    "    img.save(dest, quality=90) #95 is most, 75 is default"
   ]
  },
  {
   "cell_type": "code",
   "execution_count": 59,
   "metadata": {
    "collapsed": true
   },
   "outputs": [
    {
     "name": "stdout",
     "output_type": "stream",
     "text": [
      "resizing to 96 into /home/jupyter/tutorials/fastai/course-v3/nbs/dl1/images/KrisFace/markFace/original-96\n"
     ]
    },
    {
     "data": {
      "text/html": [
       "\n",
       "    <div>\n",
       "        <style>\n",
       "            /* Turns off some styling */\n",
       "            progress {\n",
       "                /* gets rid of default border in Firefox and Opera. */\n",
       "                border: none;\n",
       "                /* Needs to be in here for Safari polyfill so background images work as expected. */\n",
       "                background-size: auto;\n",
       "            }\n",
       "            .progress-bar-interrupted, .progress-bar-interrupted::-webkit-progress-bar {\n",
       "                background: #F44336;\n",
       "            }\n",
       "        </style>\n",
       "      <progress value='903' class='' max='903', style='width:300px; height:20px; vertical-align: middle;'></progress>\n",
       "      100.00% [903/903 00:06<00:00]\n",
       "    </div>\n",
       "    "
      ],
      "text/plain": [
       "<IPython.core.display.HTML object>"
      ]
     },
     "metadata": {},
     "output_type": "display_data"
    },
    {
     "name": "stdout",
     "output_type": "stream",
     "text": [
      "/home/jupyter/tutorials/fastai/course-v3/nbs/dl1/images/KrisFace/markFace/original-96/607.png\n",
      "/home/jupyter/tutorials/fastai/course-v3/nbs/dl1/images/KrisFace/markFace/original-96/784.png\n",
      "/home/jupyter/tutorials/fastai/course-v3/nbs/dl1/images/KrisFace/markFace/original-96/898.png\n",
      "/home/jupyter/tutorials/fastai/course-v3/nbs/dl1/images/KrisFace/markFace/original-96/842.png\n",
      "/home/jupyter/tutorials/fastai/course-v3/nbs/dl1/images/KrisFace/markFace/original-96/304.png\n",
      "/home/jupyter/tutorials/fastai/course-v3/nbs/dl1/images/KrisFace/markFace/original-96/692.png\n",
      "/home/jupyter/tutorials/fastai/course-v3/nbs/dl1/images/KrisFace/markFace/original-96/340.png\n",
      "/home/jupyter/tutorials/fastai/course-v3/nbs/dl1/images/KrisFace/markFace/original-96/834.png\n",
      "/home/jupyter/tutorials/fastai/course-v3/nbs/dl1/images/KrisFace/markFace/original-96/755.png\n",
      "/home/jupyter/tutorials/fastai/course-v3/nbs/dl1/images/KrisFace/markFace/original-96/17.png\n",
      "/home/jupyter/tutorials/fastai/course-v3/nbs/dl1/images/KrisFace/markFace/original-96/332.png\n",
      "/home/jupyter/tutorials/fastai/course-v3/nbs/dl1/images/KrisFace/markFace/original-96/142.png\n",
      "/home/jupyter/tutorials/fastai/course-v3/nbs/dl1/images/KrisFace/markFace/original-96/367.png\n",
      "/home/jupyter/tutorials/fastai/course-v3/nbs/dl1/images/KrisFace/markFace/original-96/281.png\n",
      "/home/jupyter/tutorials/fastai/course-v3/nbs/dl1/images/KrisFace/markFace/original-96/740.png\n",
      "/home/jupyter/tutorials/fastai/course-v3/nbs/dl1/images/KrisFace/markFace/original-96/293.png\n",
      "/home/jupyter/tutorials/fastai/course-v3/nbs/dl1/images/KrisFace/markFace/original-96/221.png\n",
      "/home/jupyter/tutorials/fastai/course-v3/nbs/dl1/images/KrisFace/markFace/original-96/260.png\n",
      "/home/jupyter/tutorials/fastai/course-v3/nbs/dl1/images/KrisFace/markFace/original-96/711.png\n",
      "/home/jupyter/tutorials/fastai/course-v3/nbs/dl1/images/KrisFace/markFace/original-96/349.png\n",
      "/home/jupyter/tutorials/fastai/course-v3/nbs/dl1/images/KrisFace/markFace/original-96/878.png\n",
      "/home/jupyter/tutorials/fastai/course-v3/nbs/dl1/images/KrisFace/markFace/original-96/139.png\n",
      "/home/jupyter/tutorials/fastai/course-v3/nbs/dl1/images/KrisFace/markFace/original-96/520.png\n",
      "/home/jupyter/tutorials/fastai/course-v3/nbs/dl1/images/KrisFace/markFace/original-96/443.png\n",
      "/home/jupyter/tutorials/fastai/course-v3/nbs/dl1/images/KrisFace/markFace/original-96/129.png\n",
      "/home/jupyter/tutorials/fastai/course-v3/nbs/dl1/images/KrisFace/markFace/original-96/426.png\n",
      "/home/jupyter/tutorials/fastai/course-v3/nbs/dl1/images/KrisFace/markFace/original-96/504.png\n",
      "/home/jupyter/tutorials/fastai/course-v3/nbs/dl1/images/KrisFace/markFace/original-96/157.png\n",
      "/home/jupyter/tutorials/fastai/course-v3/nbs/dl1/images/KrisFace/markFace/original-96/532.png\n",
      "/home/jupyter/tutorials/fastai/course-v3/nbs/dl1/images/KrisFace/markFace/original-96/315.png\n",
      "/home/jupyter/tutorials/fastai/course-v3/nbs/dl1/images/KrisFace/markFace/original-96/318.png\n",
      "/home/jupyter/tutorials/fastai/course-v3/nbs/dl1/images/KrisFace/markFace/original-96/217.png\n",
      "/home/jupyter/tutorials/fastai/course-v3/nbs/dl1/images/KrisFace/markFace/original-96/891.png\n",
      "/home/jupyter/tutorials/fastai/course-v3/nbs/dl1/images/KrisFace/markFace/original-96/634.png\n",
      "/home/jupyter/tutorials/fastai/course-v3/nbs/dl1/images/KrisFace/markFace/original-96/131.png\n",
      "/home/jupyter/tutorials/fastai/course-v3/nbs/dl1/images/KrisFace/markFace/original-96/292.png\n",
      "/home/jupyter/tutorials/fastai/course-v3/nbs/dl1/images/KrisFace/markFace/original-96/870.png\n",
      "/home/jupyter/tutorials/fastai/course-v3/nbs/dl1/images/KrisFace/markFace/original-96/478.png\n",
      "/home/jupyter/tutorials/fastai/course-v3/nbs/dl1/images/KrisFace/markFace/original-96/60.png\n",
      "/home/jupyter/tutorials/fastai/course-v3/nbs/dl1/images/KrisFace/markFace/original-96/84.png\n",
      "/home/jupyter/tutorials/fastai/course-v3/nbs/dl1/images/KrisFace/markFace/original-96/617.png\n",
      "/home/jupyter/tutorials/fastai/course-v3/nbs/dl1/images/KrisFace/markFace/original-96/897.png\n",
      "/home/jupyter/tutorials/fastai/course-v3/nbs/dl1/images/KrisFace/markFace/original-96/696.png\n",
      "/home/jupyter/tutorials/fastai/course-v3/nbs/dl1/images/KrisFace/markFace/original-96/534.png\n",
      "/home/jupyter/tutorials/fastai/course-v3/nbs/dl1/images/KrisFace/markFace/original-96/186.png\n",
      "/home/jupyter/tutorials/fastai/course-v3/nbs/dl1/images/KrisFace/markFace/original-96/766.png\n",
      "/home/jupyter/tutorials/fastai/course-v3/nbs/dl1/images/KrisFace/markFace/original-96/89.png\n",
      "/home/jupyter/tutorials/fastai/course-v3/nbs/dl1/images/KrisFace/markFace/original-96/389.png\n",
      "/home/jupyter/tutorials/fastai/course-v3/nbs/dl1/images/KrisFace/markFace/original-96/49.png\n",
      "/home/jupyter/tutorials/fastai/course-v3/nbs/dl1/images/KrisFace/markFace/original-96/432.png\n",
      "/home/jupyter/tutorials/fastai/course-v3/nbs/dl1/images/KrisFace/markFace/original-96/71.png\n",
      "/home/jupyter/tutorials/fastai/course-v3/nbs/dl1/images/KrisFace/markFace/original-96/550.png\n",
      "/home/jupyter/tutorials/fastai/course-v3/nbs/dl1/images/KrisFace/markFace/original-96/593.png\n",
      "/home/jupyter/tutorials/fastai/course-v3/nbs/dl1/images/KrisFace/markFace/original-96/220.png\n",
      "/home/jupyter/tutorials/fastai/course-v3/nbs/dl1/images/KrisFace/markFace/original-96/407.png\n",
      "/home/jupyter/tutorials/fastai/course-v3/nbs/dl1/images/KrisFace/markFace/original-96/572.png\n",
      "/home/jupyter/tutorials/fastai/course-v3/nbs/dl1/images/KrisFace/markFace/original-96/250.png\n",
      "/home/jupyter/tutorials/fastai/course-v3/nbs/dl1/images/KrisFace/markFace/original-96/461.png\n",
      "/home/jupyter/tutorials/fastai/course-v3/nbs/dl1/images/KrisFace/markFace/original-96/455.png\n",
      "/home/jupyter/tutorials/fastai/course-v3/nbs/dl1/images/KrisFace/markFace/original-96/483.png\n",
      "/home/jupyter/tutorials/fastai/course-v3/nbs/dl1/images/KrisFace/markFace/original-96/474.png\n",
      "/home/jupyter/tutorials/fastai/course-v3/nbs/dl1/images/KrisFace/markFace/original-96/13.png\n",
      "/home/jupyter/tutorials/fastai/course-v3/nbs/dl1/images/KrisFace/markFace/original-96/590.png\n",
      "/home/jupyter/tutorials/fastai/course-v3/nbs/dl1/images/KrisFace/markFace/original-96/247.png\n",
      "/home/jupyter/tutorials/fastai/course-v3/nbs/dl1/images/KrisFace/markFace/original-96/5.png\n",
      "/home/jupyter/tutorials/fastai/course-v3/nbs/dl1/images/KrisFace/markFace/original-96/521.png\n",
      "/home/jupyter/tutorials/fastai/course-v3/nbs/dl1/images/KrisFace/markFace/original-96/18.png\n",
      "/home/jupyter/tutorials/fastai/course-v3/nbs/dl1/images/KrisFace/markFace/original-96/902.png\n",
      "/home/jupyter/tutorials/fastai/course-v3/nbs/dl1/images/KrisFace/markFace/original-96/80.png\n",
      "/home/jupyter/tutorials/fastai/course-v3/nbs/dl1/images/KrisFace/markFace/original-96/487.png\n",
      "/home/jupyter/tutorials/fastai/course-v3/nbs/dl1/images/KrisFace/markFace/original-96/410.png\n",
      "/home/jupyter/tutorials/fastai/course-v3/nbs/dl1/images/KrisFace/markFace/original-96/115.png\n",
      "/home/jupyter/tutorials/fastai/course-v3/nbs/dl1/images/KrisFace/markFace/original-96/497.png\n",
      "/home/jupyter/tutorials/fastai/course-v3/nbs/dl1/images/KrisFace/markFace/original-96/543.png\n",
      "/home/jupyter/tutorials/fastai/course-v3/nbs/dl1/images/KrisFace/markFace/original-96/554.png\n",
      "/home/jupyter/tutorials/fastai/course-v3/nbs/dl1/images/KrisFace/markFace/original-96/100.png\n",
      "/home/jupyter/tutorials/fastai/course-v3/nbs/dl1/images/KrisFace/markFace/original-96/881.png\n",
      "/home/jupyter/tutorials/fastai/course-v3/nbs/dl1/images/KrisFace/markFace/original-96/896.png\n",
      "/home/jupyter/tutorials/fastai/course-v3/nbs/dl1/images/KrisFace/markFace/original-96/312.png\n",
      "/home/jupyter/tutorials/fastai/course-v3/nbs/dl1/images/KrisFace/markFace/original-96/825.png\n",
      "/home/jupyter/tutorials/fastai/course-v3/nbs/dl1/images/KrisFace/markFace/original-96/733.png\n",
      "/home/jupyter/tutorials/fastai/course-v3/nbs/dl1/images/KrisFace/markFace/original-96/540.png\n",
      "/home/jupyter/tutorials/fastai/course-v3/nbs/dl1/images/KrisFace/markFace/original-96/721.png\n",
      "/home/jupyter/tutorials/fastai/course-v3/nbs/dl1/images/KrisFace/markFace/original-96/109.png\n",
      "/home/jupyter/tutorials/fastai/course-v3/nbs/dl1/images/KrisFace/markFace/original-96/808.png\n",
      "/home/jupyter/tutorials/fastai/course-v3/nbs/dl1/images/KrisFace/markFace/original-96/449.png\n",
      "/home/jupyter/tutorials/fastai/course-v3/nbs/dl1/images/KrisFace/markFace/original-96/676.png\n",
      "/home/jupyter/tutorials/fastai/course-v3/nbs/dl1/images/KrisFace/markFace/original-96/301.png\n"
     ]
    },
    {
     "name": "stdout",
     "output_type": "stream",
     "text": [
      "/home/jupyter/tutorials/fastai/course-v3/nbs/dl1/images/KrisFace/markFace/original-96/735.png\n",
      "/home/jupyter/tutorials/fastai/course-v3/nbs/dl1/images/KrisFace/markFace/original-96/864.png\n",
      "/home/jupyter/tutorials/fastai/course-v3/nbs/dl1/images/KrisFace/markFace/original-96/175.png\n",
      "/home/jupyter/tutorials/fastai/course-v3/nbs/dl1/images/KrisFace/markFace/original-96/200.png\n",
      "/home/jupyter/tutorials/fastai/course-v3/nbs/dl1/images/KrisFace/markFace/original-96/296.png\n",
      "/home/jupyter/tutorials/fastai/course-v3/nbs/dl1/images/KrisFace/markFace/original-96/575.png\n",
      "/home/jupyter/tutorials/fastai/course-v3/nbs/dl1/images/KrisFace/markFace/original-96/113.png\n",
      "/home/jupyter/tutorials/fastai/course-v3/nbs/dl1/images/KrisFace/markFace/original-96/677.png\n",
      "/home/jupyter/tutorials/fastai/course-v3/nbs/dl1/images/KrisFace/markFace/original-96/191.png\n",
      "/home/jupyter/tutorials/fastai/course-v3/nbs/dl1/images/KrisFace/markFace/original-96/232.png\n",
      "/home/jupyter/tutorials/fastai/course-v3/nbs/dl1/images/KrisFace/markFace/original-96/8.png\n",
      "/home/jupyter/tutorials/fastai/course-v3/nbs/dl1/images/KrisFace/markFace/original-96/605.png\n",
      "/home/jupyter/tutorials/fastai/course-v3/nbs/dl1/images/KrisFace/markFace/original-96/563.png\n",
      "/home/jupyter/tutorials/fastai/course-v3/nbs/dl1/images/KrisFace/markFace/original-96/441.png\n",
      "/home/jupyter/tutorials/fastai/course-v3/nbs/dl1/images/KrisFace/markFace/original-96/625.png\n",
      "/home/jupyter/tutorials/fastai/course-v3/nbs/dl1/images/KrisFace/markFace/original-96/486.png\n",
      "/home/jupyter/tutorials/fastai/course-v3/nbs/dl1/images/KrisFace/markFace/original-96/856.png\n",
      "/home/jupyter/tutorials/fastai/course-v3/nbs/dl1/images/KrisFace/markFace/original-96/251.png\n",
      "/home/jupyter/tutorials/fastai/course-v3/nbs/dl1/images/KrisFace/markFace/original-96/574.png\n",
      "/home/jupyter/tutorials/fastai/course-v3/nbs/dl1/images/KrisFace/markFace/original-96/199.png\n",
      "/home/jupyter/tutorials/fastai/course-v3/nbs/dl1/images/KrisFace/markFace/original-96/717.png\n",
      "/home/jupyter/tutorials/fastai/course-v3/nbs/dl1/images/KrisFace/markFace/original-96/14.png\n",
      "/home/jupyter/tutorials/fastai/course-v3/nbs/dl1/images/KrisFace/markFace/original-96/320.png\n",
      "/home/jupyter/tutorials/fastai/course-v3/nbs/dl1/images/KrisFace/markFace/original-96/37.png\n",
      "/home/jupyter/tutorials/fastai/course-v3/nbs/dl1/images/KrisFace/markFace/original-96/899.png\n",
      "/home/jupyter/tutorials/fastai/course-v3/nbs/dl1/images/KrisFace/markFace/original-96/582.png\n",
      "/home/jupyter/tutorials/fastai/course-v3/nbs/dl1/images/KrisFace/markFace/original-96/464.png\n",
      "/home/jupyter/tutorials/fastai/course-v3/nbs/dl1/images/KrisFace/markFace/original-96/330.png\n",
      "/home/jupyter/tutorials/fastai/course-v3/nbs/dl1/images/KrisFace/markFace/original-96/541.png\n",
      "/home/jupyter/tutorials/fastai/course-v3/nbs/dl1/images/KrisFace/markFace/original-96/588.png\n",
      "/home/jupyter/tutorials/fastai/course-v3/nbs/dl1/images/KrisFace/markFace/original-96/481.png\n",
      "/home/jupyter/tutorials/fastai/course-v3/nbs/dl1/images/KrisFace/markFace/original-96/117.png\n",
      "/home/jupyter/tutorials/fastai/course-v3/nbs/dl1/images/KrisFace/markFace/original-96/108.png\n",
      "/home/jupyter/tutorials/fastai/course-v3/nbs/dl1/images/KrisFace/markFace/original-96/796.png\n",
      "/home/jupyter/tutorials/fastai/course-v3/nbs/dl1/images/KrisFace/markFace/original-96/393.png\n",
      "/home/jupyter/tutorials/fastai/course-v3/nbs/dl1/images/KrisFace/markFace/original-96/427.png\n",
      "/home/jupyter/tutorials/fastai/course-v3/nbs/dl1/images/KrisFace/markFace/original-96/649.png\n",
      "/home/jupyter/tutorials/fastai/course-v3/nbs/dl1/images/KrisFace/markFace/original-96/456.png\n",
      "/home/jupyter/tutorials/fastai/course-v3/nbs/dl1/images/KrisFace/markFace/original-96/459.png\n",
      "/home/jupyter/tutorials/fastai/course-v3/nbs/dl1/images/KrisFace/markFace/original-96/285.png\n",
      "/home/jupyter/tutorials/fastai/course-v3/nbs/dl1/images/KrisFace/markFace/original-96/431.png\n",
      "/home/jupyter/tutorials/fastai/course-v3/nbs/dl1/images/KrisFace/markFace/original-96/204.png\n",
      "/home/jupyter/tutorials/fastai/course-v3/nbs/dl1/images/KrisFace/markFace/original-96/180.png\n",
      "/home/jupyter/tutorials/fastai/course-v3/nbs/dl1/images/KrisFace/markFace/original-96/235.png\n",
      "/home/jupyter/tutorials/fastai/course-v3/nbs/dl1/images/KrisFace/markFace/original-96/325.png\n",
      "/home/jupyter/tutorials/fastai/course-v3/nbs/dl1/images/KrisFace/markFace/original-96/75.png\n",
      "/home/jupyter/tutorials/fastai/course-v3/nbs/dl1/images/KrisFace/markFace/original-96/670.png\n",
      "/home/jupyter/tutorials/fastai/course-v3/nbs/dl1/images/KrisFace/markFace/original-96/185.png\n",
      "/home/jupyter/tutorials/fastai/course-v3/nbs/dl1/images/KrisFace/markFace/original-96/99.png\n",
      "/home/jupyter/tutorials/fastai/course-v3/nbs/dl1/images/KrisFace/markFace/original-96/385.png\n",
      "/home/jupyter/tutorials/fastai/course-v3/nbs/dl1/images/KrisFace/markFace/original-96/629.png\n",
      "/home/jupyter/tutorials/fastai/course-v3/nbs/dl1/images/KrisFace/markFace/original-96/566.png\n",
      "/home/jupyter/tutorials/fastai/course-v3/nbs/dl1/images/KrisFace/markFace/original-96/653.png\n",
      "/home/jupyter/tutorials/fastai/course-v3/nbs/dl1/images/KrisFace/markFace/original-96/378.png\n",
      "/home/jupyter/tutorials/fastai/course-v3/nbs/dl1/images/KrisFace/markFace/original-96/122.png\n",
      "/home/jupyter/tutorials/fastai/course-v3/nbs/dl1/images/KrisFace/markFace/original-96/366.png\n",
      "/home/jupyter/tutorials/fastai/course-v3/nbs/dl1/images/KrisFace/markFace/original-96/820.png\n",
      "/home/jupyter/tutorials/fastai/course-v3/nbs/dl1/images/KrisFace/markFace/original-96/761.png\n",
      "/home/jupyter/tutorials/fastai/course-v3/nbs/dl1/images/KrisFace/markFace/original-96/480.png\n",
      "/home/jupyter/tutorials/fastai/course-v3/nbs/dl1/images/KrisFace/markFace/original-96/462.png\n",
      "/home/jupyter/tutorials/fastai/course-v3/nbs/dl1/images/KrisFace/markFace/original-96/875.png\n",
      "/home/jupyter/tutorials/fastai/course-v3/nbs/dl1/images/KrisFace/markFace/original-96/134.png\n",
      "/home/jupyter/tutorials/fastai/course-v3/nbs/dl1/images/KrisFace/markFace/original-96/725.png\n",
      "/home/jupyter/tutorials/fastai/course-v3/nbs/dl1/images/KrisFace/markFace/original-96/712.png\n",
      "/home/jupyter/tutorials/fastai/course-v3/nbs/dl1/images/KrisFace/markFace/original-96/768.png\n",
      "/home/jupyter/tutorials/fastai/course-v3/nbs/dl1/images/KrisFace/markFace/original-96/647.png\n",
      "/home/jupyter/tutorials/fastai/course-v3/nbs/dl1/images/KrisFace/markFace/original-96/465.png\n",
      "/home/jupyter/tutorials/fastai/course-v3/nbs/dl1/images/KrisFace/markFace/original-96/857.png\n",
      "/home/jupyter/tutorials/fastai/course-v3/nbs/dl1/images/KrisFace/markFace/original-96/616.png\n",
      "/home/jupyter/tutorials/fastai/course-v3/nbs/dl1/images/KrisFace/markFace/original-96/794.png\n",
      "/home/jupyter/tutorials/fastai/course-v3/nbs/dl1/images/KrisFace/markFace/original-96/141.png\n",
      "/home/jupyter/tutorials/fastai/course-v3/nbs/dl1/images/KrisFace/markFace/original-96/51.png\n",
      "/home/jupyter/tutorials/fastai/course-v3/nbs/dl1/images/KrisFace/markFace/original-96/581.png\n",
      "/home/jupyter/tutorials/fastai/course-v3/nbs/dl1/images/KrisFace/markFace/original-96/152.png\n",
      "/home/jupyter/tutorials/fastai/course-v3/nbs/dl1/images/KrisFace/markFace/original-96/613.png\n",
      "/home/jupyter/tutorials/fastai/course-v3/nbs/dl1/images/KrisFace/markFace/original-96/138.png\n",
      "/home/jupyter/tutorials/fastai/course-v3/nbs/dl1/images/KrisFace/markFace/original-96/663.png\n",
      "/home/jupyter/tutorials/fastai/course-v3/nbs/dl1/images/KrisFace/markFace/original-96/731.png\n",
      "/home/jupyter/tutorials/fastai/course-v3/nbs/dl1/images/KrisFace/markFace/original-96/654.png\n",
      "/home/jupyter/tutorials/fastai/course-v3/nbs/dl1/images/KrisFace/markFace/original-96/777.png\n",
      "/home/jupyter/tutorials/fastai/course-v3/nbs/dl1/images/KrisFace/markFace/original-96/403.png\n",
      "/home/jupyter/tutorials/fastai/course-v3/nbs/dl1/images/KrisFace/markFace/original-96/646.png\n",
      "/home/jupyter/tutorials/fastai/course-v3/nbs/dl1/images/KrisFace/markFace/original-96/4.png\n",
      "/home/jupyter/tutorials/fastai/course-v3/nbs/dl1/images/KrisFace/markFace/original-96/608.png\n",
      "/home/jupyter/tutorials/fastai/course-v3/nbs/dl1/images/KrisFace/markFace/original-96/781.png\n",
      "/home/jupyter/tutorials/fastai/course-v3/nbs/dl1/images/KrisFace/markFace/original-96/339.png\n",
      "/home/jupyter/tutorials/fastai/course-v3/nbs/dl1/images/KrisFace/markFace/original-96/672.png\n",
      "/home/jupyter/tutorials/fastai/course-v3/nbs/dl1/images/KrisFace/markFace/original-96/368.png\n"
     ]
    },
    {
     "name": "stdout",
     "output_type": "stream",
     "text": [
      "/home/jupyter/tutorials/fastai/course-v3/nbs/dl1/images/KrisFace/markFace/original-96/35.png\n",
      "/home/jupyter/tutorials/fastai/course-v3/nbs/dl1/images/KrisFace/markFace/original-96/190.png\n",
      "/home/jupyter/tutorials/fastai/course-v3/nbs/dl1/images/KrisFace/markFace/original-96/272.png\n",
      "/home/jupyter/tutorials/fastai/course-v3/nbs/dl1/images/KrisFace/markFace/original-96/732.png\n",
      "/home/jupyter/tutorials/fastai/course-v3/nbs/dl1/images/KrisFace/markFace/original-96/305.png\n",
      "/home/jupyter/tutorials/fastai/course-v3/nbs/dl1/images/KrisFace/markFace/original-96/82.png\n",
      "/home/jupyter/tutorials/fastai/course-v3/nbs/dl1/images/KrisFace/markFace/original-96/11.png\n",
      "/home/jupyter/tutorials/fastai/course-v3/nbs/dl1/images/KrisFace/markFace/original-96/277.png\n",
      "/home/jupyter/tutorials/fastai/course-v3/nbs/dl1/images/KrisFace/markFace/original-96/489.png\n",
      "/home/jupyter/tutorials/fastai/course-v3/nbs/dl1/images/KrisFace/markFace/original-96/406.png\n",
      "/home/jupyter/tutorials/fastai/course-v3/nbs/dl1/images/KrisFace/markFace/original-96/824.png\n",
      "/home/jupyter/tutorials/fastai/course-v3/nbs/dl1/images/KrisFace/markFace/original-96/356.png\n",
      "/home/jupyter/tutorials/fastai/course-v3/nbs/dl1/images/KrisFace/markFace/original-96/774.png\n",
      "/home/jupyter/tutorials/fastai/course-v3/nbs/dl1/images/KrisFace/markFace/original-96/56.png\n",
      "/home/jupyter/tutorials/fastai/course-v3/nbs/dl1/images/KrisFace/markFace/original-96/380.png\n",
      "/home/jupyter/tutorials/fastai/course-v3/nbs/dl1/images/KrisFace/markFace/original-96/659.png\n",
      "/home/jupyter/tutorials/fastai/course-v3/nbs/dl1/images/KrisFace/markFace/original-96/476.png\n",
      "/home/jupyter/tutorials/fastai/course-v3/nbs/dl1/images/KrisFace/markFace/original-96/871.png\n",
      "/home/jupyter/tutorials/fastai/course-v3/nbs/dl1/images/KrisFace/markFace/original-96/542.png\n",
      "/home/jupyter/tutorials/fastai/course-v3/nbs/dl1/images/KrisFace/markFace/original-96/371.png\n",
      "/home/jupyter/tutorials/fastai/course-v3/nbs/dl1/images/KrisFace/markFace/original-96/1.png\n",
      "/home/jupyter/tutorials/fastai/course-v3/nbs/dl1/images/KrisFace/markFace/original-96/413.png\n",
      "/home/jupyter/tutorials/fastai/course-v3/nbs/dl1/images/KrisFace/markFace/original-96/685.png\n",
      "/home/jupyter/tutorials/fastai/course-v3/nbs/dl1/images/KrisFace/markFace/original-96/671.png\n",
      "/home/jupyter/tutorials/fastai/course-v3/nbs/dl1/images/KrisFace/markFace/original-96/631.png\n",
      "/home/jupyter/tutorials/fastai/course-v3/nbs/dl1/images/KrisFace/markFace/original-96/326.png\n",
      "/home/jupyter/tutorials/fastai/course-v3/nbs/dl1/images/KrisFace/markFace/original-96/228.png\n",
      "/home/jupyter/tutorials/fastai/course-v3/nbs/dl1/images/KrisFace/markFace/original-96/208.png\n",
      "/home/jupyter/tutorials/fastai/course-v3/nbs/dl1/images/KrisFace/markFace/original-96/54.png\n",
      "/home/jupyter/tutorials/fastai/course-v3/nbs/dl1/images/KrisFace/markFace/original-96/568.png\n",
      "/home/jupyter/tutorials/fastai/course-v3/nbs/dl1/images/KrisFace/markFace/original-96/422.png\n",
      "/home/jupyter/tutorials/fastai/course-v3/nbs/dl1/images/KrisFace/markFace/original-96/494.png\n",
      "/home/jupyter/tutorials/fastai/course-v3/nbs/dl1/images/KrisFace/markFace/original-96/174.png\n",
      "/home/jupyter/tutorials/fastai/course-v3/nbs/dl1/images/KrisFace/markFace/original-96/522.png\n",
      "/home/jupyter/tutorials/fastai/course-v3/nbs/dl1/images/KrisFace/markFace/original-96/615.png\n",
      "/home/jupyter/tutorials/fastai/course-v3/nbs/dl1/images/KrisFace/markFace/original-96/502.png\n",
      "/home/jupyter/tutorials/fastai/course-v3/nbs/dl1/images/KrisFace/markFace/original-96/804.png\n",
      "/home/jupyter/tutorials/fastai/course-v3/nbs/dl1/images/KrisFace/markFace/original-96/394.png\n",
      "/home/jupyter/tutorials/fastai/course-v3/nbs/dl1/images/KrisFace/markFace/original-96/843.png\n",
      "/home/jupyter/tutorials/fastai/course-v3/nbs/dl1/images/KrisFace/markFace/original-96/666.png\n",
      "/home/jupyter/tutorials/fastai/course-v3/nbs/dl1/images/KrisFace/markFace/original-96/869.png\n",
      "/home/jupyter/tutorials/fastai/course-v3/nbs/dl1/images/KrisFace/markFace/original-96/348.png\n",
      "/home/jupyter/tutorials/fastai/course-v3/nbs/dl1/images/KrisFace/markFace/original-96/836.png\n",
      "/home/jupyter/tutorials/fastai/course-v3/nbs/dl1/images/KrisFace/markFace/original-96/233.png\n",
      "/home/jupyter/tutorials/fastai/course-v3/nbs/dl1/images/KrisFace/markFace/original-96/602.png\n",
      "/home/jupyter/tutorials/fastai/course-v3/nbs/dl1/images/KrisFace/markFace/original-96/801.png\n",
      "/home/jupyter/tutorials/fastai/course-v3/nbs/dl1/images/KrisFace/markFace/original-96/227.png\n",
      "/home/jupyter/tutorials/fastai/course-v3/nbs/dl1/images/KrisFace/markFace/original-96/879.png\n",
      "/home/jupyter/tutorials/fastai/course-v3/nbs/dl1/images/KrisFace/markFace/original-96/810.png\n",
      "/home/jupyter/tutorials/fastai/course-v3/nbs/dl1/images/KrisFace/markFace/original-96/268.png\n",
      "/home/jupyter/tutorials/fastai/course-v3/nbs/dl1/images/KrisFace/markFace/original-96/767.png\n",
      "/home/jupyter/tutorials/fastai/course-v3/nbs/dl1/images/KrisFace/markFace/original-96/249.png\n",
      "/home/jupyter/tutorials/fastai/course-v3/nbs/dl1/images/KrisFace/markFace/original-96/172.png\n",
      "/home/jupyter/tutorials/fastai/course-v3/nbs/dl1/images/KrisFace/markFace/original-96/802.png\n",
      "/home/jupyter/tutorials/fastai/course-v3/nbs/dl1/images/KrisFace/markFace/original-96/354.png\n",
      "/home/jupyter/tutorials/fastai/course-v3/nbs/dl1/images/KrisFace/markFace/original-96/682.png\n",
      "/home/jupyter/tutorials/fastai/course-v3/nbs/dl1/images/KrisFace/markFace/original-96/41.png\n",
      "/home/jupyter/tutorials/fastai/course-v3/nbs/dl1/images/KrisFace/markFace/original-96/855.png\n",
      "/home/jupyter/tutorials/fastai/course-v3/nbs/dl1/images/KrisFace/markFace/original-96/706.png\n",
      "/home/jupyter/tutorials/fastai/course-v3/nbs/dl1/images/KrisFace/markFace/original-96/624.png\n",
      "/home/jupyter/tutorials/fastai/course-v3/nbs/dl1/images/KrisFace/markFace/original-96/635.png\n",
      "/home/jupyter/tutorials/fastai/course-v3/nbs/dl1/images/KrisFace/markFace/original-96/847.png\n",
      "/home/jupyter/tutorials/fastai/course-v3/nbs/dl1/images/KrisFace/markFace/original-96/597.png\n",
      "/home/jupyter/tutorials/fastai/course-v3/nbs/dl1/images/KrisFace/markFace/original-96/507.png\n",
      "/home/jupyter/tutorials/fastai/course-v3/nbs/dl1/images/KrisFace/markFace/original-96/754.png\n",
      "/home/jupyter/tutorials/fastai/course-v3/nbs/dl1/images/KrisFace/markFace/original-96/310.png\n",
      "/home/jupyter/tutorials/fastai/course-v3/nbs/dl1/images/KrisFace/markFace/original-96/230.png\n",
      "/home/jupyter/tutorials/fastai/course-v3/nbs/dl1/images/KrisFace/markFace/original-96/118.png\n",
      "/home/jupyter/tutorials/fastai/course-v3/nbs/dl1/images/KrisFace/markFace/original-96/155.png\n",
      "/home/jupyter/tutorials/fastai/course-v3/nbs/dl1/images/KrisFace/markFace/original-96/414.png\n",
      "/home/jupyter/tutorials/fastai/course-v3/nbs/dl1/images/KrisFace/markFace/original-96/604.png\n",
      "/home/jupyter/tutorials/fastai/course-v3/nbs/dl1/images/KrisFace/markFace/original-96/576.png\n",
      "/home/jupyter/tutorials/fastai/course-v3/nbs/dl1/images/KrisFace/markFace/original-96/477.png\n",
      "/home/jupyter/tutorials/fastai/course-v3/nbs/dl1/images/KrisFace/markFace/original-96/137.png\n",
      "/home/jupyter/tutorials/fastai/course-v3/nbs/dl1/images/KrisFace/markFace/original-96/372.png\n",
      "/home/jupyter/tutorials/fastai/course-v3/nbs/dl1/images/KrisFace/markFace/original-96/270.png\n",
      "/home/jupyter/tutorials/fastai/course-v3/nbs/dl1/images/KrisFace/markFace/original-96/39.png\n",
      "/home/jupyter/tutorials/fastai/course-v3/nbs/dl1/images/KrisFace/markFace/original-96/655.png\n",
      "/home/jupyter/tutorials/fastai/course-v3/nbs/dl1/images/KrisFace/markFace/original-96/28.png\n",
      "/home/jupyter/tutorials/fastai/course-v3/nbs/dl1/images/KrisFace/markFace/original-96/222.png\n",
      "/home/jupyter/tutorials/fastai/course-v3/nbs/dl1/images/KrisFace/markFace/original-96/510.png\n",
      "/home/jupyter/tutorials/fastai/course-v3/nbs/dl1/images/KrisFace/markFace/original-96/490.png\n",
      "/home/jupyter/tutorials/fastai/course-v3/nbs/dl1/images/KrisFace/markFace/original-96/344.png\n",
      "/home/jupyter/tutorials/fastai/course-v3/nbs/dl1/images/KrisFace/markFace/original-96/289.png\n",
      "/home/jupyter/tutorials/fastai/course-v3/nbs/dl1/images/KrisFace/markFace/original-96/787.png\n",
      "/home/jupyter/tutorials/fastai/course-v3/nbs/dl1/images/KrisFace/markFace/original-96/865.png\n",
      "/home/jupyter/tutorials/fastai/course-v3/nbs/dl1/images/KrisFace/markFace/original-96/495.png\n",
      "/home/jupyter/tutorials/fastai/course-v3/nbs/dl1/images/KrisFace/markFace/original-96/201.png\n"
     ]
    },
    {
     "name": "stdout",
     "output_type": "stream",
     "text": [
      "/home/jupyter/tutorials/fastai/course-v3/nbs/dl1/images/KrisFace/markFace/original-96/194.png\n",
      "/home/jupyter/tutorials/fastai/course-v3/nbs/dl1/images/KrisFace/markFace/original-96/791.png\n",
      "/home/jupyter/tutorials/fastai/course-v3/nbs/dl1/images/KrisFace/markFace/original-96/851.png\n",
      "/home/jupyter/tutorials/fastai/course-v3/nbs/dl1/images/KrisFace/markFace/original-96/538.png\n",
      "/home/jupyter/tutorials/fastai/course-v3/nbs/dl1/images/KrisFace/markFace/original-96/388.png\n",
      "/home/jupyter/tutorials/fastai/course-v3/nbs/dl1/images/KrisFace/markFace/original-96/219.png\n",
      "/home/jupyter/tutorials/fastai/course-v3/nbs/dl1/images/KrisFace/markFace/original-96/680.png\n",
      "/home/jupyter/tutorials/fastai/course-v3/nbs/dl1/images/KrisFace/markFace/original-96/720.png\n",
      "/home/jupyter/tutorials/fastai/course-v3/nbs/dl1/images/KrisFace/markFace/original-96/536.png\n",
      "/home/jupyter/tutorials/fastai/course-v3/nbs/dl1/images/KrisFace/markFace/original-96/482.png\n",
      "/home/jupyter/tutorials/fastai/course-v3/nbs/dl1/images/KrisFace/markFace/original-96/350.png\n",
      "/home/jupyter/tutorials/fastai/course-v3/nbs/dl1/images/KrisFace/markFace/original-96/500.png\n",
      "/home/jupyter/tutorials/fastai/course-v3/nbs/dl1/images/KrisFace/markFace/original-96/23.png\n",
      "/home/jupyter/tutorials/fastai/course-v3/nbs/dl1/images/KrisFace/markFace/original-96/144.png\n",
      "/home/jupyter/tutorials/fastai/course-v3/nbs/dl1/images/KrisFace/markFace/original-96/630.png\n",
      "/home/jupyter/tutorials/fastai/course-v3/nbs/dl1/images/KrisFace/markFace/original-96/793.png\n",
      "/home/jupyter/tutorials/fastai/course-v3/nbs/dl1/images/KrisFace/markFace/original-96/714.png\n",
      "/home/jupyter/tutorials/fastai/course-v3/nbs/dl1/images/KrisFace/markFace/original-96/391.png\n",
      "/home/jupyter/tutorials/fastai/course-v3/nbs/dl1/images/KrisFace/markFace/original-96/346.png\n",
      "/home/jupyter/tutorials/fastai/course-v3/nbs/dl1/images/KrisFace/markFace/original-96/447.png\n",
      "/home/jupyter/tutorials/fastai/course-v3/nbs/dl1/images/KrisFace/markFace/original-96/498.png\n",
      "/home/jupyter/tutorials/fastai/course-v3/nbs/dl1/images/KrisFace/markFace/original-96/745.png\n",
      "/home/jupyter/tutorials/fastai/course-v3/nbs/dl1/images/KrisFace/markFace/original-96/59.png\n",
      "/home/jupyter/tutorials/fastai/course-v3/nbs/dl1/images/KrisFace/markFace/original-96/818.png\n",
      "/home/jupyter/tutorials/fastai/course-v3/nbs/dl1/images/KrisFace/markFace/original-96/479.png\n",
      "/home/jupyter/tutorials/fastai/course-v3/nbs/dl1/images/KrisFace/markFace/original-96/74.png\n",
      "/home/jupyter/tutorials/fastai/course-v3/nbs/dl1/images/KrisFace/markFace/original-96/311.png\n",
      "/home/jupyter/tutorials/fastai/course-v3/nbs/dl1/images/KrisFace/markFace/original-96/900.png\n",
      "/home/jupyter/tutorials/fastai/course-v3/nbs/dl1/images/KrisFace/markFace/original-96/314.png\n",
      "/home/jupyter/tutorials/fastai/course-v3/nbs/dl1/images/KrisFace/markFace/original-96/557.png\n",
      "/home/jupyter/tutorials/fastai/course-v3/nbs/dl1/images/KrisFace/markFace/original-96/400.png\n",
      "/home/jupyter/tutorials/fastai/course-v3/nbs/dl1/images/KrisFace/markFace/original-96/258.png\n",
      "/home/jupyter/tutorials/fastai/course-v3/nbs/dl1/images/KrisFace/markFace/original-96/362.png\n",
      "/home/jupyter/tutorials/fastai/course-v3/nbs/dl1/images/KrisFace/markFace/original-96/882.png\n",
      "/home/jupyter/tutorials/fastai/course-v3/nbs/dl1/images/KrisFace/markFace/original-96/392.png\n",
      "/home/jupyter/tutorials/fastai/course-v3/nbs/dl1/images/KrisFace/markFace/original-96/759.png\n",
      "/home/jupyter/tutorials/fastai/course-v3/nbs/dl1/images/KrisFace/markFace/original-96/799.png\n",
      "/home/jupyter/tutorials/fastai/course-v3/nbs/dl1/images/KrisFace/markFace/original-96/2.png\n",
      "/home/jupyter/tutorials/fastai/course-v3/nbs/dl1/images/KrisFace/markFace/original-96/336.png\n",
      "/home/jupyter/tutorials/fastai/course-v3/nbs/dl1/images/KrisFace/markFace/original-96/730.png\n",
      "/home/jupyter/tutorials/fastai/course-v3/nbs/dl1/images/KrisFace/markFace/original-96/47.png\n",
      "/home/jupyter/tutorials/fastai/course-v3/nbs/dl1/images/KrisFace/markFace/original-96/639.png\n",
      "/home/jupyter/tutorials/fastai/course-v3/nbs/dl1/images/KrisFace/markFace/original-96/620.png\n",
      "/home/jupyter/tutorials/fastai/course-v3/nbs/dl1/images/KrisFace/markFace/original-96/785.png\n",
      "/home/jupyter/tutorials/fastai/course-v3/nbs/dl1/images/KrisFace/markFace/original-96/738.png\n",
      "/home/jupyter/tutorials/fastai/course-v3/nbs/dl1/images/KrisFace/markFace/original-96/98.png\n",
      "/home/jupyter/tutorials/fastai/course-v3/nbs/dl1/images/KrisFace/markFace/original-96/751.png\n",
      "/home/jupyter/tutorials/fastai/course-v3/nbs/dl1/images/KrisFace/markFace/original-96/587.png\n",
      "/home/jupyter/tutorials/fastai/course-v3/nbs/dl1/images/KrisFace/markFace/original-96/758.png\n",
      "/home/jupyter/tutorials/fastai/course-v3/nbs/dl1/images/KrisFace/markFace/original-96/827.png\n",
      "/home/jupyter/tutorials/fastai/course-v3/nbs/dl1/images/KrisFace/markFace/original-96/369.png\n",
      "/home/jupyter/tutorials/fastai/course-v3/nbs/dl1/images/KrisFace/markFace/original-96/16.png\n",
      "/home/jupyter/tutorials/fastai/course-v3/nbs/dl1/images/KrisFace/markFace/original-96/395.png\n",
      "/home/jupyter/tutorials/fastai/course-v3/nbs/dl1/images/KrisFace/markFace/original-96/162.png\n",
      "/home/jupyter/tutorials/fastai/course-v3/nbs/dl1/images/KrisFace/markFace/original-96/876.png\n",
      "/home/jupyter/tutorials/fastai/course-v3/nbs/dl1/images/KrisFace/markFace/original-96/333.png\n",
      "/home/jupyter/tutorials/fastai/course-v3/nbs/dl1/images/KrisFace/markFace/original-96/748.png\n",
      "/home/jupyter/tutorials/fastai/course-v3/nbs/dl1/images/KrisFace/markFace/original-96/147.png\n",
      "/home/jupyter/tutorials/fastai/course-v3/nbs/dl1/images/KrisFace/markFace/original-96/383.png\n",
      "/home/jupyter/tutorials/fastai/course-v3/nbs/dl1/images/KrisFace/markFace/original-96/815.png\n",
      "/home/jupyter/tutorials/fastai/course-v3/nbs/dl1/images/KrisFace/markFace/original-96/253.png\n",
      "/home/jupyter/tutorials/fastai/course-v3/nbs/dl1/images/KrisFace/markFace/original-96/669.png\n",
      "/home/jupyter/tutorials/fastai/course-v3/nbs/dl1/images/KrisFace/markFace/original-96/176.png\n",
      "/home/jupyter/tutorials/fastai/course-v3/nbs/dl1/images/KrisFace/markFace/original-96/226.png\n",
      "/home/jupyter/tutorials/fastai/course-v3/nbs/dl1/images/KrisFace/markFace/original-96/337.png\n",
      "/home/jupyter/tutorials/fastai/course-v3/nbs/dl1/images/KrisFace/markFace/original-96/886.png\n",
      "/home/jupyter/tutorials/fastai/course-v3/nbs/dl1/images/KrisFace/markFace/original-96/703.png\n",
      "/home/jupyter/tutorials/fastai/course-v3/nbs/dl1/images/KrisFace/markFace/original-96/140.png\n",
      "/home/jupyter/tutorials/fastai/course-v3/nbs/dl1/images/KrisFace/markFace/original-96/423.png\n",
      "/home/jupyter/tutorials/fastai/course-v3/nbs/dl1/images/KrisFace/markFace/original-96/290.png\n",
      "/home/jupyter/tutorials/fastai/course-v3/nbs/dl1/images/KrisFace/markFace/original-96/29.png\n",
      "/home/jupyter/tutorials/fastai/course-v3/nbs/dl1/images/KrisFace/markFace/original-96/127.png\n",
      "/home/jupyter/tutorials/fastai/course-v3/nbs/dl1/images/KrisFace/markFace/original-96/269.png\n",
      "/home/jupyter/tutorials/fastai/course-v3/nbs/dl1/images/KrisFace/markFace/original-96/446.png\n",
      "/home/jupyter/tutorials/fastai/course-v3/nbs/dl1/images/KrisFace/markFace/original-96/207.png\n",
      "/home/jupyter/tutorials/fastai/course-v3/nbs/dl1/images/KrisFace/markFace/original-96/381.png\n",
      "/home/jupyter/tutorials/fastai/course-v3/nbs/dl1/images/KrisFace/markFace/original-96/10.png\n",
      "/home/jupyter/tutorials/fastai/course-v3/nbs/dl1/images/KrisFace/markFace/original-96/205.png\n",
      "/home/jupyter/tutorials/fastai/course-v3/nbs/dl1/images/KrisFace/markFace/original-96/124.png\n",
      "/home/jupyter/tutorials/fastai/course-v3/nbs/dl1/images/KrisFace/markFace/original-96/750.png\n",
      "/home/jupyter/tutorials/fastai/course-v3/nbs/dl1/images/KrisFace/markFace/original-96/77.png\n",
      "/home/jupyter/tutorials/fastai/course-v3/nbs/dl1/images/KrisFace/markFace/original-96/308.png\n",
      "/home/jupyter/tutorials/fastai/course-v3/nbs/dl1/images/KrisFace/markFace/original-96/744.png\n",
      "/home/jupyter/tutorials/fastai/course-v3/nbs/dl1/images/KrisFace/markFace/original-96/518.png\n",
      "/home/jupyter/tutorials/fastai/course-v3/nbs/dl1/images/KrisFace/markFace/original-96/419.png\n",
      "/home/jupyter/tutorials/fastai/course-v3/nbs/dl1/images/KrisFace/markFace/original-96/229.png\n",
      "/home/jupyter/tutorials/fastai/course-v3/nbs/dl1/images/KrisFace/markFace/original-96/40.png\n",
      "/home/jupyter/tutorials/fastai/course-v3/nbs/dl1/images/KrisFace/markFace/original-96/327.png\n"
     ]
    },
    {
     "name": "stdout",
     "output_type": "stream",
     "text": [
      "/home/jupyter/tutorials/fastai/course-v3/nbs/dl1/images/KrisFace/markFace/original-96/193.png\n",
      "/home/jupyter/tutorials/fastai/course-v3/nbs/dl1/images/KrisFace/markFace/original-96/347.png\n",
      "/home/jupyter/tutorials/fastai/course-v3/nbs/dl1/images/KrisFace/markFace/original-96/53.png\n",
      "/home/jupyter/tutorials/fastai/course-v3/nbs/dl1/images/KrisFace/markFace/original-96/505.png\n",
      "/home/jupyter/tutorials/fastai/course-v3/nbs/dl1/images/KrisFace/markFace/original-96/747.png\n",
      "/home/jupyter/tutorials/fastai/course-v3/nbs/dl1/images/KrisFace/markFace/original-96/307.png\n",
      "/home/jupyter/tutorials/fastai/course-v3/nbs/dl1/images/KrisFace/markFace/original-96/91.png\n",
      "/home/jupyter/tutorials/fastai/course-v3/nbs/dl1/images/KrisFace/markFace/original-96/149.png\n",
      "/home/jupyter/tutorials/fastai/course-v3/nbs/dl1/images/KrisFace/markFace/original-96/69.png\n",
      "/home/jupyter/tutorials/fastai/course-v3/nbs/dl1/images/KrisFace/markFace/original-96/66.png\n",
      "/home/jupyter/tutorials/fastai/course-v3/nbs/dl1/images/KrisFace/markFace/original-96/259.png\n",
      "/home/jupyter/tutorials/fastai/course-v3/nbs/dl1/images/KrisFace/markFace/original-96/224.png\n",
      "/home/jupyter/tutorials/fastai/course-v3/nbs/dl1/images/KrisFace/markFace/original-96/161.png\n",
      "/home/jupyter/tutorials/fastai/course-v3/nbs/dl1/images/KrisFace/markFace/original-96/188.png\n",
      "/home/jupyter/tutorials/fastai/course-v3/nbs/dl1/images/KrisFace/markFace/original-96/621.png\n",
      "/home/jupyter/tutorials/fastai/course-v3/nbs/dl1/images/KrisFace/markFace/original-96/571.png\n",
      "/home/jupyter/tutorials/fastai/course-v3/nbs/dl1/images/KrisFace/markFace/original-96/723.png\n",
      "/home/jupyter/tutorials/fastai/course-v3/nbs/dl1/images/KrisFace/markFace/original-96/471.png\n",
      "/home/jupyter/tutorials/fastai/course-v3/nbs/dl1/images/KrisFace/markFace/original-96/729.png\n",
      "/home/jupyter/tutorials/fastai/course-v3/nbs/dl1/images/KrisFace/markFace/original-96/64.png\n",
      "/home/jupyter/tutorials/fastai/course-v3/nbs/dl1/images/KrisFace/markFace/original-96/475.png\n",
      "/home/jupyter/tutorials/fastai/course-v3/nbs/dl1/images/KrisFace/markFace/original-96/231.png\n",
      "/home/jupyter/tutorials/fastai/course-v3/nbs/dl1/images/KrisFace/markFace/original-96/72.png\n",
      "/home/jupyter/tutorials/fastai/course-v3/nbs/dl1/images/KrisFace/markFace/original-96/598.png\n",
      "/home/jupyter/tutorials/fastai/course-v3/nbs/dl1/images/KrisFace/markFace/original-96/775.png\n",
      "/home/jupyter/tutorials/fastai/course-v3/nbs/dl1/images/KrisFace/markFace/original-96/116.png\n",
      "/home/jupyter/tutorials/fastai/course-v3/nbs/dl1/images/KrisFace/markFace/original-96/583.png\n",
      "/home/jupyter/tutorials/fastai/course-v3/nbs/dl1/images/KrisFace/markFace/original-96/95.png\n",
      "/home/jupyter/tutorials/fastai/course-v3/nbs/dl1/images/KrisFace/markFace/original-96/778.png\n",
      "/home/jupyter/tutorials/fastai/course-v3/nbs/dl1/images/KrisFace/markFace/original-96/236.png\n",
      "/home/jupyter/tutorials/fastai/course-v3/nbs/dl1/images/KrisFace/markFace/original-96/397.png\n",
      "/home/jupyter/tutorials/fastai/course-v3/nbs/dl1/images/KrisFace/markFace/original-96/96.png\n",
      "/home/jupyter/tutorials/fastai/course-v3/nbs/dl1/images/KrisFace/markFace/original-96/353.png\n",
      "/home/jupyter/tutorials/fastai/course-v3/nbs/dl1/images/KrisFace/markFace/original-96/379.png\n",
      "/home/jupyter/tutorials/fastai/course-v3/nbs/dl1/images/KrisFace/markFace/original-96/662.png\n",
      "/home/jupyter/tutorials/fastai/course-v3/nbs/dl1/images/KrisFace/markFace/original-96/746.png\n",
      "/home/jupyter/tutorials/fastai/course-v3/nbs/dl1/images/KrisFace/markFace/original-96/287.png\n",
      "/home/jupyter/tutorials/fastai/course-v3/nbs/dl1/images/KrisFace/markFace/original-96/254.png\n",
      "/home/jupyter/tutorials/fastai/course-v3/nbs/dl1/images/KrisFace/markFace/original-96/517.png\n",
      "/home/jupyter/tutorials/fastai/course-v3/nbs/dl1/images/KrisFace/markFace/original-96/274.png\n",
      "/home/jupyter/tutorials/fastai/course-v3/nbs/dl1/images/KrisFace/markFace/original-96/612.png\n",
      "/home/jupyter/tutorials/fastai/course-v3/nbs/dl1/images/KrisFace/markFace/original-96/565.png\n",
      "/home/jupyter/tutorials/fastai/course-v3/nbs/dl1/images/KrisFace/markFace/original-96/417.png\n",
      "/home/jupyter/tutorials/fastai/course-v3/nbs/dl1/images/KrisFace/markFace/original-96/757.png\n",
      "/home/jupyter/tutorials/fastai/course-v3/nbs/dl1/images/KrisFace/markFace/original-96/409.png\n",
      "/home/jupyter/tutorials/fastai/course-v3/nbs/dl1/images/KrisFace/markFace/original-96/38.png\n",
      "/home/jupyter/tutorials/fastai/course-v3/nbs/dl1/images/KrisFace/markFace/original-96/303.png\n",
      "/home/jupyter/tutorials/fastai/course-v3/nbs/dl1/images/KrisFace/markFace/original-96/627.png\n",
      "/home/jupyter/tutorials/fastai/course-v3/nbs/dl1/images/KrisFace/markFace/original-96/104.png\n",
      "/home/jupyter/tutorials/fastai/course-v3/nbs/dl1/images/KrisFace/markFace/original-96/493.png\n",
      "/home/jupyter/tutorials/fastai/course-v3/nbs/dl1/images/KrisFace/markFace/original-96/887.png\n",
      "/home/jupyter/tutorials/fastai/course-v3/nbs/dl1/images/KrisFace/markFace/original-96/699.png\n",
      "/home/jupyter/tutorials/fastai/course-v3/nbs/dl1/images/KrisFace/markFace/original-96/800.png\n",
      "/home/jupyter/tutorials/fastai/course-v3/nbs/dl1/images/KrisFace/markFace/original-96/125.png\n",
      "/home/jupyter/tutorials/fastai/course-v3/nbs/dl1/images/KrisFace/markFace/original-96/62.png\n",
      "/home/jupyter/tutorials/fastai/course-v3/nbs/dl1/images/KrisFace/markFace/original-96/36.png\n",
      "/home/jupyter/tutorials/fastai/course-v3/nbs/dl1/images/KrisFace/markFace/original-96/438.png\n",
      "/home/jupyter/tutorials/fastai/course-v3/nbs/dl1/images/KrisFace/markFace/original-96/591.png\n",
      "/home/jupyter/tutorials/fastai/course-v3/nbs/dl1/images/KrisFace/markFace/original-96/399.png\n",
      "/home/jupyter/tutorials/fastai/course-v3/nbs/dl1/images/KrisFace/markFace/original-96/396.png\n",
      "/home/jupyter/tutorials/fastai/course-v3/nbs/dl1/images/KrisFace/markFace/original-96/888.png\n",
      "/home/jupyter/tutorials/fastai/course-v3/nbs/dl1/images/KrisFace/markFace/original-96/470.png\n",
      "/home/jupyter/tutorials/fastai/course-v3/nbs/dl1/images/KrisFace/markFace/original-96/559.png\n",
      "/home/jupyter/tutorials/fastai/course-v3/nbs/dl1/images/KrisFace/markFace/original-96/298.png\n",
      "/home/jupyter/tutorials/fastai/course-v3/nbs/dl1/images/KrisFace/markFace/original-96/196.png\n",
      "/home/jupyter/tutorials/fastai/course-v3/nbs/dl1/images/KrisFace/markFace/original-96/752.png\n",
      "/home/jupyter/tutorials/fastai/course-v3/nbs/dl1/images/KrisFace/markFace/original-96/704.png\n",
      "/home/jupyter/tutorials/fastai/course-v3/nbs/dl1/images/KrisFace/markFace/original-96/555.png\n",
      "/home/jupyter/tutorials/fastai/course-v3/nbs/dl1/images/KrisFace/markFace/original-96/357.png\n",
      "/home/jupyter/tutorials/fastai/course-v3/nbs/dl1/images/KrisFace/markFace/original-96/643.png\n",
      "/home/jupyter/tutorials/fastai/course-v3/nbs/dl1/images/KrisFace/markFace/original-96/537.png\n",
      "/home/jupyter/tutorials/fastai/course-v3/nbs/dl1/images/KrisFace/markFace/original-96/577.png\n",
      "/home/jupyter/tutorials/fastai/course-v3/nbs/dl1/images/KrisFace/markFace/original-96/111.png\n",
      "/home/jupyter/tutorials/fastai/course-v3/nbs/dl1/images/KrisFace/markFace/original-96/561.png\n",
      "/home/jupyter/tutorials/fastai/course-v3/nbs/dl1/images/KrisFace/markFace/original-96/586.png\n",
      "/home/jupyter/tutorials/fastai/course-v3/nbs/dl1/images/KrisFace/markFace/original-96/92.png\n",
      "/home/jupyter/tutorials/fastai/course-v3/nbs/dl1/images/KrisFace/markFace/original-96/790.png\n",
      "/home/jupyter/tutorials/fastai/course-v3/nbs/dl1/images/KrisFace/markFace/original-96/415.png\n",
      "/home/jupyter/tutorials/fastai/course-v3/nbs/dl1/images/KrisFace/markFace/original-96/523.png\n",
      "/home/jupyter/tutorials/fastai/course-v3/nbs/dl1/images/KrisFace/markFace/original-96/97.png\n",
      "/home/jupyter/tutorials/fastai/course-v3/nbs/dl1/images/KrisFace/markFace/original-96/130.png\n",
      "/home/jupyter/tutorials/fastai/course-v3/nbs/dl1/images/KrisFace/markFace/original-96/302.png\n",
      "/home/jupyter/tutorials/fastai/course-v3/nbs/dl1/images/KrisFace/markFace/original-96/215.png\n",
      "/home/jupyter/tutorials/fastai/course-v3/nbs/dl1/images/KrisFace/markFace/original-96/32.png\n",
      "/home/jupyter/tutorials/fastai/course-v3/nbs/dl1/images/KrisFace/markFace/original-96/267.png\n",
      "/home/jupyter/tutorials/fastai/course-v3/nbs/dl1/images/KrisFace/markFace/original-96/183.png\n",
      "/home/jupyter/tutorials/fastai/course-v3/nbs/dl1/images/KrisFace/markFace/original-96/300.png\n",
      "/home/jupyter/tutorials/fastai/course-v3/nbs/dl1/images/KrisFace/markFace/original-96/837.png\n"
     ]
    },
    {
     "name": "stdout",
     "output_type": "stream",
     "text": [
      "/home/jupyter/tutorials/fastai/course-v3/nbs/dl1/images/KrisFace/markFace/original-96/567.png\n",
      "/home/jupyter/tutorials/fastai/course-v3/nbs/dl1/images/KrisFace/markFace/original-96/12.png\n",
      "/home/jupyter/tutorials/fastai/course-v3/nbs/dl1/images/KrisFace/markFace/original-96/316.png\n",
      "/home/jupyter/tutorials/fastai/course-v3/nbs/dl1/images/KrisFace/markFace/original-96/610.png\n",
      "/home/jupyter/tutorials/fastai/course-v3/nbs/dl1/images/KrisFace/markFace/original-96/299.png\n",
      "/home/jupyter/tutorials/fastai/course-v3/nbs/dl1/images/KrisFace/markFace/original-96/472.png\n",
      "/home/jupyter/tutorials/fastai/course-v3/nbs/dl1/images/KrisFace/markFace/original-96/34.png\n",
      "/home/jupyter/tutorials/fastai/course-v3/nbs/dl1/images/KrisFace/markFace/original-96/377.png\n",
      "/home/jupyter/tutorials/fastai/course-v3/nbs/dl1/images/KrisFace/markFace/original-96/195.png\n",
      "/home/jupyter/tutorials/fastai/course-v3/nbs/dl1/images/KrisFace/markFace/original-96/45.png\n",
      "/home/jupyter/tutorials/fastai/course-v3/nbs/dl1/images/KrisFace/markFace/original-96/515.png\n",
      "/home/jupyter/tutorials/fastai/course-v3/nbs/dl1/images/KrisFace/markFace/original-96/210.png\n",
      "/home/jupyter/tutorials/fastai/course-v3/nbs/dl1/images/KrisFace/markFace/original-96/641.png\n",
      "/home/jupyter/tutorials/fastai/course-v3/nbs/dl1/images/KrisFace/markFace/original-96/167.png\n",
      "/home/jupyter/tutorials/fastai/course-v3/nbs/dl1/images/KrisFace/markFace/original-96/275.png\n",
      "/home/jupyter/tutorials/fastai/course-v3/nbs/dl1/images/KrisFace/markFace/original-96/648.png\n",
      "/home/jupyter/tutorials/fastai/course-v3/nbs/dl1/images/KrisFace/markFace/original-96/153.png\n",
      "/home/jupyter/tutorials/fastai/course-v3/nbs/dl1/images/KrisFace/markFace/original-96/319.png\n",
      "/home/jupyter/tutorials/fastai/course-v3/nbs/dl1/images/KrisFace/markFace/original-96/373.png\n",
      "/home/jupyter/tutorials/fastai/course-v3/nbs/dl1/images/KrisFace/markFace/original-96/600.png\n",
      "/home/jupyter/tutorials/fastai/course-v3/nbs/dl1/images/KrisFace/markFace/original-96/317.png\n",
      "/home/jupyter/tutorials/fastai/course-v3/nbs/dl1/images/KrisFace/markFace/original-96/265.png\n",
      "/home/jupyter/tutorials/fastai/course-v3/nbs/dl1/images/KrisFace/markFace/original-96/512.png\n",
      "/home/jupyter/tutorials/fastai/course-v3/nbs/dl1/images/KrisFace/markFace/original-96/813.png\n",
      "/home/jupyter/tutorials/fastai/course-v3/nbs/dl1/images/KrisFace/markFace/original-96/343.png\n",
      "/home/jupyter/tutorials/fastai/course-v3/nbs/dl1/images/KrisFace/markFace/original-96/632.png\n",
      "/home/jupyter/tutorials/fastai/course-v3/nbs/dl1/images/KrisFace/markFace/original-96/276.png\n",
      "/home/jupyter/tutorials/fastai/course-v3/nbs/dl1/images/KrisFace/markFace/original-96/457.png\n",
      "/home/jupyter/tutorials/fastai/course-v3/nbs/dl1/images/KrisFace/markFace/original-96/411.png\n",
      "/home/jupyter/tutorials/fastai/course-v3/nbs/dl1/images/KrisFace/markFace/original-96/570.png\n",
      "/home/jupyter/tutorials/fastai/course-v3/nbs/dl1/images/KrisFace/markFace/original-96/284.png\n",
      "/home/jupyter/tutorials/fastai/course-v3/nbs/dl1/images/KrisFace/markFace/original-96/551.png\n",
      "/home/jupyter/tutorials/fastai/course-v3/nbs/dl1/images/KrisFace/markFace/original-96/529.png\n",
      "/home/jupyter/tutorials/fastai/course-v3/nbs/dl1/images/KrisFace/markFace/original-96/136.png\n",
      "/home/jupyter/tutorials/fastai/course-v3/nbs/dl1/images/KrisFace/markFace/original-96/860.png\n",
      "/home/jupyter/tutorials/fastai/course-v3/nbs/dl1/images/KrisFace/markFace/original-96/713.png\n",
      "/home/jupyter/tutorials/fastai/course-v3/nbs/dl1/images/KrisFace/markFace/original-96/652.png\n",
      "/home/jupyter/tutorials/fastai/course-v3/nbs/dl1/images/KrisFace/markFace/original-96/412.png\n",
      "/home/jupyter/tutorials/fastai/course-v3/nbs/dl1/images/KrisFace/markFace/original-96/338.png\n",
      "/home/jupyter/tutorials/fastai/course-v3/nbs/dl1/images/KrisFace/markFace/original-96/159.png\n",
      "/home/jupyter/tutorials/fastai/course-v3/nbs/dl1/images/KrisFace/markFace/original-96/453.png\n",
      "/home/jupyter/tutorials/fastai/course-v3/nbs/dl1/images/KrisFace/markFace/original-96/436.png\n",
      "/home/jupyter/tutorials/fastai/course-v3/nbs/dl1/images/KrisFace/markFace/original-96/280.png\n",
      "/home/jupyter/tutorials/fastai/course-v3/nbs/dl1/images/KrisFace/markFace/original-96/469.png\n",
      "/home/jupyter/tutorials/fastai/course-v3/nbs/dl1/images/KrisFace/markFace/original-96/384.png\n",
      "/home/jupyter/tutorials/fastai/course-v3/nbs/dl1/images/KrisFace/markFace/original-96/798.png\n",
      "/home/jupyter/tutorials/fastai/course-v3/nbs/dl1/images/KrisFace/markFace/original-96/468.png\n",
      "/home/jupyter/tutorials/fastai/course-v3/nbs/dl1/images/KrisFace/markFace/original-96/261.png\n",
      "/home/jupyter/tutorials/fastai/course-v3/nbs/dl1/images/KrisFace/markFace/original-96/488.png\n",
      "/home/jupyter/tutorials/fastai/course-v3/nbs/dl1/images/KrisFace/markFace/original-96/255.png\n",
      "/home/jupyter/tutorials/fastai/course-v3/nbs/dl1/images/KrisFace/markFace/original-96/421.png\n",
      "/home/jupyter/tutorials/fastai/course-v3/nbs/dl1/images/KrisFace/markFace/original-96/363.png\n",
      "/home/jupyter/tutorials/fastai/course-v3/nbs/dl1/images/KrisFace/markFace/original-96/880.png\n",
      "/home/jupyter/tutorials/fastai/course-v3/nbs/dl1/images/KrisFace/markFace/original-96/726.png\n",
      "/home/jupyter/tutorials/fastai/course-v3/nbs/dl1/images/KrisFace/markFace/original-96/533.png\n",
      "/home/jupyter/tutorials/fastai/course-v3/nbs/dl1/images/KrisFace/markFace/original-96/546.png\n",
      "/home/jupyter/tutorials/fastai/course-v3/nbs/dl1/images/KrisFace/markFace/original-96/516.png\n",
      "/home/jupyter/tutorials/fastai/course-v3/nbs/dl1/images/KrisFace/markFace/original-96/286.png\n",
      "/home/jupyter/tutorials/fastai/course-v3/nbs/dl1/images/KrisFace/markFace/original-96/770.png\n",
      "/home/jupyter/tutorials/fastai/course-v3/nbs/dl1/images/KrisFace/markFace/original-96/158.png\n",
      "/home/jupyter/tutorials/fastai/course-v3/nbs/dl1/images/KrisFace/markFace/original-96/170.png\n",
      "/home/jupyter/tutorials/fastai/course-v3/nbs/dl1/images/KrisFace/markFace/original-96/15.png\n",
      "/home/jupyter/tutorials/fastai/course-v3/nbs/dl1/images/KrisFace/markFace/original-96/690.png\n",
      "/home/jupyter/tutorials/fastai/course-v3/nbs/dl1/images/KrisFace/markFace/original-96/467.png\n",
      "/home/jupyter/tutorials/fastai/course-v3/nbs/dl1/images/KrisFace/markFace/original-96/55.png\n",
      "/home/jupyter/tutorials/fastai/course-v3/nbs/dl1/images/KrisFace/markFace/original-96/642.png\n",
      "/home/jupyter/tutorials/fastai/course-v3/nbs/dl1/images/KrisFace/markFace/original-96/416.png\n",
      "/home/jupyter/tutorials/fastai/course-v3/nbs/dl1/images/KrisFace/markFace/original-96/664.png\n",
      "/home/jupyter/tutorials/fastai/course-v3/nbs/dl1/images/KrisFace/markFace/original-96/852.png\n",
      "/home/jupyter/tutorials/fastai/course-v3/nbs/dl1/images/KrisFace/markFace/original-96/148.png\n",
      "/home/jupyter/tutorials/fastai/course-v3/nbs/dl1/images/KrisFace/markFace/original-96/376.png\n",
      "/home/jupyter/tutorials/fastai/course-v3/nbs/dl1/images/KrisFace/markFace/original-96/168.png\n",
      "/home/jupyter/tutorials/fastai/course-v3/nbs/dl1/images/KrisFace/markFace/original-96/569.png\n",
      "/home/jupyter/tutorials/fastai/course-v3/nbs/dl1/images/KrisFace/markFace/original-96/352.png\n",
      "/home/jupyter/tutorials/fastai/course-v3/nbs/dl1/images/KrisFace/markFace/original-96/163.png\n",
      "/home/jupyter/tutorials/fastai/course-v3/nbs/dl1/images/KrisFace/markFace/original-96/552.png\n",
      "/home/jupyter/tutorials/fastai/course-v3/nbs/dl1/images/KrisFace/markFace/original-96/830.png\n",
      "/home/jupyter/tutorials/fastai/course-v3/nbs/dl1/images/KrisFace/markFace/original-96/30.png\n",
      "/home/jupyter/tutorials/fastai/course-v3/nbs/dl1/images/KrisFace/markFace/original-96/212.png\n",
      "/home/jupyter/tutorials/fastai/course-v3/nbs/dl1/images/KrisFace/markFace/original-96/408.png\n",
      "/home/jupyter/tutorials/fastai/course-v3/nbs/dl1/images/KrisFace/markFace/original-96/638.png\n",
      "/home/jupyter/tutorials/fastai/course-v3/nbs/dl1/images/KrisFace/markFace/original-96/695.png\n",
      "/home/jupyter/tutorials/fastai/course-v3/nbs/dl1/images/KrisFace/markFace/original-96/90.png\n",
      "/home/jupyter/tutorials/fastai/course-v3/nbs/dl1/images/KrisFace/markFace/original-96/271.png\n",
      "/home/jupyter/tutorials/fastai/course-v3/nbs/dl1/images/KrisFace/markFace/original-96/387.png\n",
      "/home/jupyter/tutorials/fastai/course-v3/nbs/dl1/images/KrisFace/markFace/original-96/370.png\n",
      "/home/jupyter/tutorials/fastai/course-v3/nbs/dl1/images/KrisFace/markFace/original-96/132.png\n",
      "/home/jupyter/tutorials/fastai/course-v3/nbs/dl1/images/KrisFace/markFace/original-96/519.png\n"
     ]
    },
    {
     "name": "stdout",
     "output_type": "stream",
     "text": [
      "/home/jupyter/tutorials/fastai/course-v3/nbs/dl1/images/KrisFace/markFace/original-96/769.png\n",
      "/home/jupyter/tutorials/fastai/course-v3/nbs/dl1/images/KrisFace/markFace/original-96/263.png\n",
      "/home/jupyter/tutorials/fastai/course-v3/nbs/dl1/images/KrisFace/markFace/original-96/120.png\n",
      "/home/jupyter/tutorials/fastai/course-v3/nbs/dl1/images/KrisFace/markFace/original-96/335.png\n",
      "/home/jupyter/tutorials/fastai/course-v3/nbs/dl1/images/KrisFace/markFace/original-96/341.png\n",
      "/home/jupyter/tutorials/fastai/course-v3/nbs/dl1/images/KrisFace/markFace/original-96/358.png\n",
      "/home/jupyter/tutorials/fastai/course-v3/nbs/dl1/images/KrisFace/markFace/original-96/382.png\n",
      "/home/jupyter/tutorials/fastai/course-v3/nbs/dl1/images/KrisFace/markFace/original-96/63.png\n",
      "/home/jupyter/tutorials/fastai/course-v3/nbs/dl1/images/KrisFace/markFace/original-96/679.png\n",
      "/home/jupyter/tutorials/fastai/course-v3/nbs/dl1/images/KrisFace/markFace/original-96/331.png\n",
      "/home/jupyter/tutorials/fastai/course-v3/nbs/dl1/images/KrisFace/markFace/original-96/257.png\n",
      "/home/jupyter/tutorials/fastai/course-v3/nbs/dl1/images/KrisFace/markFace/original-96/405.png\n",
      "/home/jupyter/tutorials/fastai/course-v3/nbs/dl1/images/KrisFace/markFace/original-96/780.png\n",
      "/home/jupyter/tutorials/fastai/course-v3/nbs/dl1/images/KrisFace/markFace/original-96/783.png\n",
      "/home/jupyter/tutorials/fastai/course-v3/nbs/dl1/images/KrisFace/markFace/original-96/623.png\n",
      "/home/jupyter/tutorials/fastai/course-v3/nbs/dl1/images/KrisFace/markFace/original-96/485.png\n",
      "/home/jupyter/tutorials/fastai/course-v3/nbs/dl1/images/KrisFace/markFace/original-96/78.png\n",
      "/home/jupyter/tutorials/fastai/course-v3/nbs/dl1/images/KrisFace/markFace/original-96/484.png\n",
      "/home/jupyter/tutorials/fastai/course-v3/nbs/dl1/images/KrisFace/markFace/original-96/553.png\n",
      "/home/jupyter/tutorials/fastai/course-v3/nbs/dl1/images/KrisFace/markFace/original-96/821.png\n",
      "/home/jupyter/tutorials/fastai/course-v3/nbs/dl1/images/KrisFace/markFace/original-96/884.png\n",
      "/home/jupyter/tutorials/fastai/course-v3/nbs/dl1/images/KrisFace/markFace/original-96/181.png\n",
      "/home/jupyter/tutorials/fastai/course-v3/nbs/dl1/images/KrisFace/markFace/original-96/321.png\n",
      "/home/jupyter/tutorials/fastai/course-v3/nbs/dl1/images/KrisFace/markFace/original-96/223.png\n",
      "/home/jupyter/tutorials/fastai/course-v3/nbs/dl1/images/KrisFace/markFace/original-96/451.png\n",
      "/home/jupyter/tutorials/fastai/course-v3/nbs/dl1/images/KrisFace/markFace/original-96/739.png\n",
      "/home/jupyter/tutorials/fastai/course-v3/nbs/dl1/images/KrisFace/markFace/original-96/266.png\n",
      "/home/jupyter/tutorials/fastai/course-v3/nbs/dl1/images/KrisFace/markFace/original-96/359.png\n",
      "/home/jupyter/tutorials/fastai/course-v3/nbs/dl1/images/KrisFace/markFace/original-96/503.png\n",
      "/home/jupyter/tutorials/fastai/course-v3/nbs/dl1/images/KrisFace/markFace/original-96/151.png\n",
      "/home/jupyter/tutorials/fastai/course-v3/nbs/dl1/images/KrisFace/markFace/original-96/760.png\n",
      "/home/jupyter/tutorials/fastai/course-v3/nbs/dl1/images/KrisFace/markFace/original-96/742.png\n",
      "/home/jupyter/tutorials/fastai/course-v3/nbs/dl1/images/KrisFace/markFace/original-96/238.png\n",
      "/home/jupyter/tutorials/fastai/course-v3/nbs/dl1/images/KrisFace/markFace/original-96/27.png\n",
      "/home/jupyter/tutorials/fastai/course-v3/nbs/dl1/images/KrisFace/markFace/original-96/103.png\n",
      "/home/jupyter/tutorials/fastai/course-v3/nbs/dl1/images/KrisFace/markFace/original-96/716.png\n",
      "/home/jupyter/tutorials/fastai/course-v3/nbs/dl1/images/KrisFace/markFace/original-96/126.png\n",
      "/home/jupyter/tutorials/fastai/course-v3/nbs/dl1/images/KrisFace/markFace/original-96/614.png\n",
      "/home/jupyter/tutorials/fastai/course-v3/nbs/dl1/images/KrisFace/markFace/original-96/548.png\n",
      "/home/jupyter/tutorials/fastai/course-v3/nbs/dl1/images/KrisFace/markFace/original-96/773.png\n",
      "/home/jupyter/tutorials/fastai/course-v3/nbs/dl1/images/KrisFace/markFace/original-96/225.png\n",
      "/home/jupyter/tutorials/fastai/course-v3/nbs/dl1/images/KrisFace/markFace/original-96/719.png\n",
      "/home/jupyter/tutorials/fastai/course-v3/nbs/dl1/images/KrisFace/markFace/original-96/606.png\n",
      "/home/jupyter/tutorials/fastai/course-v3/nbs/dl1/images/KrisFace/markFace/original-96/863.png\n",
      "/home/jupyter/tutorials/fastai/course-v3/nbs/dl1/images/KrisFace/markFace/original-96/845.png\n",
      "/home/jupyter/tutorials/fastai/course-v3/nbs/dl1/images/KrisFace/markFace/original-96/450.png\n",
      "/home/jupyter/tutorials/fastai/course-v3/nbs/dl1/images/KrisFace/markFace/original-96/839.png\n",
      "/home/jupyter/tutorials/fastai/course-v3/nbs/dl1/images/KrisFace/markFace/original-96/895.png\n",
      "/home/jupyter/tutorials/fastai/course-v3/nbs/dl1/images/KrisFace/markFace/original-96/618.png\n",
      "/home/jupyter/tutorials/fastai/course-v3/nbs/dl1/images/KrisFace/markFace/original-96/681.png\n",
      "/home/jupyter/tutorials/fastai/course-v3/nbs/dl1/images/KrisFace/markFace/original-96/76.png\n",
      "/home/jupyter/tutorials/fastai/course-v3/nbs/dl1/images/KrisFace/markFace/original-96/101.png\n",
      "/home/jupyter/tutorials/fastai/course-v3/nbs/dl1/images/KrisFace/markFace/original-96/558.png\n",
      "/home/jupyter/tutorials/fastai/course-v3/nbs/dl1/images/KrisFace/markFace/original-96/209.png\n",
      "/home/jupyter/tutorials/fastai/course-v3/nbs/dl1/images/KrisFace/markFace/original-96/133.png\n",
      "/home/jupyter/tutorials/fastai/course-v3/nbs/dl1/images/KrisFace/markFace/original-96/854.png\n",
      "/home/jupyter/tutorials/fastai/course-v3/nbs/dl1/images/KrisFace/markFace/original-96/786.png\n",
      "/home/jupyter/tutorials/fastai/course-v3/nbs/dl1/images/KrisFace/markFace/original-96/792.png\n",
      "/home/jupyter/tutorials/fastai/course-v3/nbs/dl1/images/KrisFace/markFace/original-96/179.png\n",
      "/home/jupyter/tutorials/fastai/course-v3/nbs/dl1/images/KrisFace/markFace/original-96/294.png\n",
      "/home/jupyter/tutorials/fastai/course-v3/nbs/dl1/images/KrisFace/markFace/original-96/866.png\n",
      "/home/jupyter/tutorials/fastai/course-v3/nbs/dl1/images/KrisFace/markFace/original-96/213.png\n",
      "/home/jupyter/tutorials/fastai/course-v3/nbs/dl1/images/KrisFace/markFace/original-96/279.png\n",
      "/home/jupyter/tutorials/fastai/course-v3/nbs/dl1/images/KrisFace/markFace/original-96/295.png\n",
      "/home/jupyter/tutorials/fastai/course-v3/nbs/dl1/images/KrisFace/markFace/original-96/246.png\n",
      "/home/jupyter/tutorials/fastai/course-v3/nbs/dl1/images/KrisFace/markFace/original-96/288.png\n",
      "/home/jupyter/tutorials/fastai/course-v3/nbs/dl1/images/KrisFace/markFace/original-96/564.png\n",
      "/home/jupyter/tutorials/fastai/course-v3/nbs/dl1/images/KrisFace/markFace/original-96/727.png\n",
      "/home/jupyter/tutorials/fastai/course-v3/nbs/dl1/images/KrisFace/markFace/original-96/297.png\n",
      "/home/jupyter/tutorials/fastai/course-v3/nbs/dl1/images/KrisFace/markFace/original-96/609.png\n",
      "/home/jupyter/tutorials/fastai/course-v3/nbs/dl1/images/KrisFace/markFace/original-96/473.png\n",
      "/home/jupyter/tutorials/fastai/course-v3/nbs/dl1/images/KrisFace/markFace/original-96/737.png\n",
      "/home/jupyter/tutorials/fastai/course-v3/nbs/dl1/images/KrisFace/markFace/original-96/657.png\n",
      "/home/jupyter/tutorials/fastai/course-v3/nbs/dl1/images/KrisFace/markFace/original-96/803.png\n",
      "/home/jupyter/tutorials/fastai/course-v3/nbs/dl1/images/KrisFace/markFace/original-96/562.png\n",
      "/home/jupyter/tutorials/fastai/course-v3/nbs/dl1/images/KrisFace/markFace/original-96/514.png\n",
      "/home/jupyter/tutorials/fastai/course-v3/nbs/dl1/images/KrisFace/markFace/original-96/506.png\n",
      "/home/jupyter/tutorials/fastai/course-v3/nbs/dl1/images/KrisFace/markFace/original-96/398.png\n",
      "/home/jupyter/tutorials/fastai/course-v3/nbs/dl1/images/KrisFace/markFace/original-96/390.png\n",
      "/home/jupyter/tutorials/fastai/course-v3/nbs/dl1/images/KrisFace/markFace/original-96/306.png\n",
      "/home/jupyter/tutorials/fastai/course-v3/nbs/dl1/images/KrisFace/markFace/original-96/73.png\n",
      "/home/jupyter/tutorials/fastai/course-v3/nbs/dl1/images/KrisFace/markFace/original-96/88.png\n",
      "/home/jupyter/tutorials/fastai/course-v3/nbs/dl1/images/KrisFace/markFace/original-96/849.png\n",
      "/home/jupyter/tutorials/fastai/course-v3/nbs/dl1/images/KrisFace/markFace/original-96/466.png\n",
      "/home/jupyter/tutorials/fastai/course-v3/nbs/dl1/images/KrisFace/markFace/original-96/877.png\n",
      "/home/jupyter/tutorials/fastai/course-v3/nbs/dl1/images/KrisFace/markFace/original-96/355.png\n",
      "/home/jupyter/tutorials/fastai/course-v3/nbs/dl1/images/KrisFace/markFace/original-96/386.png\n",
      "/home/jupyter/tutorials/fastai/course-v3/nbs/dl1/images/KrisFace/markFace/original-96/262.png\n"
     ]
    },
    {
     "name": "stdout",
     "output_type": "stream",
     "text": [
      "/home/jupyter/tutorials/fastai/course-v3/nbs/dl1/images/KrisFace/markFace/original-96/661.png\n",
      "/home/jupyter/tutorials/fastai/course-v3/nbs/dl1/images/KrisFace/markFace/original-96/771.png\n",
      "/home/jupyter/tutorials/fastai/course-v3/nbs/dl1/images/KrisFace/markFace/original-96/402.png\n",
      "/home/jupyter/tutorials/fastai/course-v3/nbs/dl1/images/KrisFace/markFace/original-96/674.png\n",
      "/home/jupyter/tutorials/fastai/course-v3/nbs/dl1/images/KrisFace/markFace/original-96/435.png\n",
      "/home/jupyter/tutorials/fastai/course-v3/nbs/dl1/images/KrisFace/markFace/original-96/184.png\n",
      "/home/jupyter/tutorials/fastai/course-v3/nbs/dl1/images/KrisFace/markFace/original-96/68.png\n",
      "/home/jupyter/tutorials/fastai/course-v3/nbs/dl1/images/KrisFace/markFace/original-96/509.png\n",
      "/home/jupyter/tutorials/fastai/course-v3/nbs/dl1/images/KrisFace/markFace/original-96/892.png\n",
      "/home/jupyter/tutorials/fastai/course-v3/nbs/dl1/images/KrisFace/markFace/original-96/539.png\n",
      "/home/jupyter/tutorials/fastai/course-v3/nbs/dl1/images/KrisFace/markFace/original-96/728.png\n",
      "/home/jupyter/tutorials/fastai/course-v3/nbs/dl1/images/KrisFace/markFace/original-96/693.png\n",
      "/home/jupyter/tutorials/fastai/course-v3/nbs/dl1/images/KrisFace/markFace/original-96/807.png\n",
      "/home/jupyter/tutorials/fastai/course-v3/nbs/dl1/images/KrisFace/markFace/original-96/342.png\n",
      "/home/jupyter/tutorials/fastai/course-v3/nbs/dl1/images/KrisFace/markFace/original-96/86.png\n",
      "/home/jupyter/tutorials/fastai/course-v3/nbs/dl1/images/KrisFace/markFace/original-96/683.png\n",
      "/home/jupyter/tutorials/fastai/course-v3/nbs/dl1/images/KrisFace/markFace/original-96/644.png\n",
      "/home/jupyter/tutorials/fastai/course-v3/nbs/dl1/images/KrisFace/markFace/original-96/525.png\n",
      "/home/jupyter/tutorials/fastai/course-v3/nbs/dl1/images/KrisFace/markFace/original-96/848.png\n",
      "/home/jupyter/tutorials/fastai/course-v3/nbs/dl1/images/KrisFace/markFace/original-96/890.png\n",
      "/home/jupyter/tutorials/fastai/course-v3/nbs/dl1/images/KrisFace/markFace/original-96/844.png\n",
      "/home/jupyter/tutorials/fastai/course-v3/nbs/dl1/images/KrisFace/markFace/original-96/61.png\n",
      "/home/jupyter/tutorials/fastai/course-v3/nbs/dl1/images/KrisFace/markFace/original-96/46.png\n",
      "/home/jupyter/tutorials/fastai/course-v3/nbs/dl1/images/KrisFace/markFace/original-96/313.png\n",
      "/home/jupyter/tutorials/fastai/course-v3/nbs/dl1/images/KrisFace/markFace/original-96/573.png\n",
      "/home/jupyter/tutorials/fastai/course-v3/nbs/dl1/images/KrisFace/markFace/original-96/814.png\n",
      "/home/jupyter/tutorials/fastai/course-v3/nbs/dl1/images/KrisFace/markFace/original-96/658.png\n",
      "/home/jupyter/tutorials/fastai/course-v3/nbs/dl1/images/KrisFace/markFace/original-96/433.png\n",
      "/home/jupyter/tutorials/fastai/course-v3/nbs/dl1/images/KrisFace/markFace/original-96/211.png\n",
      "/home/jupyter/tutorials/fastai/course-v3/nbs/dl1/images/KrisFace/markFace/original-96/351.png\n",
      "/home/jupyter/tutorials/fastai/course-v3/nbs/dl1/images/KrisFace/markFace/original-96/248.png\n",
      "/home/jupyter/tutorials/fastai/course-v3/nbs/dl1/images/KrisFace/markFace/original-96/242.png\n",
      "/home/jupyter/tutorials/fastai/course-v3/nbs/dl1/images/KrisFace/markFace/original-96/420.png\n",
      "/home/jupyter/tutorials/fastai/course-v3/nbs/dl1/images/KrisFace/markFace/original-96/594.png\n",
      "/home/jupyter/tutorials/fastai/course-v3/nbs/dl1/images/KrisFace/markFace/original-96/687.png\n",
      "/home/jupyter/tutorials/fastai/course-v3/nbs/dl1/images/KrisFace/markFace/original-96/508.png\n",
      "/home/jupyter/tutorials/fastai/course-v3/nbs/dl1/images/KrisFace/markFace/original-96/822.png\n",
      "/home/jupyter/tutorials/fastai/course-v3/nbs/dl1/images/KrisFace/markFace/original-96/656.png\n",
      "/home/jupyter/tutorials/fastai/course-v3/nbs/dl1/images/KrisFace/markFace/original-96/58.png\n",
      "/home/jupyter/tutorials/fastai/course-v3/nbs/dl1/images/KrisFace/markFace/original-96/50.png\n",
      "/home/jupyter/tutorials/fastai/course-v3/nbs/dl1/images/KrisFace/markFace/original-96/187.png\n",
      "/home/jupyter/tutorials/fastai/course-v3/nbs/dl1/images/KrisFace/markFace/original-96/52.png\n",
      "/home/jupyter/tutorials/fastai/course-v3/nbs/dl1/images/KrisFace/markFace/original-96/160.png\n",
      "/home/jupyter/tutorials/fastai/course-v3/nbs/dl1/images/KrisFace/markFace/original-96/805.png\n",
      "/home/jupyter/tutorials/fastai/course-v3/nbs/dl1/images/KrisFace/markFace/original-96/705.png\n",
      "/home/jupyter/tutorials/fastai/course-v3/nbs/dl1/images/KrisFace/markFace/original-96/667.png\n",
      "/home/jupyter/tutorials/fastai/course-v3/nbs/dl1/images/KrisFace/markFace/original-96/697.png\n",
      "/home/jupyter/tutorials/fastai/course-v3/nbs/dl1/images/KrisFace/markFace/original-96/626.png\n",
      "/home/jupyter/tutorials/fastai/course-v3/nbs/dl1/images/KrisFace/markFace/original-96/650.png\n",
      "/home/jupyter/tutorials/fastai/course-v3/nbs/dl1/images/KrisFace/markFace/original-96/734.png\n",
      "/home/jupyter/tutorials/fastai/course-v3/nbs/dl1/images/KrisFace/markFace/original-96/198.png\n",
      "/home/jupyter/tutorials/fastai/course-v3/nbs/dl1/images/KrisFace/markFace/original-96/873.png\n",
      "/home/jupyter/tutorials/fastai/course-v3/nbs/dl1/images/KrisFace/markFace/original-96/589.png\n",
      "/home/jupyter/tutorials/fastai/course-v3/nbs/dl1/images/KrisFace/markFace/original-96/424.png\n",
      "/home/jupyter/tutorials/fastai/course-v3/nbs/dl1/images/KrisFace/markFace/original-96/668.png\n",
      "/home/jupyter/tutorials/fastai/course-v3/nbs/dl1/images/KrisFace/markFace/original-96/173.png\n",
      "/home/jupyter/tutorials/fastai/course-v3/nbs/dl1/images/KrisFace/markFace/original-96/797.png\n",
      "/home/jupyter/tutorials/fastai/course-v3/nbs/dl1/images/KrisFace/markFace/original-96/743.png\n",
      "/home/jupyter/tutorials/fastai/course-v3/nbs/dl1/images/KrisFace/markFace/original-96/832.png\n",
      "/home/jupyter/tutorials/fastai/course-v3/nbs/dl1/images/KrisFace/markFace/original-96/156.png\n",
      "/home/jupyter/tutorials/fastai/course-v3/nbs/dl1/images/KrisFace/markFace/original-96/874.png\n",
      "/home/jupyter/tutorials/fastai/course-v3/nbs/dl1/images/KrisFace/markFace/original-96/454.png\n",
      "/home/jupyter/tutorials/fastai/course-v3/nbs/dl1/images/KrisFace/markFace/original-96/135.png\n",
      "/home/jupyter/tutorials/fastai/course-v3/nbs/dl1/images/KrisFace/markFace/original-96/872.png\n",
      "/home/jupyter/tutorials/fastai/course-v3/nbs/dl1/images/KrisFace/markFace/original-96/214.png\n",
      "/home/jupyter/tutorials/fastai/course-v3/nbs/dl1/images/KrisFace/markFace/original-96/633.png\n",
      "/home/jupyter/tutorials/fastai/course-v3/nbs/dl1/images/KrisFace/markFace/original-96/862.png\n",
      "/home/jupyter/tutorials/fastai/course-v3/nbs/dl1/images/KrisFace/markFace/original-96/795.png\n",
      "/home/jupyter/tutorials/fastai/course-v3/nbs/dl1/images/KrisFace/markFace/original-96/524.png\n",
      "/home/jupyter/tutorials/fastai/course-v3/nbs/dl1/images/KrisFace/markFace/original-96/178.png\n",
      "/home/jupyter/tutorials/fastai/course-v3/nbs/dl1/images/KrisFace/markFace/original-96/660.png\n",
      "/home/jupyter/tutorials/fastai/course-v3/nbs/dl1/images/KrisFace/markFace/original-96/640.png\n",
      "/home/jupyter/tutorials/fastai/course-v3/nbs/dl1/images/KrisFace/markFace/original-96/430.png\n",
      "/home/jupyter/tutorials/fastai/course-v3/nbs/dl1/images/KrisFace/markFace/original-96/816.png\n",
      "/home/jupyter/tutorials/fastai/course-v3/nbs/dl1/images/KrisFace/markFace/original-96/345.png\n",
      "/home/jupyter/tutorials/fastai/course-v3/nbs/dl1/images/KrisFace/markFace/original-96/749.png\n",
      "/home/jupyter/tutorials/fastai/course-v3/nbs/dl1/images/KrisFace/markFace/original-96/445.png\n",
      "/home/jupyter/tutorials/fastai/course-v3/nbs/dl1/images/KrisFace/markFace/original-96/603.png\n",
      "/home/jupyter/tutorials/fastai/course-v3/nbs/dl1/images/KrisFace/markFace/original-96/70.png\n",
      "/home/jupyter/tutorials/fastai/course-v3/nbs/dl1/images/KrisFace/markFace/original-96/584.png\n",
      "/home/jupyter/tutorials/fastai/course-v3/nbs/dl1/images/KrisFace/markFace/original-96/528.png\n",
      "/home/jupyter/tutorials/fastai/course-v3/nbs/dl1/images/KrisFace/markFace/original-96/846.png\n",
      "/home/jupyter/tutorials/fastai/course-v3/nbs/dl1/images/KrisFace/markFace/original-96/619.png\n",
      "/home/jupyter/tutorials/fastai/course-v3/nbs/dl1/images/KrisFace/markFace/original-96/764.png\n",
      "/home/jupyter/tutorials/fastai/course-v3/nbs/dl1/images/KrisFace/markFace/original-96/166.png\n",
      "/home/jupyter/tutorials/fastai/course-v3/nbs/dl1/images/KrisFace/markFace/original-96/164.png\n",
      "/home/jupyter/tutorials/fastai/course-v3/nbs/dl1/images/KrisFace/markFace/original-96/885.png\n",
      "/home/jupyter/tutorials/fastai/course-v3/nbs/dl1/images/KrisFace/markFace/original-96/278.png\n"
     ]
    },
    {
     "name": "stdout",
     "output_type": "stream",
     "text": [
      "/home/jupyter/tutorials/fastai/course-v3/nbs/dl1/images/KrisFace/markFace/original-96/636.png\n",
      "/home/jupyter/tutorials/fastai/course-v3/nbs/dl1/images/KrisFace/markFace/original-96/622.png\n",
      "/home/jupyter/tutorials/fastai/course-v3/nbs/dl1/images/KrisFace/markFace/original-96/753.png\n",
      "/home/jupyter/tutorials/fastai/course-v3/nbs/dl1/images/KrisFace/markFace/original-96/829.png\n",
      "/home/jupyter/tutorials/fastai/course-v3/nbs/dl1/images/KrisFace/markFace/original-96/239.png\n",
      "/home/jupyter/tutorials/fastai/course-v3/nbs/dl1/images/KrisFace/markFace/original-96/883.png\n",
      "/home/jupyter/tutorials/fastai/course-v3/nbs/dl1/images/KrisFace/markFace/original-96/700.png\n",
      "/home/jupyter/tutorials/fastai/course-v3/nbs/dl1/images/KrisFace/markFace/original-96/440.png\n",
      "/home/jupyter/tutorials/fastai/course-v3/nbs/dl1/images/KrisFace/markFace/original-96/121.png\n",
      "/home/jupyter/tutorials/fastai/course-v3/nbs/dl1/images/KrisFace/markFace/original-96/833.png\n",
      "/home/jupyter/tutorials/fastai/course-v3/nbs/dl1/images/KrisFace/markFace/original-96/511.png\n",
      "/home/jupyter/tutorials/fastai/course-v3/nbs/dl1/images/KrisFace/markFace/original-96/234.png\n",
      "/home/jupyter/tutorials/fastai/course-v3/nbs/dl1/images/KrisFace/markFace/original-96/741.png\n",
      "/home/jupyter/tutorials/fastai/course-v3/nbs/dl1/images/KrisFace/markFace/original-96/867.png\n",
      "/home/jupyter/tutorials/fastai/course-v3/nbs/dl1/images/KrisFace/markFace/original-96/273.png\n",
      "/home/jupyter/tutorials/fastai/course-v3/nbs/dl1/images/KrisFace/markFace/original-96/894.png\n",
      "/home/jupyter/tutorials/fastai/course-v3/nbs/dl1/images/KrisFace/markFace/original-96/328.png\n",
      "/home/jupyter/tutorials/fastai/course-v3/nbs/dl1/images/KrisFace/markFace/original-96/688.png\n",
      "/home/jupyter/tutorials/fastai/course-v3/nbs/dl1/images/KrisFace/markFace/original-96/724.png\n",
      "/home/jupyter/tutorials/fastai/course-v3/nbs/dl1/images/KrisFace/markFace/original-96/123.png\n",
      "/home/jupyter/tutorials/fastai/course-v3/nbs/dl1/images/KrisFace/markFace/original-96/531.png\n",
      "/home/jupyter/tutorials/fastai/course-v3/nbs/dl1/images/KrisFace/markFace/original-96/850.png\n",
      "/home/jupyter/tutorials/fastai/course-v3/nbs/dl1/images/KrisFace/markFace/original-96/42.png\n",
      "/home/jupyter/tutorials/fastai/course-v3/nbs/dl1/images/KrisFace/markFace/original-96/150.png\n",
      "/home/jupyter/tutorials/fastai/course-v3/nbs/dl1/images/KrisFace/markFace/original-96/709.png\n",
      "/home/jupyter/tutorials/fastai/course-v3/nbs/dl1/images/KrisFace/markFace/original-96/817.png\n",
      "/home/jupyter/tutorials/fastai/course-v3/nbs/dl1/images/KrisFace/markFace/original-96/675.png\n",
      "/home/jupyter/tutorials/fastai/course-v3/nbs/dl1/images/KrisFace/markFace/original-96/499.png\n",
      "/home/jupyter/tutorials/fastai/course-v3/nbs/dl1/images/KrisFace/markFace/original-96/788.png\n",
      "/home/jupyter/tutorials/fastai/course-v3/nbs/dl1/images/KrisFace/markFace/original-96/428.png\n",
      "/home/jupyter/tutorials/fastai/course-v3/nbs/dl1/images/KrisFace/markFace/original-96/765.png\n",
      "/home/jupyter/tutorials/fastai/course-v3/nbs/dl1/images/KrisFace/markFace/original-96/491.png\n",
      "/home/jupyter/tutorials/fastai/course-v3/nbs/dl1/images/KrisFace/markFace/original-96/169.png\n",
      "/home/jupyter/tutorials/fastai/course-v3/nbs/dl1/images/KrisFace/markFace/original-96/206.png\n",
      "/home/jupyter/tutorials/fastai/course-v3/nbs/dl1/images/KrisFace/markFace/original-96/789.png\n",
      "/home/jupyter/tutorials/fastai/course-v3/nbs/dl1/images/KrisFace/markFace/original-96/94.png\n",
      "/home/jupyter/tutorials/fastai/course-v3/nbs/dl1/images/KrisFace/markFace/original-96/360.png\n",
      "/home/jupyter/tutorials/fastai/course-v3/nbs/dl1/images/KrisFace/markFace/original-96/901.png\n",
      "/home/jupyter/tutorials/fastai/course-v3/nbs/dl1/images/KrisFace/markFace/original-96/105.png\n",
      "/home/jupyter/tutorials/fastai/course-v3/nbs/dl1/images/KrisFace/markFace/original-96/425.png\n",
      "/home/jupyter/tutorials/fastai/course-v3/nbs/dl1/images/KrisFace/markFace/original-96/651.png\n",
      "/home/jupyter/tutorials/fastai/course-v3/nbs/dl1/images/KrisFace/markFace/original-96/244.png\n",
      "/home/jupyter/tutorials/fastai/course-v3/nbs/dl1/images/KrisFace/markFace/original-96/828.png\n",
      "/home/jupyter/tutorials/fastai/course-v3/nbs/dl1/images/KrisFace/markFace/original-96/43.png\n",
      "/home/jupyter/tutorials/fastai/course-v3/nbs/dl1/images/KrisFace/markFace/original-96/458.png\n",
      "/home/jupyter/tutorials/fastai/course-v3/nbs/dl1/images/KrisFace/markFace/original-96/374.png\n",
      "/home/jupyter/tutorials/fastai/course-v3/nbs/dl1/images/KrisFace/markFace/original-96/859.png\n",
      "/home/jupyter/tutorials/fastai/course-v3/nbs/dl1/images/KrisFace/markFace/original-96/722.png\n",
      "/home/jupyter/tutorials/fastai/course-v3/nbs/dl1/images/KrisFace/markFace/original-96/823.png\n",
      "/home/jupyter/tutorials/fastai/course-v3/nbs/dl1/images/KrisFace/markFace/original-96/33.png\n",
      "/home/jupyter/tutorials/fastai/course-v3/nbs/dl1/images/KrisFace/markFace/original-96/434.png\n",
      "/home/jupyter/tutorials/fastai/course-v3/nbs/dl1/images/KrisFace/markFace/original-96/819.png\n",
      "/home/jupyter/tutorials/fastai/course-v3/nbs/dl1/images/KrisFace/markFace/original-96/442.png\n",
      "/home/jupyter/tutorials/fastai/course-v3/nbs/dl1/images/KrisFace/markFace/original-96/694.png\n",
      "/home/jupyter/tutorials/fastai/course-v3/nbs/dl1/images/KrisFace/markFace/original-96/580.png\n",
      "/home/jupyter/tutorials/fastai/course-v3/nbs/dl1/images/KrisFace/markFace/original-96/535.png\n",
      "/home/jupyter/tutorials/fastai/course-v3/nbs/dl1/images/KrisFace/markFace/original-96/282.png\n",
      "/home/jupyter/tutorials/fastai/course-v3/nbs/dl1/images/KrisFace/markFace/original-96/772.png\n",
      "/home/jupyter/tutorials/fastai/course-v3/nbs/dl1/images/KrisFace/markFace/original-96/85.png\n",
      "/home/jupyter/tutorials/fastai/course-v3/nbs/dl1/images/KrisFace/markFace/original-96/48.png\n",
      "/home/jupyter/tutorials/fastai/course-v3/nbs/dl1/images/KrisFace/markFace/original-96/197.png\n",
      "/home/jupyter/tutorials/fastai/course-v3/nbs/dl1/images/KrisFace/markFace/original-96/6.png\n",
      "/home/jupyter/tutorials/fastai/course-v3/nbs/dl1/images/KrisFace/markFace/original-96/708.png\n",
      "/home/jupyter/tutorials/fastai/course-v3/nbs/dl1/images/KrisFace/markFace/original-96/439.png\n",
      "/home/jupyter/tutorials/fastai/course-v3/nbs/dl1/images/KrisFace/markFace/original-96/868.png\n",
      "/home/jupyter/tutorials/fastai/course-v3/nbs/dl1/images/KrisFace/markFace/original-96/429.png\n",
      "/home/jupyter/tutorials/fastai/course-v3/nbs/dl1/images/KrisFace/markFace/original-96/579.png\n",
      "/home/jupyter/tutorials/fastai/course-v3/nbs/dl1/images/KrisFace/markFace/original-96/665.png\n",
      "/home/jupyter/tutorials/fastai/course-v3/nbs/dl1/images/KrisFace/markFace/original-96/592.png\n",
      "/home/jupyter/tutorials/fastai/course-v3/nbs/dl1/images/KrisFace/markFace/original-96/154.png\n",
      "/home/jupyter/tutorials/fastai/course-v3/nbs/dl1/images/KrisFace/markFace/original-96/601.png\n",
      "/home/jupyter/tutorials/fastai/course-v3/nbs/dl1/images/KrisFace/markFace/original-96/637.png\n",
      "/home/jupyter/tutorials/fastai/course-v3/nbs/dl1/images/KrisFace/markFace/original-96/585.png\n",
      "/home/jupyter/tutorials/fastai/course-v3/nbs/dl1/images/KrisFace/markFace/original-96/192.png\n",
      "/home/jupyter/tutorials/fastai/course-v3/nbs/dl1/images/KrisFace/markFace/original-96/145.png\n",
      "/home/jupyter/tutorials/fastai/course-v3/nbs/dl1/images/KrisFace/markFace/original-96/460.png\n",
      "/home/jupyter/tutorials/fastai/course-v3/nbs/dl1/images/KrisFace/markFace/original-96/689.png\n",
      "/home/jupyter/tutorials/fastai/course-v3/nbs/dl1/images/KrisFace/markFace/original-96/67.png\n",
      "/home/jupyter/tutorials/fastai/course-v3/nbs/dl1/images/KrisFace/markFace/original-96/119.png\n",
      "/home/jupyter/tutorials/fastai/course-v3/nbs/dl1/images/KrisFace/markFace/original-96/452.png\n",
      "/home/jupyter/tutorials/fastai/course-v3/nbs/dl1/images/KrisFace/markFace/original-96/549.png\n",
      "/home/jupyter/tutorials/fastai/course-v3/nbs/dl1/images/KrisFace/markFace/original-96/698.png\n",
      "/home/jupyter/tutorials/fastai/course-v3/nbs/dl1/images/KrisFace/markFace/original-96/841.png\n",
      "/home/jupyter/tutorials/fastai/course-v3/nbs/dl1/images/KrisFace/markFace/original-96/128.png\n",
      "/home/jupyter/tutorials/fastai/course-v3/nbs/dl1/images/KrisFace/markFace/original-96/678.png\n",
      "/home/jupyter/tutorials/fastai/course-v3/nbs/dl1/images/KrisFace/markFace/original-96/256.png\n",
      "/home/jupyter/tutorials/fastai/course-v3/nbs/dl1/images/KrisFace/markFace/original-96/530.png\n",
      "/home/jupyter/tutorials/fastai/course-v3/nbs/dl1/images/KrisFace/markFace/original-96/527.png\n"
     ]
    },
    {
     "name": "stdout",
     "output_type": "stream",
     "text": [
      "/home/jupyter/tutorials/fastai/course-v3/nbs/dl1/images/KrisFace/markFace/original-96/291.png\n",
      "/home/jupyter/tutorials/fastai/course-v3/nbs/dl1/images/KrisFace/markFace/original-96/448.png\n",
      "/home/jupyter/tutorials/fastai/course-v3/nbs/dl1/images/KrisFace/markFace/original-96/322.png\n",
      "/home/jupyter/tutorials/fastai/course-v3/nbs/dl1/images/KrisFace/markFace/original-96/404.png\n",
      "/home/jupyter/tutorials/fastai/course-v3/nbs/dl1/images/KrisFace/markFace/original-96/809.png\n",
      "/home/jupyter/tutorials/fastai/course-v3/nbs/dl1/images/KrisFace/markFace/original-96/806.png\n",
      "/home/jupyter/tutorials/fastai/course-v3/nbs/dl1/images/KrisFace/markFace/original-96/22.png\n",
      "/home/jupyter/tutorials/fastai/course-v3/nbs/dl1/images/KrisFace/markFace/original-96/463.png\n",
      "/home/jupyter/tutorials/fastai/course-v3/nbs/dl1/images/KrisFace/markFace/original-96/218.png\n",
      "/home/jupyter/tutorials/fastai/course-v3/nbs/dl1/images/KrisFace/markFace/original-96/329.png\n",
      "/home/jupyter/tutorials/fastai/course-v3/nbs/dl1/images/KrisFace/markFace/original-96/401.png\n",
      "/home/jupyter/tutorials/fastai/course-v3/nbs/dl1/images/KrisFace/markFace/original-96/544.png\n",
      "/home/jupyter/tutorials/fastai/course-v3/nbs/dl1/images/KrisFace/markFace/original-96/560.png\n",
      "/home/jupyter/tutorials/fastai/course-v3/nbs/dl1/images/KrisFace/markFace/original-96/240.png\n",
      "/home/jupyter/tutorials/fastai/course-v3/nbs/dl1/images/KrisFace/markFace/original-96/628.png\n",
      "/home/jupyter/tutorials/fastai/course-v3/nbs/dl1/images/KrisFace/markFace/original-96/323.png\n",
      "/home/jupyter/tutorials/fastai/course-v3/nbs/dl1/images/KrisFace/markFace/original-96/81.png\n",
      "/home/jupyter/tutorials/fastai/course-v3/nbs/dl1/images/KrisFace/markFace/original-96/691.png\n",
      "/home/jupyter/tutorials/fastai/course-v3/nbs/dl1/images/KrisFace/markFace/original-96/182.png\n",
      "/home/jupyter/tutorials/fastai/course-v3/nbs/dl1/images/KrisFace/markFace/original-96/87.png\n",
      "/home/jupyter/tutorials/fastai/course-v3/nbs/dl1/images/KrisFace/markFace/original-96/702.png\n",
      "/home/jupyter/tutorials/fastai/course-v3/nbs/dl1/images/KrisFace/markFace/original-96/252.png\n",
      "/home/jupyter/tutorials/fastai/course-v3/nbs/dl1/images/KrisFace/markFace/original-96/835.png\n",
      "/home/jupyter/tutorials/fastai/course-v3/nbs/dl1/images/KrisFace/markFace/original-96/437.png\n",
      "/home/jupyter/tutorials/fastai/course-v3/nbs/dl1/images/KrisFace/markFace/original-96/243.png\n",
      "/home/jupyter/tutorials/fastai/course-v3/nbs/dl1/images/KrisFace/markFace/original-96/171.png\n",
      "/home/jupyter/tutorials/fastai/course-v3/nbs/dl1/images/KrisFace/markFace/original-96/114.png\n",
      "/home/jupyter/tutorials/fastai/course-v3/nbs/dl1/images/KrisFace/markFace/original-96/599.png\n",
      "/home/jupyter/tutorials/fastai/course-v3/nbs/dl1/images/KrisFace/markFace/original-96/701.png\n",
      "/home/jupyter/tutorials/fastai/course-v3/nbs/dl1/images/KrisFace/markFace/original-96/146.png\n",
      "/home/jupyter/tutorials/fastai/course-v3/nbs/dl1/images/KrisFace/markFace/original-96/19.png\n",
      "/home/jupyter/tutorials/fastai/course-v3/nbs/dl1/images/KrisFace/markFace/original-96/177.png\n",
      "/home/jupyter/tutorials/fastai/course-v3/nbs/dl1/images/KrisFace/markFace/original-96/903.png\n",
      "/home/jupyter/tutorials/fastai/course-v3/nbs/dl1/images/KrisFace/markFace/original-96/831.png\n",
      "/home/jupyter/tutorials/fastai/course-v3/nbs/dl1/images/KrisFace/markFace/original-96/596.png\n",
      "/home/jupyter/tutorials/fastai/course-v3/nbs/dl1/images/KrisFace/markFace/original-96/143.png\n",
      "/home/jupyter/tutorials/fastai/course-v3/nbs/dl1/images/KrisFace/markFace/original-96/25.png\n",
      "/home/jupyter/tutorials/fastai/course-v3/nbs/dl1/images/KrisFace/markFace/original-96/611.png\n",
      "/home/jupyter/tutorials/fastai/course-v3/nbs/dl1/images/KrisFace/markFace/original-96/578.png\n",
      "/home/jupyter/tutorials/fastai/course-v3/nbs/dl1/images/KrisFace/markFace/original-96/776.png\n",
      "/home/jupyter/tutorials/fastai/course-v3/nbs/dl1/images/KrisFace/markFace/original-96/763.png\n",
      "/home/jupyter/tutorials/fastai/course-v3/nbs/dl1/images/KrisFace/markFace/original-96/779.png\n",
      "/home/jupyter/tutorials/fastai/course-v3/nbs/dl1/images/KrisFace/markFace/original-96/31.png\n",
      "/home/jupyter/tutorials/fastai/course-v3/nbs/dl1/images/KrisFace/markFace/original-96/245.png\n",
      "/home/jupyter/tutorials/fastai/course-v3/nbs/dl1/images/KrisFace/markFace/original-96/364.png\n",
      "/home/jupyter/tutorials/fastai/course-v3/nbs/dl1/images/KrisFace/markFace/original-96/57.png\n",
      "/home/jupyter/tutorials/fastai/course-v3/nbs/dl1/images/KrisFace/markFace/original-96/853.png\n",
      "/home/jupyter/tutorials/fastai/course-v3/nbs/dl1/images/KrisFace/markFace/original-96/26.png\n",
      "/home/jupyter/tutorials/fastai/course-v3/nbs/dl1/images/KrisFace/markFace/original-96/24.png\n",
      "/home/jupyter/tutorials/fastai/course-v3/nbs/dl1/images/KrisFace/markFace/original-96/496.png\n",
      "/home/jupyter/tutorials/fastai/course-v3/nbs/dl1/images/KrisFace/markFace/original-96/3.png\n",
      "/home/jupyter/tutorials/fastai/course-v3/nbs/dl1/images/KrisFace/markFace/original-96/492.png\n",
      "/home/jupyter/tutorials/fastai/course-v3/nbs/dl1/images/KrisFace/markFace/original-96/165.png\n",
      "/home/jupyter/tutorials/fastai/course-v3/nbs/dl1/images/KrisFace/markFace/original-96/526.png\n",
      "/home/jupyter/tutorials/fastai/course-v3/nbs/dl1/images/KrisFace/markFace/original-96/556.png\n",
      "/home/jupyter/tutorials/fastai/course-v3/nbs/dl1/images/KrisFace/markFace/original-96/112.png\n",
      "/home/jupyter/tutorials/fastai/course-v3/nbs/dl1/images/KrisFace/markFace/original-96/444.png\n",
      "/home/jupyter/tutorials/fastai/course-v3/nbs/dl1/images/KrisFace/markFace/original-96/65.png\n",
      "/home/jupyter/tutorials/fastai/course-v3/nbs/dl1/images/KrisFace/markFace/original-96/309.png\n",
      "/home/jupyter/tutorials/fastai/course-v3/nbs/dl1/images/KrisFace/markFace/original-96/93.png\n",
      "/home/jupyter/tutorials/fastai/course-v3/nbs/dl1/images/KrisFace/markFace/original-96/840.png\n",
      "/home/jupyter/tutorials/fastai/course-v3/nbs/dl1/images/KrisFace/markFace/original-96/9.png\n",
      "/home/jupyter/tutorials/fastai/course-v3/nbs/dl1/images/KrisFace/markFace/original-96/241.png\n",
      "/home/jupyter/tutorials/fastai/course-v3/nbs/dl1/images/KrisFace/markFace/original-96/673.png\n",
      "/home/jupyter/tutorials/fastai/course-v3/nbs/dl1/images/KrisFace/markFace/original-96/513.png\n",
      "/home/jupyter/tutorials/fastai/course-v3/nbs/dl1/images/KrisFace/markFace/original-96/826.png\n",
      "/home/jupyter/tutorials/fastai/course-v3/nbs/dl1/images/KrisFace/markFace/original-96/264.png\n",
      "/home/jupyter/tutorials/fastai/course-v3/nbs/dl1/images/KrisFace/markFace/original-96/710.png\n",
      "/home/jupyter/tutorials/fastai/course-v3/nbs/dl1/images/KrisFace/markFace/original-96/418.png\n",
      "/home/jupyter/tutorials/fastai/course-v3/nbs/dl1/images/KrisFace/markFace/original-96/645.png\n",
      "/home/jupyter/tutorials/fastai/course-v3/nbs/dl1/images/KrisFace/markFace/original-96/861.png\n",
      "/home/jupyter/tutorials/fastai/course-v3/nbs/dl1/images/KrisFace/markFace/original-96/107.png\n",
      "/home/jupyter/tutorials/fastai/course-v3/nbs/dl1/images/KrisFace/markFace/original-96/595.png\n",
      "/home/jupyter/tutorials/fastai/course-v3/nbs/dl1/images/KrisFace/markFace/original-96/686.png\n",
      "/home/jupyter/tutorials/fastai/course-v3/nbs/dl1/images/KrisFace/markFace/original-96/102.png\n",
      "/home/jupyter/tutorials/fastai/course-v3/nbs/dl1/images/KrisFace/markFace/original-96/756.png\n",
      "/home/jupyter/tutorials/fastai/course-v3/nbs/dl1/images/KrisFace/markFace/original-96/44.png\n",
      "/home/jupyter/tutorials/fastai/course-v3/nbs/dl1/images/KrisFace/markFace/original-96/20.png\n",
      "/home/jupyter/tutorials/fastai/course-v3/nbs/dl1/images/KrisFace/markFace/original-96/715.png\n",
      "/home/jupyter/tutorials/fastai/course-v3/nbs/dl1/images/KrisFace/markFace/original-96/889.png\n",
      "/home/jupyter/tutorials/fastai/course-v3/nbs/dl1/images/KrisFace/markFace/original-96/203.png\n",
      "/home/jupyter/tutorials/fastai/course-v3/nbs/dl1/images/KrisFace/markFace/original-96/812.png\n",
      "/home/jupyter/tutorials/fastai/course-v3/nbs/dl1/images/KrisFace/markFace/original-96/707.png\n",
      "/home/jupyter/tutorials/fastai/course-v3/nbs/dl1/images/KrisFace/markFace/original-96/762.png\n",
      "/home/jupyter/tutorials/fastai/course-v3/nbs/dl1/images/KrisFace/markFace/original-96/858.png\n",
      "/home/jupyter/tutorials/fastai/course-v3/nbs/dl1/images/KrisFace/markFace/original-96/838.png\n",
      "/home/jupyter/tutorials/fastai/course-v3/nbs/dl1/images/KrisFace/markFace/original-96/361.png\n",
      "/home/jupyter/tutorials/fastai/course-v3/nbs/dl1/images/KrisFace/markFace/original-96/202.png\n"
     ]
    },
    {
     "name": "stdout",
     "output_type": "stream",
     "text": [
      "/home/jupyter/tutorials/fastai/course-v3/nbs/dl1/images/KrisFace/markFace/original-96/501.png\n",
      "/home/jupyter/tutorials/fastai/course-v3/nbs/dl1/images/KrisFace/markFace/original-96/7.png\n",
      "/home/jupyter/tutorials/fastai/course-v3/nbs/dl1/images/KrisFace/markFace/original-96/811.png\n",
      "/home/jupyter/tutorials/fastai/course-v3/nbs/dl1/images/KrisFace/markFace/original-96/334.png\n",
      "/home/jupyter/tutorials/fastai/course-v3/nbs/dl1/images/KrisFace/markFace/original-96/83.png\n",
      "/home/jupyter/tutorials/fastai/course-v3/nbs/dl1/images/KrisFace/markFace/original-96/110.png\n",
      "/home/jupyter/tutorials/fastai/course-v3/nbs/dl1/images/KrisFace/markFace/original-96/79.png\n",
      "/home/jupyter/tutorials/fastai/course-v3/nbs/dl1/images/KrisFace/markFace/original-96/893.png\n",
      "/home/jupyter/tutorials/fastai/course-v3/nbs/dl1/images/KrisFace/markFace/original-96/782.png\n",
      "/home/jupyter/tutorials/fastai/course-v3/nbs/dl1/images/KrisFace/markFace/original-96/21.png\n",
      "/home/jupyter/tutorials/fastai/course-v3/nbs/dl1/images/KrisFace/markFace/original-96/189.png\n",
      "/home/jupyter/tutorials/fastai/course-v3/nbs/dl1/images/KrisFace/markFace/original-96/547.png\n",
      "/home/jupyter/tutorials/fastai/course-v3/nbs/dl1/images/KrisFace/markFace/original-96/216.png\n",
      "/home/jupyter/tutorials/fastai/course-v3/nbs/dl1/images/KrisFace/markFace/original-96/545.png\n",
      "/home/jupyter/tutorials/fastai/course-v3/nbs/dl1/images/KrisFace/markFace/original-96/375.png\n",
      "/home/jupyter/tutorials/fastai/course-v3/nbs/dl1/images/KrisFace/markFace/original-96/106.png\n",
      "/home/jupyter/tutorials/fastai/course-v3/nbs/dl1/images/KrisFace/markFace/original-96/365.png\n",
      "/home/jupyter/tutorials/fastai/course-v3/nbs/dl1/images/KrisFace/markFace/original-96/718.png\n",
      "/home/jupyter/tutorials/fastai/course-v3/nbs/dl1/images/KrisFace/markFace/original-96/324.png\n",
      "/home/jupyter/tutorials/fastai/course-v3/nbs/dl1/images/KrisFace/markFace/original-96/684.png\n",
      "/home/jupyter/tutorials/fastai/course-v3/nbs/dl1/images/KrisFace/markFace/original-96/283.png\n",
      "/home/jupyter/tutorials/fastai/course-v3/nbs/dl1/images/KrisFace/markFace/original-96/736.png\n",
      "/home/jupyter/tutorials/fastai/course-v3/nbs/dl1/images/KrisFace/markFace/original-96/237.png\n",
      "resizing to 256 into /home/jupyter/tutorials/fastai/course-v3/nbs/dl1/images/KrisFace/markFace/original-256\n"
     ]
    },
    {
     "data": {
      "text/html": [
       "\n",
       "    <div>\n",
       "        <style>\n",
       "            /* Turns off some styling */\n",
       "            progress {\n",
       "                /* gets rid of default border in Firefox and Opera. */\n",
       "                border: none;\n",
       "                /* Needs to be in here for Safari polyfill so background images work as expected. */\n",
       "                background-size: auto;\n",
       "            }\n",
       "            .progress-bar-interrupted, .progress-bar-interrupted::-webkit-progress-bar {\n",
       "                background: #F44336;\n",
       "            }\n",
       "        </style>\n",
       "      <progress value='903' class='' max='903', style='width:300px; height:20px; vertical-align: middle;'></progress>\n",
       "      100.00% [903/903 00:11<00:00]\n",
       "    </div>\n",
       "    "
      ],
      "text/plain": [
       "<IPython.core.display.HTML object>"
      ]
     },
     "metadata": {},
     "output_type": "display_data"
    },
    {
     "name": "stdout",
     "output_type": "stream",
     "text": [
      "/home/jupyter/tutorials/fastai/course-v3/nbs/dl1/images/KrisFace/markFace/original-256/692.png\n",
      "/home/jupyter/tutorials/fastai/course-v3/nbs/dl1/images/KrisFace/markFace/original-256/784.png\n",
      "/home/jupyter/tutorials/fastai/course-v3/nbs/dl1/images/KrisFace/markFace/original-256/898.png\n",
      "/home/jupyter/tutorials/fastai/course-v3/nbs/dl1/images/KrisFace/markFace/original-256/842.png\n",
      "/home/jupyter/tutorials/fastai/course-v3/nbs/dl1/images/KrisFace/markFace/original-256/834.png\n",
      "/home/jupyter/tutorials/fastai/course-v3/nbs/dl1/images/KrisFace/markFace/original-256/304.png\n",
      "/home/jupyter/tutorials/fastai/course-v3/nbs/dl1/images/KrisFace/markFace/original-256/340.png\n",
      "/home/jupyter/tutorials/fastai/course-v3/nbs/dl1/images/KrisFace/markFace/original-256/607.png\n",
      "/home/jupyter/tutorials/fastai/course-v3/nbs/dl1/images/KrisFace/markFace/original-256/17.png\n",
      "/home/jupyter/tutorials/fastai/course-v3/nbs/dl1/images/KrisFace/markFace/original-256/367.png\n",
      "/home/jupyter/tutorials/fastai/course-v3/nbs/dl1/images/KrisFace/markFace/original-256/332.png\n",
      "/home/jupyter/tutorials/fastai/course-v3/nbs/dl1/images/KrisFace/markFace/original-256/755.png\n",
      "/home/jupyter/tutorials/fastai/course-v3/nbs/dl1/images/KrisFace/markFace/original-256/142.png\n",
      "/home/jupyter/tutorials/fastai/course-v3/nbs/dl1/images/KrisFace/markFace/original-256/740.png\n",
      "/home/jupyter/tutorials/fastai/course-v3/nbs/dl1/images/KrisFace/markFace/original-256/281.png\n",
      "/home/jupyter/tutorials/fastai/course-v3/nbs/dl1/images/KrisFace/markFace/original-256/221.png\n",
      "/home/jupyter/tutorials/fastai/course-v3/nbs/dl1/images/KrisFace/markFace/original-256/293.png\n",
      "/home/jupyter/tutorials/fastai/course-v3/nbs/dl1/images/KrisFace/markFace/original-256/260.png\n",
      "/home/jupyter/tutorials/fastai/course-v3/nbs/dl1/images/KrisFace/markFace/original-256/711.png\n",
      "/home/jupyter/tutorials/fastai/course-v3/nbs/dl1/images/KrisFace/markFace/original-256/349.png\n",
      "/home/jupyter/tutorials/fastai/course-v3/nbs/dl1/images/KrisFace/markFace/original-256/878.png\n",
      "/home/jupyter/tutorials/fastai/course-v3/nbs/dl1/images/KrisFace/markFace/original-256/520.png\n",
      "/home/jupyter/tutorials/fastai/course-v3/nbs/dl1/images/KrisFace/markFace/original-256/139.png\n",
      "/home/jupyter/tutorials/fastai/course-v3/nbs/dl1/images/KrisFace/markFace/original-256/443.png\n",
      "/home/jupyter/tutorials/fastai/course-v3/nbs/dl1/images/KrisFace/markFace/original-256/426.png\n",
      "/home/jupyter/tutorials/fastai/course-v3/nbs/dl1/images/KrisFace/markFace/original-256/504.png\n",
      "/home/jupyter/tutorials/fastai/course-v3/nbs/dl1/images/KrisFace/markFace/original-256/129.png\n",
      "/home/jupyter/tutorials/fastai/course-v3/nbs/dl1/images/KrisFace/markFace/original-256/157.png\n",
      "/home/jupyter/tutorials/fastai/course-v3/nbs/dl1/images/KrisFace/markFace/original-256/315.png\n",
      "/home/jupyter/tutorials/fastai/course-v3/nbs/dl1/images/KrisFace/markFace/original-256/532.png\n",
      "/home/jupyter/tutorials/fastai/course-v3/nbs/dl1/images/KrisFace/markFace/original-256/318.png\n",
      "/home/jupyter/tutorials/fastai/course-v3/nbs/dl1/images/KrisFace/markFace/original-256/131.png\n",
      "/home/jupyter/tutorials/fastai/course-v3/nbs/dl1/images/KrisFace/markFace/original-256/891.png\n",
      "/home/jupyter/tutorials/fastai/course-v3/nbs/dl1/images/KrisFace/markFace/original-256/292.png\n",
      "/home/jupyter/tutorials/fastai/course-v3/nbs/dl1/images/KrisFace/markFace/original-256/634.png\n",
      "/home/jupyter/tutorials/fastai/course-v3/nbs/dl1/images/KrisFace/markFace/original-256/217.png\n",
      "/home/jupyter/tutorials/fastai/course-v3/nbs/dl1/images/KrisFace/markFace/original-256/870.png\n",
      "/home/jupyter/tutorials/fastai/course-v3/nbs/dl1/images/KrisFace/markFace/original-256/478.png\n",
      "/home/jupyter/tutorials/fastai/course-v3/nbs/dl1/images/KrisFace/markFace/original-256/84.png\n",
      "/home/jupyter/tutorials/fastai/course-v3/nbs/dl1/images/KrisFace/markFace/original-256/60.png\n",
      "/home/jupyter/tutorials/fastai/course-v3/nbs/dl1/images/KrisFace/markFace/original-256/617.png\n",
      "/home/jupyter/tutorials/fastai/course-v3/nbs/dl1/images/KrisFace/markFace/original-256/696.png\n",
      "/home/jupyter/tutorials/fastai/course-v3/nbs/dl1/images/KrisFace/markFace/original-256/897.png\n",
      "/home/jupyter/tutorials/fastai/course-v3/nbs/dl1/images/KrisFace/markFace/original-256/534.png\n",
      "/home/jupyter/tutorials/fastai/course-v3/nbs/dl1/images/KrisFace/markFace/original-256/186.png\n",
      "/home/jupyter/tutorials/fastai/course-v3/nbs/dl1/images/KrisFace/markFace/original-256/766.png\n",
      "/home/jupyter/tutorials/fastai/course-v3/nbs/dl1/images/KrisFace/markFace/original-256/389.png\n",
      "/home/jupyter/tutorials/fastai/course-v3/nbs/dl1/images/KrisFace/markFace/original-256/89.png\n",
      "/home/jupyter/tutorials/fastai/course-v3/nbs/dl1/images/KrisFace/markFace/original-256/432.png\n",
      "/home/jupyter/tutorials/fastai/course-v3/nbs/dl1/images/KrisFace/markFace/original-256/550.png\n",
      "/home/jupyter/tutorials/fastai/course-v3/nbs/dl1/images/KrisFace/markFace/original-256/49.png\n",
      "/home/jupyter/tutorials/fastai/course-v3/nbs/dl1/images/KrisFace/markFace/original-256/71.png\n",
      "/home/jupyter/tutorials/fastai/course-v3/nbs/dl1/images/KrisFace/markFace/original-256/593.png\n",
      "/home/jupyter/tutorials/fastai/course-v3/nbs/dl1/images/KrisFace/markFace/original-256/220.png\n",
      "/home/jupyter/tutorials/fastai/course-v3/nbs/dl1/images/KrisFace/markFace/original-256/572.png\n",
      "/home/jupyter/tutorials/fastai/course-v3/nbs/dl1/images/KrisFace/markFace/original-256/250.png\n",
      "/home/jupyter/tutorials/fastai/course-v3/nbs/dl1/images/KrisFace/markFace/original-256/461.png\n",
      "/home/jupyter/tutorials/fastai/course-v3/nbs/dl1/images/KrisFace/markFace/original-256/455.png\n",
      "/home/jupyter/tutorials/fastai/course-v3/nbs/dl1/images/KrisFace/markFace/original-256/407.png\n",
      "/home/jupyter/tutorials/fastai/course-v3/nbs/dl1/images/KrisFace/markFace/original-256/13.png\n",
      "/home/jupyter/tutorials/fastai/course-v3/nbs/dl1/images/KrisFace/markFace/original-256/483.png\n",
      "/home/jupyter/tutorials/fastai/course-v3/nbs/dl1/images/KrisFace/markFace/original-256/474.png\n",
      "/home/jupyter/tutorials/fastai/course-v3/nbs/dl1/images/KrisFace/markFace/original-256/521.png\n",
      "/home/jupyter/tutorials/fastai/course-v3/nbs/dl1/images/KrisFace/markFace/original-256/590.png\n",
      "/home/jupyter/tutorials/fastai/course-v3/nbs/dl1/images/KrisFace/markFace/original-256/247.png\n",
      "/home/jupyter/tutorials/fastai/course-v3/nbs/dl1/images/KrisFace/markFace/original-256/5.png\n",
      "/home/jupyter/tutorials/fastai/course-v3/nbs/dl1/images/KrisFace/markFace/original-256/902.png\n",
      "/home/jupyter/tutorials/fastai/course-v3/nbs/dl1/images/KrisFace/markFace/original-256/18.png\n",
      "/home/jupyter/tutorials/fastai/course-v3/nbs/dl1/images/KrisFace/markFace/original-256/410.png\n",
      "/home/jupyter/tutorials/fastai/course-v3/nbs/dl1/images/KrisFace/markFace/original-256/80.png\n",
      "/home/jupyter/tutorials/fastai/course-v3/nbs/dl1/images/KrisFace/markFace/original-256/487.png\n",
      "/home/jupyter/tutorials/fastai/course-v3/nbs/dl1/images/KrisFace/markFace/original-256/115.png\n",
      "/home/jupyter/tutorials/fastai/course-v3/nbs/dl1/images/KrisFace/markFace/original-256/543.png\n",
      "/home/jupyter/tutorials/fastai/course-v3/nbs/dl1/images/KrisFace/markFace/original-256/497.png\n",
      "/home/jupyter/tutorials/fastai/course-v3/nbs/dl1/images/KrisFace/markFace/original-256/554.png\n",
      "/home/jupyter/tutorials/fastai/course-v3/nbs/dl1/images/KrisFace/markFace/original-256/100.png\n",
      "/home/jupyter/tutorials/fastai/course-v3/nbs/dl1/images/KrisFace/markFace/original-256/881.png\n",
      "/home/jupyter/tutorials/fastai/course-v3/nbs/dl1/images/KrisFace/markFace/original-256/896.png\n",
      "/home/jupyter/tutorials/fastai/course-v3/nbs/dl1/images/KrisFace/markFace/original-256/312.png\n",
      "/home/jupyter/tutorials/fastai/course-v3/nbs/dl1/images/KrisFace/markFace/original-256/825.png\n",
      "/home/jupyter/tutorials/fastai/course-v3/nbs/dl1/images/KrisFace/markFace/original-256/733.png\n",
      "/home/jupyter/tutorials/fastai/course-v3/nbs/dl1/images/KrisFace/markFace/original-256/540.png\n",
      "/home/jupyter/tutorials/fastai/course-v3/nbs/dl1/images/KrisFace/markFace/original-256/109.png\n",
      "/home/jupyter/tutorials/fastai/course-v3/nbs/dl1/images/KrisFace/markFace/original-256/721.png\n",
      "/home/jupyter/tutorials/fastai/course-v3/nbs/dl1/images/KrisFace/markFace/original-256/808.png\n",
      "/home/jupyter/tutorials/fastai/course-v3/nbs/dl1/images/KrisFace/markFace/original-256/676.png\n",
      "/home/jupyter/tutorials/fastai/course-v3/nbs/dl1/images/KrisFace/markFace/original-256/449.png\n"
     ]
    },
    {
     "name": "stdout",
     "output_type": "stream",
     "text": [
      "/home/jupyter/tutorials/fastai/course-v3/nbs/dl1/images/KrisFace/markFace/original-256/735.png\n",
      "/home/jupyter/tutorials/fastai/course-v3/nbs/dl1/images/KrisFace/markFace/original-256/301.png\n",
      "/home/jupyter/tutorials/fastai/course-v3/nbs/dl1/images/KrisFace/markFace/original-256/864.png\n",
      "/home/jupyter/tutorials/fastai/course-v3/nbs/dl1/images/KrisFace/markFace/original-256/175.png\n",
      "/home/jupyter/tutorials/fastai/course-v3/nbs/dl1/images/KrisFace/markFace/original-256/296.png\n",
      "/home/jupyter/tutorials/fastai/course-v3/nbs/dl1/images/KrisFace/markFace/original-256/575.png\n",
      "/home/jupyter/tutorials/fastai/course-v3/nbs/dl1/images/KrisFace/markFace/original-256/113.png\n",
      "/home/jupyter/tutorials/fastai/course-v3/nbs/dl1/images/KrisFace/markFace/original-256/200.png\n",
      "/home/jupyter/tutorials/fastai/course-v3/nbs/dl1/images/KrisFace/markFace/original-256/232.png\n",
      "/home/jupyter/tutorials/fastai/course-v3/nbs/dl1/images/KrisFace/markFace/original-256/677.png\n",
      "/home/jupyter/tutorials/fastai/course-v3/nbs/dl1/images/KrisFace/markFace/original-256/191.png\n",
      "/home/jupyter/tutorials/fastai/course-v3/nbs/dl1/images/KrisFace/markFace/original-256/8.png\n",
      "/home/jupyter/tutorials/fastai/course-v3/nbs/dl1/images/KrisFace/markFace/original-256/605.png\n",
      "/home/jupyter/tutorials/fastai/course-v3/nbs/dl1/images/KrisFace/markFace/original-256/441.png\n",
      "/home/jupyter/tutorials/fastai/course-v3/nbs/dl1/images/KrisFace/markFace/original-256/563.png\n",
      "/home/jupyter/tutorials/fastai/course-v3/nbs/dl1/images/KrisFace/markFace/original-256/625.png\n",
      "/home/jupyter/tutorials/fastai/course-v3/nbs/dl1/images/KrisFace/markFace/original-256/486.png\n",
      "/home/jupyter/tutorials/fastai/course-v3/nbs/dl1/images/KrisFace/markFace/original-256/856.png\n",
      "/home/jupyter/tutorials/fastai/course-v3/nbs/dl1/images/KrisFace/markFace/original-256/574.png\n",
      "/home/jupyter/tutorials/fastai/course-v3/nbs/dl1/images/KrisFace/markFace/original-256/251.png\n",
      "/home/jupyter/tutorials/fastai/course-v3/nbs/dl1/images/KrisFace/markFace/original-256/199.png\n",
      "/home/jupyter/tutorials/fastai/course-v3/nbs/dl1/images/KrisFace/markFace/original-256/717.png\n",
      "/home/jupyter/tutorials/fastai/course-v3/nbs/dl1/images/KrisFace/markFace/original-256/14.png\n",
      "/home/jupyter/tutorials/fastai/course-v3/nbs/dl1/images/KrisFace/markFace/original-256/320.png\n",
      "/home/jupyter/tutorials/fastai/course-v3/nbs/dl1/images/KrisFace/markFace/original-256/37.png\n",
      "/home/jupyter/tutorials/fastai/course-v3/nbs/dl1/images/KrisFace/markFace/original-256/899.png\n",
      "/home/jupyter/tutorials/fastai/course-v3/nbs/dl1/images/KrisFace/markFace/original-256/582.png\n",
      "/home/jupyter/tutorials/fastai/course-v3/nbs/dl1/images/KrisFace/markFace/original-256/464.png\n",
      "/home/jupyter/tutorials/fastai/course-v3/nbs/dl1/images/KrisFace/markFace/original-256/330.png\n",
      "/home/jupyter/tutorials/fastai/course-v3/nbs/dl1/images/KrisFace/markFace/original-256/541.png\n",
      "/home/jupyter/tutorials/fastai/course-v3/nbs/dl1/images/KrisFace/markFace/original-256/588.png\n",
      "/home/jupyter/tutorials/fastai/course-v3/nbs/dl1/images/KrisFace/markFace/original-256/481.png\n",
      "/home/jupyter/tutorials/fastai/course-v3/nbs/dl1/images/KrisFace/markFace/original-256/393.png\n",
      "/home/jupyter/tutorials/fastai/course-v3/nbs/dl1/images/KrisFace/markFace/original-256/117.png\n",
      "/home/jupyter/tutorials/fastai/course-v3/nbs/dl1/images/KrisFace/markFace/original-256/796.png\n",
      "/home/jupyter/tutorials/fastai/course-v3/nbs/dl1/images/KrisFace/markFace/original-256/108.png\n",
      "/home/jupyter/tutorials/fastai/course-v3/nbs/dl1/images/KrisFace/markFace/original-256/427.png\n",
      "/home/jupyter/tutorials/fastai/course-v3/nbs/dl1/images/KrisFace/markFace/original-256/649.png\n",
      "/home/jupyter/tutorials/fastai/course-v3/nbs/dl1/images/KrisFace/markFace/original-256/456.png\n",
      "/home/jupyter/tutorials/fastai/course-v3/nbs/dl1/images/KrisFace/markFace/original-256/459.png\n",
      "/home/jupyter/tutorials/fastai/course-v3/nbs/dl1/images/KrisFace/markFace/original-256/285.png\n",
      "/home/jupyter/tutorials/fastai/course-v3/nbs/dl1/images/KrisFace/markFace/original-256/431.png\n",
      "/home/jupyter/tutorials/fastai/course-v3/nbs/dl1/images/KrisFace/markFace/original-256/204.png\n",
      "/home/jupyter/tutorials/fastai/course-v3/nbs/dl1/images/KrisFace/markFace/original-256/180.png\n",
      "/home/jupyter/tutorials/fastai/course-v3/nbs/dl1/images/KrisFace/markFace/original-256/235.png\n",
      "/home/jupyter/tutorials/fastai/course-v3/nbs/dl1/images/KrisFace/markFace/original-256/325.png\n",
      "/home/jupyter/tutorials/fastai/course-v3/nbs/dl1/images/KrisFace/markFace/original-256/670.png\n",
      "/home/jupyter/tutorials/fastai/course-v3/nbs/dl1/images/KrisFace/markFace/original-256/75.png\n",
      "/home/jupyter/tutorials/fastai/course-v3/nbs/dl1/images/KrisFace/markFace/original-256/185.png\n",
      "/home/jupyter/tutorials/fastai/course-v3/nbs/dl1/images/KrisFace/markFace/original-256/99.png\n",
      "/home/jupyter/tutorials/fastai/course-v3/nbs/dl1/images/KrisFace/markFace/original-256/385.png\n",
      "/home/jupyter/tutorials/fastai/course-v3/nbs/dl1/images/KrisFace/markFace/original-256/629.png\n",
      "/home/jupyter/tutorials/fastai/course-v3/nbs/dl1/images/KrisFace/markFace/original-256/566.png\n",
      "/home/jupyter/tutorials/fastai/course-v3/nbs/dl1/images/KrisFace/markFace/original-256/653.png\n",
      "/home/jupyter/tutorials/fastai/course-v3/nbs/dl1/images/KrisFace/markFace/original-256/366.png\n",
      "/home/jupyter/tutorials/fastai/course-v3/nbs/dl1/images/KrisFace/markFace/original-256/378.png\n",
      "/home/jupyter/tutorials/fastai/course-v3/nbs/dl1/images/KrisFace/markFace/original-256/122.png\n",
      "/home/jupyter/tutorials/fastai/course-v3/nbs/dl1/images/KrisFace/markFace/original-256/820.png\n",
      "/home/jupyter/tutorials/fastai/course-v3/nbs/dl1/images/KrisFace/markFace/original-256/761.png\n",
      "/home/jupyter/tutorials/fastai/course-v3/nbs/dl1/images/KrisFace/markFace/original-256/480.png\n",
      "/home/jupyter/tutorials/fastai/course-v3/nbs/dl1/images/KrisFace/markFace/original-256/462.png\n",
      "/home/jupyter/tutorials/fastai/course-v3/nbs/dl1/images/KrisFace/markFace/original-256/875.png\n",
      "/home/jupyter/tutorials/fastai/course-v3/nbs/dl1/images/KrisFace/markFace/original-256/134.png\n",
      "/home/jupyter/tutorials/fastai/course-v3/nbs/dl1/images/KrisFace/markFace/original-256/712.png\n",
      "/home/jupyter/tutorials/fastai/course-v3/nbs/dl1/images/KrisFace/markFace/original-256/725.png\n",
      "/home/jupyter/tutorials/fastai/course-v3/nbs/dl1/images/KrisFace/markFace/original-256/768.png\n",
      "/home/jupyter/tutorials/fastai/course-v3/nbs/dl1/images/KrisFace/markFace/original-256/647.png\n",
      "/home/jupyter/tutorials/fastai/course-v3/nbs/dl1/images/KrisFace/markFace/original-256/465.png\n",
      "/home/jupyter/tutorials/fastai/course-v3/nbs/dl1/images/KrisFace/markFace/original-256/794.png\n",
      "/home/jupyter/tutorials/fastai/course-v3/nbs/dl1/images/KrisFace/markFace/original-256/857.png\n",
      "/home/jupyter/tutorials/fastai/course-v3/nbs/dl1/images/KrisFace/markFace/original-256/616.png\n",
      "/home/jupyter/tutorials/fastai/course-v3/nbs/dl1/images/KrisFace/markFace/original-256/152.png\n",
      "/home/jupyter/tutorials/fastai/course-v3/nbs/dl1/images/KrisFace/markFace/original-256/51.png\n",
      "/home/jupyter/tutorials/fastai/course-v3/nbs/dl1/images/KrisFace/markFace/original-256/141.png\n",
      "/home/jupyter/tutorials/fastai/course-v3/nbs/dl1/images/KrisFace/markFace/original-256/581.png\n",
      "/home/jupyter/tutorials/fastai/course-v3/nbs/dl1/images/KrisFace/markFace/original-256/613.png\n",
      "/home/jupyter/tutorials/fastai/course-v3/nbs/dl1/images/KrisFace/markFace/original-256/138.png\n",
      "/home/jupyter/tutorials/fastai/course-v3/nbs/dl1/images/KrisFace/markFace/original-256/663.png\n",
      "/home/jupyter/tutorials/fastai/course-v3/nbs/dl1/images/KrisFace/markFace/original-256/731.png\n",
      "/home/jupyter/tutorials/fastai/course-v3/nbs/dl1/images/KrisFace/markFace/original-256/654.png\n",
      "/home/jupyter/tutorials/fastai/course-v3/nbs/dl1/images/KrisFace/markFace/original-256/777.png\n",
      "/home/jupyter/tutorials/fastai/course-v3/nbs/dl1/images/KrisFace/markFace/original-256/403.png\n",
      "/home/jupyter/tutorials/fastai/course-v3/nbs/dl1/images/KrisFace/markFace/original-256/646.png\n",
      "/home/jupyter/tutorials/fastai/course-v3/nbs/dl1/images/KrisFace/markFace/original-256/4.png\n",
      "/home/jupyter/tutorials/fastai/course-v3/nbs/dl1/images/KrisFace/markFace/original-256/608.png\n",
      "/home/jupyter/tutorials/fastai/course-v3/nbs/dl1/images/KrisFace/markFace/original-256/781.png\n",
      "/home/jupyter/tutorials/fastai/course-v3/nbs/dl1/images/KrisFace/markFace/original-256/339.png\n"
     ]
    },
    {
     "name": "stdout",
     "output_type": "stream",
     "text": [
      "/home/jupyter/tutorials/fastai/course-v3/nbs/dl1/images/KrisFace/markFace/original-256/35.png\n",
      "/home/jupyter/tutorials/fastai/course-v3/nbs/dl1/images/KrisFace/markFace/original-256/672.png\n",
      "/home/jupyter/tutorials/fastai/course-v3/nbs/dl1/images/KrisFace/markFace/original-256/368.png\n",
      "/home/jupyter/tutorials/fastai/course-v3/nbs/dl1/images/KrisFace/markFace/original-256/190.png\n",
      "/home/jupyter/tutorials/fastai/course-v3/nbs/dl1/images/KrisFace/markFace/original-256/272.png\n",
      "/home/jupyter/tutorials/fastai/course-v3/nbs/dl1/images/KrisFace/markFace/original-256/732.png\n",
      "/home/jupyter/tutorials/fastai/course-v3/nbs/dl1/images/KrisFace/markFace/original-256/82.png\n",
      "/home/jupyter/tutorials/fastai/course-v3/nbs/dl1/images/KrisFace/markFace/original-256/305.png\n",
      "/home/jupyter/tutorials/fastai/course-v3/nbs/dl1/images/KrisFace/markFace/original-256/11.png\n",
      "/home/jupyter/tutorials/fastai/course-v3/nbs/dl1/images/KrisFace/markFace/original-256/277.png\n",
      "/home/jupyter/tutorials/fastai/course-v3/nbs/dl1/images/KrisFace/markFace/original-256/489.png\n",
      "/home/jupyter/tutorials/fastai/course-v3/nbs/dl1/images/KrisFace/markFace/original-256/824.png\n",
      "/home/jupyter/tutorials/fastai/course-v3/nbs/dl1/images/KrisFace/markFace/original-256/406.png\n",
      "/home/jupyter/tutorials/fastai/course-v3/nbs/dl1/images/KrisFace/markFace/original-256/774.png\n",
      "/home/jupyter/tutorials/fastai/course-v3/nbs/dl1/images/KrisFace/markFace/original-256/356.png\n",
      "/home/jupyter/tutorials/fastai/course-v3/nbs/dl1/images/KrisFace/markFace/original-256/56.png\n",
      "/home/jupyter/tutorials/fastai/course-v3/nbs/dl1/images/KrisFace/markFace/original-256/380.png\n",
      "/home/jupyter/tutorials/fastai/course-v3/nbs/dl1/images/KrisFace/markFace/original-256/659.png\n",
      "/home/jupyter/tutorials/fastai/course-v3/nbs/dl1/images/KrisFace/markFace/original-256/871.png\n",
      "/home/jupyter/tutorials/fastai/course-v3/nbs/dl1/images/KrisFace/markFace/original-256/476.png\n",
      "/home/jupyter/tutorials/fastai/course-v3/nbs/dl1/images/KrisFace/markFace/original-256/371.png\n",
      "/home/jupyter/tutorials/fastai/course-v3/nbs/dl1/images/KrisFace/markFace/original-256/1.png\n",
      "/home/jupyter/tutorials/fastai/course-v3/nbs/dl1/images/KrisFace/markFace/original-256/685.png\n",
      "/home/jupyter/tutorials/fastai/course-v3/nbs/dl1/images/KrisFace/markFace/original-256/542.png\n",
      "/home/jupyter/tutorials/fastai/course-v3/nbs/dl1/images/KrisFace/markFace/original-256/671.png\n",
      "/home/jupyter/tutorials/fastai/course-v3/nbs/dl1/images/KrisFace/markFace/original-256/413.png\n",
      "/home/jupyter/tutorials/fastai/course-v3/nbs/dl1/images/KrisFace/markFace/original-256/631.png\n",
      "/home/jupyter/tutorials/fastai/course-v3/nbs/dl1/images/KrisFace/markFace/original-256/326.png\n",
      "/home/jupyter/tutorials/fastai/course-v3/nbs/dl1/images/KrisFace/markFace/original-256/228.png\n",
      "/home/jupyter/tutorials/fastai/course-v3/nbs/dl1/images/KrisFace/markFace/original-256/208.png\n",
      "/home/jupyter/tutorials/fastai/course-v3/nbs/dl1/images/KrisFace/markFace/original-256/568.png\n",
      "/home/jupyter/tutorials/fastai/course-v3/nbs/dl1/images/KrisFace/markFace/original-256/54.png\n",
      "/home/jupyter/tutorials/fastai/course-v3/nbs/dl1/images/KrisFace/markFace/original-256/422.png\n",
      "/home/jupyter/tutorials/fastai/course-v3/nbs/dl1/images/KrisFace/markFace/original-256/494.png\n",
      "/home/jupyter/tutorials/fastai/course-v3/nbs/dl1/images/KrisFace/markFace/original-256/174.png\n",
      "/home/jupyter/tutorials/fastai/course-v3/nbs/dl1/images/KrisFace/markFace/original-256/615.png\n",
      "/home/jupyter/tutorials/fastai/course-v3/nbs/dl1/images/KrisFace/markFace/original-256/522.png\n",
      "/home/jupyter/tutorials/fastai/course-v3/nbs/dl1/images/KrisFace/markFace/original-256/804.png\n",
      "/home/jupyter/tutorials/fastai/course-v3/nbs/dl1/images/KrisFace/markFace/original-256/394.png\n",
      "/home/jupyter/tutorials/fastai/course-v3/nbs/dl1/images/KrisFace/markFace/original-256/502.png\n",
      "/home/jupyter/tutorials/fastai/course-v3/nbs/dl1/images/KrisFace/markFace/original-256/843.png\n",
      "/home/jupyter/tutorials/fastai/course-v3/nbs/dl1/images/KrisFace/markFace/original-256/666.png\n",
      "/home/jupyter/tutorials/fastai/course-v3/nbs/dl1/images/KrisFace/markFace/original-256/602.png\n",
      "/home/jupyter/tutorials/fastai/course-v3/nbs/dl1/images/KrisFace/markFace/original-256/869.png\n",
      "/home/jupyter/tutorials/fastai/course-v3/nbs/dl1/images/KrisFace/markFace/original-256/348.png\n",
      "/home/jupyter/tutorials/fastai/course-v3/nbs/dl1/images/KrisFace/markFace/original-256/836.png\n",
      "/home/jupyter/tutorials/fastai/course-v3/nbs/dl1/images/KrisFace/markFace/original-256/233.png\n",
      "/home/jupyter/tutorials/fastai/course-v3/nbs/dl1/images/KrisFace/markFace/original-256/801.png\n",
      "/home/jupyter/tutorials/fastai/course-v3/nbs/dl1/images/KrisFace/markFace/original-256/227.png\n",
      "/home/jupyter/tutorials/fastai/course-v3/nbs/dl1/images/KrisFace/markFace/original-256/767.png\n",
      "/home/jupyter/tutorials/fastai/course-v3/nbs/dl1/images/KrisFace/markFace/original-256/879.png\n",
      "/home/jupyter/tutorials/fastai/course-v3/nbs/dl1/images/KrisFace/markFace/original-256/810.png\n",
      "/home/jupyter/tutorials/fastai/course-v3/nbs/dl1/images/KrisFace/markFace/original-256/268.png\n",
      "/home/jupyter/tutorials/fastai/course-v3/nbs/dl1/images/KrisFace/markFace/original-256/249.png\n",
      "/home/jupyter/tutorials/fastai/course-v3/nbs/dl1/images/KrisFace/markFace/original-256/172.png\n",
      "/home/jupyter/tutorials/fastai/course-v3/nbs/dl1/images/KrisFace/markFace/original-256/802.png\n",
      "/home/jupyter/tutorials/fastai/course-v3/nbs/dl1/images/KrisFace/markFace/original-256/354.png\n",
      "/home/jupyter/tutorials/fastai/course-v3/nbs/dl1/images/KrisFace/markFace/original-256/682.png\n",
      "/home/jupyter/tutorials/fastai/course-v3/nbs/dl1/images/KrisFace/markFace/original-256/855.png\n",
      "/home/jupyter/tutorials/fastai/course-v3/nbs/dl1/images/KrisFace/markFace/original-256/41.png\n",
      "/home/jupyter/tutorials/fastai/course-v3/nbs/dl1/images/KrisFace/markFace/original-256/624.png\n",
      "/home/jupyter/tutorials/fastai/course-v3/nbs/dl1/images/KrisFace/markFace/original-256/706.png\n",
      "/home/jupyter/tutorials/fastai/course-v3/nbs/dl1/images/KrisFace/markFace/original-256/635.png\n",
      "/home/jupyter/tutorials/fastai/course-v3/nbs/dl1/images/KrisFace/markFace/original-256/847.png\n",
      "/home/jupyter/tutorials/fastai/course-v3/nbs/dl1/images/KrisFace/markFace/original-256/597.png\n",
      "/home/jupyter/tutorials/fastai/course-v3/nbs/dl1/images/KrisFace/markFace/original-256/507.png\n",
      "/home/jupyter/tutorials/fastai/course-v3/nbs/dl1/images/KrisFace/markFace/original-256/754.png\n",
      "/home/jupyter/tutorials/fastai/course-v3/nbs/dl1/images/KrisFace/markFace/original-256/310.png\n",
      "/home/jupyter/tutorials/fastai/course-v3/nbs/dl1/images/KrisFace/markFace/original-256/230.png\n",
      "/home/jupyter/tutorials/fastai/course-v3/nbs/dl1/images/KrisFace/markFace/original-256/118.png\n",
      "/home/jupyter/tutorials/fastai/course-v3/nbs/dl1/images/KrisFace/markFace/original-256/155.png\n",
      "/home/jupyter/tutorials/fastai/course-v3/nbs/dl1/images/KrisFace/markFace/original-256/414.png\n",
      "/home/jupyter/tutorials/fastai/course-v3/nbs/dl1/images/KrisFace/markFace/original-256/576.png\n",
      "/home/jupyter/tutorials/fastai/course-v3/nbs/dl1/images/KrisFace/markFace/original-256/604.png\n",
      "/home/jupyter/tutorials/fastai/course-v3/nbs/dl1/images/KrisFace/markFace/original-256/477.png\n",
      "/home/jupyter/tutorials/fastai/course-v3/nbs/dl1/images/KrisFace/markFace/original-256/137.png\n",
      "/home/jupyter/tutorials/fastai/course-v3/nbs/dl1/images/KrisFace/markFace/original-256/372.png\n",
      "/home/jupyter/tutorials/fastai/course-v3/nbs/dl1/images/KrisFace/markFace/original-256/270.png\n",
      "/home/jupyter/tutorials/fastai/course-v3/nbs/dl1/images/KrisFace/markFace/original-256/39.png\n",
      "/home/jupyter/tutorials/fastai/course-v3/nbs/dl1/images/KrisFace/markFace/original-256/655.png\n",
      "/home/jupyter/tutorials/fastai/course-v3/nbs/dl1/images/KrisFace/markFace/original-256/28.png\n",
      "/home/jupyter/tutorials/fastai/course-v3/nbs/dl1/images/KrisFace/markFace/original-256/344.png\n",
      "/home/jupyter/tutorials/fastai/course-v3/nbs/dl1/images/KrisFace/markFace/original-256/222.png\n",
      "/home/jupyter/tutorials/fastai/course-v3/nbs/dl1/images/KrisFace/markFace/original-256/510.png\n",
      "/home/jupyter/tutorials/fastai/course-v3/nbs/dl1/images/KrisFace/markFace/original-256/490.png\n",
      "/home/jupyter/tutorials/fastai/course-v3/nbs/dl1/images/KrisFace/markFace/original-256/289.png\n",
      "/home/jupyter/tutorials/fastai/course-v3/nbs/dl1/images/KrisFace/markFace/original-256/787.png\n"
     ]
    },
    {
     "name": "stdout",
     "output_type": "stream",
     "text": [
      "/home/jupyter/tutorials/fastai/course-v3/nbs/dl1/images/KrisFace/markFace/original-256/495.png\n",
      "/home/jupyter/tutorials/fastai/course-v3/nbs/dl1/images/KrisFace/markFace/original-256/865.png\n",
      "/home/jupyter/tutorials/fastai/course-v3/nbs/dl1/images/KrisFace/markFace/original-256/201.png\n",
      "/home/jupyter/tutorials/fastai/course-v3/nbs/dl1/images/KrisFace/markFace/original-256/194.png\n",
      "/home/jupyter/tutorials/fastai/course-v3/nbs/dl1/images/KrisFace/markFace/original-256/791.png\n",
      "/home/jupyter/tutorials/fastai/course-v3/nbs/dl1/images/KrisFace/markFace/original-256/851.png\n",
      "/home/jupyter/tutorials/fastai/course-v3/nbs/dl1/images/KrisFace/markFace/original-256/538.png\n",
      "/home/jupyter/tutorials/fastai/course-v3/nbs/dl1/images/KrisFace/markFace/original-256/388.png\n",
      "/home/jupyter/tutorials/fastai/course-v3/nbs/dl1/images/KrisFace/markFace/original-256/219.png\n",
      "/home/jupyter/tutorials/fastai/course-v3/nbs/dl1/images/KrisFace/markFace/original-256/720.png\n",
      "/home/jupyter/tutorials/fastai/course-v3/nbs/dl1/images/KrisFace/markFace/original-256/680.png\n",
      "/home/jupyter/tutorials/fastai/course-v3/nbs/dl1/images/KrisFace/markFace/original-256/536.png\n",
      "/home/jupyter/tutorials/fastai/course-v3/nbs/dl1/images/KrisFace/markFace/original-256/482.png\n",
      "/home/jupyter/tutorials/fastai/course-v3/nbs/dl1/images/KrisFace/markFace/original-256/350.png\n",
      "/home/jupyter/tutorials/fastai/course-v3/nbs/dl1/images/KrisFace/markFace/original-256/500.png\n",
      "/home/jupyter/tutorials/fastai/course-v3/nbs/dl1/images/KrisFace/markFace/original-256/23.png\n",
      "/home/jupyter/tutorials/fastai/course-v3/nbs/dl1/images/KrisFace/markFace/original-256/144.png\n",
      "/home/jupyter/tutorials/fastai/course-v3/nbs/dl1/images/KrisFace/markFace/original-256/630.png\n",
      "/home/jupyter/tutorials/fastai/course-v3/nbs/dl1/images/KrisFace/markFace/original-256/793.png\n",
      "/home/jupyter/tutorials/fastai/course-v3/nbs/dl1/images/KrisFace/markFace/original-256/391.png\n",
      "/home/jupyter/tutorials/fastai/course-v3/nbs/dl1/images/KrisFace/markFace/original-256/714.png\n",
      "/home/jupyter/tutorials/fastai/course-v3/nbs/dl1/images/KrisFace/markFace/original-256/346.png\n",
      "/home/jupyter/tutorials/fastai/course-v3/nbs/dl1/images/KrisFace/markFace/original-256/447.png\n",
      "/home/jupyter/tutorials/fastai/course-v3/nbs/dl1/images/KrisFace/markFace/original-256/498.png\n",
      "/home/jupyter/tutorials/fastai/course-v3/nbs/dl1/images/KrisFace/markFace/original-256/745.png\n",
      "/home/jupyter/tutorials/fastai/course-v3/nbs/dl1/images/KrisFace/markFace/original-256/818.png\n",
      "/home/jupyter/tutorials/fastai/course-v3/nbs/dl1/images/KrisFace/markFace/original-256/59.png\n",
      "/home/jupyter/tutorials/fastai/course-v3/nbs/dl1/images/KrisFace/markFace/original-256/479.png\n",
      "/home/jupyter/tutorials/fastai/course-v3/nbs/dl1/images/KrisFace/markFace/original-256/74.png\n",
      "/home/jupyter/tutorials/fastai/course-v3/nbs/dl1/images/KrisFace/markFace/original-256/311.png\n",
      "/home/jupyter/tutorials/fastai/course-v3/nbs/dl1/images/KrisFace/markFace/original-256/900.png\n",
      "/home/jupyter/tutorials/fastai/course-v3/nbs/dl1/images/KrisFace/markFace/original-256/400.png\n",
      "/home/jupyter/tutorials/fastai/course-v3/nbs/dl1/images/KrisFace/markFace/original-256/314.png\n",
      "/home/jupyter/tutorials/fastai/course-v3/nbs/dl1/images/KrisFace/markFace/original-256/557.png\n",
      "/home/jupyter/tutorials/fastai/course-v3/nbs/dl1/images/KrisFace/markFace/original-256/392.png\n",
      "/home/jupyter/tutorials/fastai/course-v3/nbs/dl1/images/KrisFace/markFace/original-256/362.png\n",
      "/home/jupyter/tutorials/fastai/course-v3/nbs/dl1/images/KrisFace/markFace/original-256/258.png\n",
      "/home/jupyter/tutorials/fastai/course-v3/nbs/dl1/images/KrisFace/markFace/original-256/882.png\n",
      "/home/jupyter/tutorials/fastai/course-v3/nbs/dl1/images/KrisFace/markFace/original-256/759.png\n",
      "/home/jupyter/tutorials/fastai/course-v3/nbs/dl1/images/KrisFace/markFace/original-256/2.png\n",
      "/home/jupyter/tutorials/fastai/course-v3/nbs/dl1/images/KrisFace/markFace/original-256/799.png\n",
      "/home/jupyter/tutorials/fastai/course-v3/nbs/dl1/images/KrisFace/markFace/original-256/336.png\n",
      "/home/jupyter/tutorials/fastai/course-v3/nbs/dl1/images/KrisFace/markFace/original-256/47.png\n",
      "/home/jupyter/tutorials/fastai/course-v3/nbs/dl1/images/KrisFace/markFace/original-256/639.png\n",
      "/home/jupyter/tutorials/fastai/course-v3/nbs/dl1/images/KrisFace/markFace/original-256/730.png\n",
      "/home/jupyter/tutorials/fastai/course-v3/nbs/dl1/images/KrisFace/markFace/original-256/738.png\n",
      "/home/jupyter/tutorials/fastai/course-v3/nbs/dl1/images/KrisFace/markFace/original-256/620.png\n",
      "/home/jupyter/tutorials/fastai/course-v3/nbs/dl1/images/KrisFace/markFace/original-256/785.png\n",
      "/home/jupyter/tutorials/fastai/course-v3/nbs/dl1/images/KrisFace/markFace/original-256/587.png\n",
      "/home/jupyter/tutorials/fastai/course-v3/nbs/dl1/images/KrisFace/markFace/original-256/98.png\n",
      "/home/jupyter/tutorials/fastai/course-v3/nbs/dl1/images/KrisFace/markFace/original-256/751.png\n",
      "/home/jupyter/tutorials/fastai/course-v3/nbs/dl1/images/KrisFace/markFace/original-256/758.png\n",
      "/home/jupyter/tutorials/fastai/course-v3/nbs/dl1/images/KrisFace/markFace/original-256/827.png\n",
      "/home/jupyter/tutorials/fastai/course-v3/nbs/dl1/images/KrisFace/markFace/original-256/369.png\n",
      "/home/jupyter/tutorials/fastai/course-v3/nbs/dl1/images/KrisFace/markFace/original-256/395.png\n",
      "/home/jupyter/tutorials/fastai/course-v3/nbs/dl1/images/KrisFace/markFace/original-256/16.png\n",
      "/home/jupyter/tutorials/fastai/course-v3/nbs/dl1/images/KrisFace/markFace/original-256/876.png\n",
      "/home/jupyter/tutorials/fastai/course-v3/nbs/dl1/images/KrisFace/markFace/original-256/162.png\n",
      "/home/jupyter/tutorials/fastai/course-v3/nbs/dl1/images/KrisFace/markFace/original-256/333.png\n",
      "/home/jupyter/tutorials/fastai/course-v3/nbs/dl1/images/KrisFace/markFace/original-256/147.png\n",
      "/home/jupyter/tutorials/fastai/course-v3/nbs/dl1/images/KrisFace/markFace/original-256/748.png\n",
      "/home/jupyter/tutorials/fastai/course-v3/nbs/dl1/images/KrisFace/markFace/original-256/383.png\n",
      "/home/jupyter/tutorials/fastai/course-v3/nbs/dl1/images/KrisFace/markFace/original-256/815.png\n",
      "/home/jupyter/tutorials/fastai/course-v3/nbs/dl1/images/KrisFace/markFace/original-256/253.png\n",
      "/home/jupyter/tutorials/fastai/course-v3/nbs/dl1/images/KrisFace/markFace/original-256/226.png\n",
      "/home/jupyter/tutorials/fastai/course-v3/nbs/dl1/images/KrisFace/markFace/original-256/669.png\n",
      "/home/jupyter/tutorials/fastai/course-v3/nbs/dl1/images/KrisFace/markFace/original-256/176.png\n",
      "/home/jupyter/tutorials/fastai/course-v3/nbs/dl1/images/KrisFace/markFace/original-256/337.png\n",
      "/home/jupyter/tutorials/fastai/course-v3/nbs/dl1/images/KrisFace/markFace/original-256/703.png\n",
      "/home/jupyter/tutorials/fastai/course-v3/nbs/dl1/images/KrisFace/markFace/original-256/886.png\n",
      "/home/jupyter/tutorials/fastai/course-v3/nbs/dl1/images/KrisFace/markFace/original-256/140.png\n",
      "/home/jupyter/tutorials/fastai/course-v3/nbs/dl1/images/KrisFace/markFace/original-256/423.png\n",
      "/home/jupyter/tutorials/fastai/course-v3/nbs/dl1/images/KrisFace/markFace/original-256/29.png\n",
      "/home/jupyter/tutorials/fastai/course-v3/nbs/dl1/images/KrisFace/markFace/original-256/290.png\n",
      "/home/jupyter/tutorials/fastai/course-v3/nbs/dl1/images/KrisFace/markFace/original-256/446.png\n",
      "/home/jupyter/tutorials/fastai/course-v3/nbs/dl1/images/KrisFace/markFace/original-256/127.png\n",
      "/home/jupyter/tutorials/fastai/course-v3/nbs/dl1/images/KrisFace/markFace/original-256/269.png\n",
      "/home/jupyter/tutorials/fastai/course-v3/nbs/dl1/images/KrisFace/markFace/original-256/207.png\n",
      "/home/jupyter/tutorials/fastai/course-v3/nbs/dl1/images/KrisFace/markFace/original-256/381.png\n",
      "/home/jupyter/tutorials/fastai/course-v3/nbs/dl1/images/KrisFace/markFace/original-256/124.png\n",
      "/home/jupyter/tutorials/fastai/course-v3/nbs/dl1/images/KrisFace/markFace/original-256/205.png\n",
      "/home/jupyter/tutorials/fastai/course-v3/nbs/dl1/images/KrisFace/markFace/original-256/10.png\n",
      "/home/jupyter/tutorials/fastai/course-v3/nbs/dl1/images/KrisFace/markFace/original-256/750.png\n",
      "/home/jupyter/tutorials/fastai/course-v3/nbs/dl1/images/KrisFace/markFace/original-256/308.png\n",
      "/home/jupyter/tutorials/fastai/course-v3/nbs/dl1/images/KrisFace/markFace/original-256/77.png\n",
      "/home/jupyter/tutorials/fastai/course-v3/nbs/dl1/images/KrisFace/markFace/original-256/744.png\n",
      "/home/jupyter/tutorials/fastai/course-v3/nbs/dl1/images/KrisFace/markFace/original-256/518.png\n"
     ]
    },
    {
     "name": "stdout",
     "output_type": "stream",
     "text": [
      "/home/jupyter/tutorials/fastai/course-v3/nbs/dl1/images/KrisFace/markFace/original-256/419.png\n",
      "/home/jupyter/tutorials/fastai/course-v3/nbs/dl1/images/KrisFace/markFace/original-256/229.png\n",
      "/home/jupyter/tutorials/fastai/course-v3/nbs/dl1/images/KrisFace/markFace/original-256/327.png\n",
      "/home/jupyter/tutorials/fastai/course-v3/nbs/dl1/images/KrisFace/markFace/original-256/53.png\n",
      "/home/jupyter/tutorials/fastai/course-v3/nbs/dl1/images/KrisFace/markFace/original-256/193.png\n",
      "/home/jupyter/tutorials/fastai/course-v3/nbs/dl1/images/KrisFace/markFace/original-256/40.png\n",
      "/home/jupyter/tutorials/fastai/course-v3/nbs/dl1/images/KrisFace/markFace/original-256/347.png\n",
      "/home/jupyter/tutorials/fastai/course-v3/nbs/dl1/images/KrisFace/markFace/original-256/505.png\n",
      "/home/jupyter/tutorials/fastai/course-v3/nbs/dl1/images/KrisFace/markFace/original-256/747.png\n",
      "/home/jupyter/tutorials/fastai/course-v3/nbs/dl1/images/KrisFace/markFace/original-256/91.png\n",
      "/home/jupyter/tutorials/fastai/course-v3/nbs/dl1/images/KrisFace/markFace/original-256/307.png\n",
      "/home/jupyter/tutorials/fastai/course-v3/nbs/dl1/images/KrisFace/markFace/original-256/149.png\n",
      "/home/jupyter/tutorials/fastai/course-v3/nbs/dl1/images/KrisFace/markFace/original-256/66.png\n",
      "/home/jupyter/tutorials/fastai/course-v3/nbs/dl1/images/KrisFace/markFace/original-256/69.png\n",
      "/home/jupyter/tutorials/fastai/course-v3/nbs/dl1/images/KrisFace/markFace/original-256/259.png\n",
      "/home/jupyter/tutorials/fastai/course-v3/nbs/dl1/images/KrisFace/markFace/original-256/224.png\n",
      "/home/jupyter/tutorials/fastai/course-v3/nbs/dl1/images/KrisFace/markFace/original-256/161.png\n",
      "/home/jupyter/tutorials/fastai/course-v3/nbs/dl1/images/KrisFace/markFace/original-256/188.png\n",
      "/home/jupyter/tutorials/fastai/course-v3/nbs/dl1/images/KrisFace/markFace/original-256/571.png\n",
      "/home/jupyter/tutorials/fastai/course-v3/nbs/dl1/images/KrisFace/markFace/original-256/621.png\n",
      "/home/jupyter/tutorials/fastai/course-v3/nbs/dl1/images/KrisFace/markFace/original-256/723.png\n",
      "/home/jupyter/tutorials/fastai/course-v3/nbs/dl1/images/KrisFace/markFace/original-256/64.png\n",
      "/home/jupyter/tutorials/fastai/course-v3/nbs/dl1/images/KrisFace/markFace/original-256/471.png\n",
      "/home/jupyter/tutorials/fastai/course-v3/nbs/dl1/images/KrisFace/markFace/original-256/729.png\n",
      "/home/jupyter/tutorials/fastai/course-v3/nbs/dl1/images/KrisFace/markFace/original-256/475.png\n",
      "/home/jupyter/tutorials/fastai/course-v3/nbs/dl1/images/KrisFace/markFace/original-256/231.png\n",
      "/home/jupyter/tutorials/fastai/course-v3/nbs/dl1/images/KrisFace/markFace/original-256/598.png\n",
      "/home/jupyter/tutorials/fastai/course-v3/nbs/dl1/images/KrisFace/markFace/original-256/72.png\n",
      "/home/jupyter/tutorials/fastai/course-v3/nbs/dl1/images/KrisFace/markFace/original-256/775.png\n",
      "/home/jupyter/tutorials/fastai/course-v3/nbs/dl1/images/KrisFace/markFace/original-256/116.png\n",
      "/home/jupyter/tutorials/fastai/course-v3/nbs/dl1/images/KrisFace/markFace/original-256/583.png\n",
      "/home/jupyter/tutorials/fastai/course-v3/nbs/dl1/images/KrisFace/markFace/original-256/95.png\n",
      "/home/jupyter/tutorials/fastai/course-v3/nbs/dl1/images/KrisFace/markFace/original-256/778.png\n",
      "/home/jupyter/tutorials/fastai/course-v3/nbs/dl1/images/KrisFace/markFace/original-256/236.png\n",
      "/home/jupyter/tutorials/fastai/course-v3/nbs/dl1/images/KrisFace/markFace/original-256/353.png\n",
      "/home/jupyter/tutorials/fastai/course-v3/nbs/dl1/images/KrisFace/markFace/original-256/397.png\n",
      "/home/jupyter/tutorials/fastai/course-v3/nbs/dl1/images/KrisFace/markFace/original-256/96.png\n",
      "/home/jupyter/tutorials/fastai/course-v3/nbs/dl1/images/KrisFace/markFace/original-256/379.png\n",
      "/home/jupyter/tutorials/fastai/course-v3/nbs/dl1/images/KrisFace/markFace/original-256/662.png\n",
      "/home/jupyter/tutorials/fastai/course-v3/nbs/dl1/images/KrisFace/markFace/original-256/746.png\n",
      "/home/jupyter/tutorials/fastai/course-v3/nbs/dl1/images/KrisFace/markFace/original-256/287.png\n",
      "/home/jupyter/tutorials/fastai/course-v3/nbs/dl1/images/KrisFace/markFace/original-256/254.png\n",
      "/home/jupyter/tutorials/fastai/course-v3/nbs/dl1/images/KrisFace/markFace/original-256/517.png\n",
      "/home/jupyter/tutorials/fastai/course-v3/nbs/dl1/images/KrisFace/markFace/original-256/274.png\n",
      "/home/jupyter/tutorials/fastai/course-v3/nbs/dl1/images/KrisFace/markFace/original-256/612.png\n",
      "/home/jupyter/tutorials/fastai/course-v3/nbs/dl1/images/KrisFace/markFace/original-256/565.png\n",
      "/home/jupyter/tutorials/fastai/course-v3/nbs/dl1/images/KrisFace/markFace/original-256/409.png\n",
      "/home/jupyter/tutorials/fastai/course-v3/nbs/dl1/images/KrisFace/markFace/original-256/417.png\n",
      "/home/jupyter/tutorials/fastai/course-v3/nbs/dl1/images/KrisFace/markFace/original-256/757.png\n",
      "/home/jupyter/tutorials/fastai/course-v3/nbs/dl1/images/KrisFace/markFace/original-256/38.png\n",
      "/home/jupyter/tutorials/fastai/course-v3/nbs/dl1/images/KrisFace/markFace/original-256/627.png\n",
      "/home/jupyter/tutorials/fastai/course-v3/nbs/dl1/images/KrisFace/markFace/original-256/303.png\n",
      "/home/jupyter/tutorials/fastai/course-v3/nbs/dl1/images/KrisFace/markFace/original-256/104.png\n",
      "/home/jupyter/tutorials/fastai/course-v3/nbs/dl1/images/KrisFace/markFace/original-256/493.png\n",
      "/home/jupyter/tutorials/fastai/course-v3/nbs/dl1/images/KrisFace/markFace/original-256/887.png\n",
      "/home/jupyter/tutorials/fastai/course-v3/nbs/dl1/images/KrisFace/markFace/original-256/699.png\n",
      "/home/jupyter/tutorials/fastai/course-v3/nbs/dl1/images/KrisFace/markFace/original-256/125.png\n",
      "/home/jupyter/tutorials/fastai/course-v3/nbs/dl1/images/KrisFace/markFace/original-256/800.png\n",
      "/home/jupyter/tutorials/fastai/course-v3/nbs/dl1/images/KrisFace/markFace/original-256/62.png\n",
      "/home/jupyter/tutorials/fastai/course-v3/nbs/dl1/images/KrisFace/markFace/original-256/36.png\n",
      "/home/jupyter/tutorials/fastai/course-v3/nbs/dl1/images/KrisFace/markFace/original-256/438.png\n",
      "/home/jupyter/tutorials/fastai/course-v3/nbs/dl1/images/KrisFace/markFace/original-256/591.png\n",
      "/home/jupyter/tutorials/fastai/course-v3/nbs/dl1/images/KrisFace/markFace/original-256/396.png\n",
      "/home/jupyter/tutorials/fastai/course-v3/nbs/dl1/images/KrisFace/markFace/original-256/399.png\n",
      "/home/jupyter/tutorials/fastai/course-v3/nbs/dl1/images/KrisFace/markFace/original-256/888.png\n",
      "/home/jupyter/tutorials/fastai/course-v3/nbs/dl1/images/KrisFace/markFace/original-256/470.png\n",
      "/home/jupyter/tutorials/fastai/course-v3/nbs/dl1/images/KrisFace/markFace/original-256/559.png\n",
      "/home/jupyter/tutorials/fastai/course-v3/nbs/dl1/images/KrisFace/markFace/original-256/298.png\n",
      "/home/jupyter/tutorials/fastai/course-v3/nbs/dl1/images/KrisFace/markFace/original-256/752.png\n",
      "/home/jupyter/tutorials/fastai/course-v3/nbs/dl1/images/KrisFace/markFace/original-256/196.png\n",
      "/home/jupyter/tutorials/fastai/course-v3/nbs/dl1/images/KrisFace/markFace/original-256/704.png\n",
      "/home/jupyter/tutorials/fastai/course-v3/nbs/dl1/images/KrisFace/markFace/original-256/555.png\n",
      "/home/jupyter/tutorials/fastai/course-v3/nbs/dl1/images/KrisFace/markFace/original-256/357.png\n",
      "/home/jupyter/tutorials/fastai/course-v3/nbs/dl1/images/KrisFace/markFace/original-256/537.png\n",
      "/home/jupyter/tutorials/fastai/course-v3/nbs/dl1/images/KrisFace/markFace/original-256/643.png\n",
      "/home/jupyter/tutorials/fastai/course-v3/nbs/dl1/images/KrisFace/markFace/original-256/577.png\n",
      "/home/jupyter/tutorials/fastai/course-v3/nbs/dl1/images/KrisFace/markFace/original-256/111.png\n",
      "/home/jupyter/tutorials/fastai/course-v3/nbs/dl1/images/KrisFace/markFace/original-256/561.png\n",
      "/home/jupyter/tutorials/fastai/course-v3/nbs/dl1/images/KrisFace/markFace/original-256/586.png\n",
      "/home/jupyter/tutorials/fastai/course-v3/nbs/dl1/images/KrisFace/markFace/original-256/790.png\n",
      "/home/jupyter/tutorials/fastai/course-v3/nbs/dl1/images/KrisFace/markFace/original-256/92.png\n",
      "/home/jupyter/tutorials/fastai/course-v3/nbs/dl1/images/KrisFace/markFace/original-256/415.png\n",
      "/home/jupyter/tutorials/fastai/course-v3/nbs/dl1/images/KrisFace/markFace/original-256/97.png\n",
      "/home/jupyter/tutorials/fastai/course-v3/nbs/dl1/images/KrisFace/markFace/original-256/523.png\n",
      "/home/jupyter/tutorials/fastai/course-v3/nbs/dl1/images/KrisFace/markFace/original-256/302.png\n",
      "/home/jupyter/tutorials/fastai/course-v3/nbs/dl1/images/KrisFace/markFace/original-256/130.png\n",
      "/home/jupyter/tutorials/fastai/course-v3/nbs/dl1/images/KrisFace/markFace/original-256/183.png\n"
     ]
    },
    {
     "name": "stdout",
     "output_type": "stream",
     "text": [
      "/home/jupyter/tutorials/fastai/course-v3/nbs/dl1/images/KrisFace/markFace/original-256/215.png\n",
      "/home/jupyter/tutorials/fastai/course-v3/nbs/dl1/images/KrisFace/markFace/original-256/32.png\n",
      "/home/jupyter/tutorials/fastai/course-v3/nbs/dl1/images/KrisFace/markFace/original-256/267.png\n",
      "/home/jupyter/tutorials/fastai/course-v3/nbs/dl1/images/KrisFace/markFace/original-256/300.png\n",
      "/home/jupyter/tutorials/fastai/course-v3/nbs/dl1/images/KrisFace/markFace/original-256/837.png\n",
      "/home/jupyter/tutorials/fastai/course-v3/nbs/dl1/images/KrisFace/markFace/original-256/567.png\n",
      "/home/jupyter/tutorials/fastai/course-v3/nbs/dl1/images/KrisFace/markFace/original-256/12.png\n",
      "/home/jupyter/tutorials/fastai/course-v3/nbs/dl1/images/KrisFace/markFace/original-256/610.png\n",
      "/home/jupyter/tutorials/fastai/course-v3/nbs/dl1/images/KrisFace/markFace/original-256/299.png\n",
      "/home/jupyter/tutorials/fastai/course-v3/nbs/dl1/images/KrisFace/markFace/original-256/316.png\n",
      "/home/jupyter/tutorials/fastai/course-v3/nbs/dl1/images/KrisFace/markFace/original-256/472.png\n",
      "/home/jupyter/tutorials/fastai/course-v3/nbs/dl1/images/KrisFace/markFace/original-256/34.png\n",
      "/home/jupyter/tutorials/fastai/course-v3/nbs/dl1/images/KrisFace/markFace/original-256/377.png\n",
      "/home/jupyter/tutorials/fastai/course-v3/nbs/dl1/images/KrisFace/markFace/original-256/195.png\n",
      "/home/jupyter/tutorials/fastai/course-v3/nbs/dl1/images/KrisFace/markFace/original-256/45.png\n",
      "/home/jupyter/tutorials/fastai/course-v3/nbs/dl1/images/KrisFace/markFace/original-256/515.png\n",
      "/home/jupyter/tutorials/fastai/course-v3/nbs/dl1/images/KrisFace/markFace/original-256/210.png\n",
      "/home/jupyter/tutorials/fastai/course-v3/nbs/dl1/images/KrisFace/markFace/original-256/641.png\n",
      "/home/jupyter/tutorials/fastai/course-v3/nbs/dl1/images/KrisFace/markFace/original-256/167.png\n",
      "/home/jupyter/tutorials/fastai/course-v3/nbs/dl1/images/KrisFace/markFace/original-256/275.png\n",
      "/home/jupyter/tutorials/fastai/course-v3/nbs/dl1/images/KrisFace/markFace/original-256/648.png\n",
      "/home/jupyter/tutorials/fastai/course-v3/nbs/dl1/images/KrisFace/markFace/original-256/153.png\n",
      "/home/jupyter/tutorials/fastai/course-v3/nbs/dl1/images/KrisFace/markFace/original-256/319.png\n",
      "/home/jupyter/tutorials/fastai/course-v3/nbs/dl1/images/KrisFace/markFace/original-256/373.png\n",
      "/home/jupyter/tutorials/fastai/course-v3/nbs/dl1/images/KrisFace/markFace/original-256/600.png\n",
      "/home/jupyter/tutorials/fastai/course-v3/nbs/dl1/images/KrisFace/markFace/original-256/317.png\n",
      "/home/jupyter/tutorials/fastai/course-v3/nbs/dl1/images/KrisFace/markFace/original-256/512.png\n",
      "/home/jupyter/tutorials/fastai/course-v3/nbs/dl1/images/KrisFace/markFace/original-256/265.png\n",
      "/home/jupyter/tutorials/fastai/course-v3/nbs/dl1/images/KrisFace/markFace/original-256/813.png\n",
      "/home/jupyter/tutorials/fastai/course-v3/nbs/dl1/images/KrisFace/markFace/original-256/343.png\n",
      "/home/jupyter/tutorials/fastai/course-v3/nbs/dl1/images/KrisFace/markFace/original-256/632.png\n",
      "/home/jupyter/tutorials/fastai/course-v3/nbs/dl1/images/KrisFace/markFace/original-256/457.png\n",
      "/home/jupyter/tutorials/fastai/course-v3/nbs/dl1/images/KrisFace/markFace/original-256/276.png\n",
      "/home/jupyter/tutorials/fastai/course-v3/nbs/dl1/images/KrisFace/markFace/original-256/411.png\n",
      "/home/jupyter/tutorials/fastai/course-v3/nbs/dl1/images/KrisFace/markFace/original-256/570.png\n",
      "/home/jupyter/tutorials/fastai/course-v3/nbs/dl1/images/KrisFace/markFace/original-256/284.png\n",
      "/home/jupyter/tutorials/fastai/course-v3/nbs/dl1/images/KrisFace/markFace/original-256/551.png\n",
      "/home/jupyter/tutorials/fastai/course-v3/nbs/dl1/images/KrisFace/markFace/original-256/529.png\n",
      "/home/jupyter/tutorials/fastai/course-v3/nbs/dl1/images/KrisFace/markFace/original-256/136.png\n",
      "/home/jupyter/tutorials/fastai/course-v3/nbs/dl1/images/KrisFace/markFace/original-256/860.png\n",
      "/home/jupyter/tutorials/fastai/course-v3/nbs/dl1/images/KrisFace/markFace/original-256/713.png\n",
      "/home/jupyter/tutorials/fastai/course-v3/nbs/dl1/images/KrisFace/markFace/original-256/652.png\n",
      "/home/jupyter/tutorials/fastai/course-v3/nbs/dl1/images/KrisFace/markFace/original-256/412.png\n",
      "/home/jupyter/tutorials/fastai/course-v3/nbs/dl1/images/KrisFace/markFace/original-256/338.png\n",
      "/home/jupyter/tutorials/fastai/course-v3/nbs/dl1/images/KrisFace/markFace/original-256/159.png\n",
      "/home/jupyter/tutorials/fastai/course-v3/nbs/dl1/images/KrisFace/markFace/original-256/453.png\n",
      "/home/jupyter/tutorials/fastai/course-v3/nbs/dl1/images/KrisFace/markFace/original-256/280.png\n",
      "/home/jupyter/tutorials/fastai/course-v3/nbs/dl1/images/KrisFace/markFace/original-256/436.png\n",
      "/home/jupyter/tutorials/fastai/course-v3/nbs/dl1/images/KrisFace/markFace/original-256/469.png\n",
      "/home/jupyter/tutorials/fastai/course-v3/nbs/dl1/images/KrisFace/markFace/original-256/384.png\n",
      "/home/jupyter/tutorials/fastai/course-v3/nbs/dl1/images/KrisFace/markFace/original-256/798.png\n",
      "/home/jupyter/tutorials/fastai/course-v3/nbs/dl1/images/KrisFace/markFace/original-256/468.png\n",
      "/home/jupyter/tutorials/fastai/course-v3/nbs/dl1/images/KrisFace/markFace/original-256/261.png\n",
      "/home/jupyter/tutorials/fastai/course-v3/nbs/dl1/images/KrisFace/markFace/original-256/488.png\n",
      "/home/jupyter/tutorials/fastai/course-v3/nbs/dl1/images/KrisFace/markFace/original-256/255.png\n",
      "/home/jupyter/tutorials/fastai/course-v3/nbs/dl1/images/KrisFace/markFace/original-256/421.png\n",
      "/home/jupyter/tutorials/fastai/course-v3/nbs/dl1/images/KrisFace/markFace/original-256/363.png\n",
      "/home/jupyter/tutorials/fastai/course-v3/nbs/dl1/images/KrisFace/markFace/original-256/880.png\n",
      "/home/jupyter/tutorials/fastai/course-v3/nbs/dl1/images/KrisFace/markFace/original-256/726.png\n",
      "/home/jupyter/tutorials/fastai/course-v3/nbs/dl1/images/KrisFace/markFace/original-256/286.png\n",
      "/home/jupyter/tutorials/fastai/course-v3/nbs/dl1/images/KrisFace/markFace/original-256/533.png\n",
      "/home/jupyter/tutorials/fastai/course-v3/nbs/dl1/images/KrisFace/markFace/original-256/546.png\n",
      "/home/jupyter/tutorials/fastai/course-v3/nbs/dl1/images/KrisFace/markFace/original-256/516.png\n",
      "/home/jupyter/tutorials/fastai/course-v3/nbs/dl1/images/KrisFace/markFace/original-256/770.png\n",
      "/home/jupyter/tutorials/fastai/course-v3/nbs/dl1/images/KrisFace/markFace/original-256/158.png\n",
      "/home/jupyter/tutorials/fastai/course-v3/nbs/dl1/images/KrisFace/markFace/original-256/170.png\n",
      "/home/jupyter/tutorials/fastai/course-v3/nbs/dl1/images/KrisFace/markFace/original-256/15.png\n",
      "/home/jupyter/tutorials/fastai/course-v3/nbs/dl1/images/KrisFace/markFace/original-256/690.png\n",
      "/home/jupyter/tutorials/fastai/course-v3/nbs/dl1/images/KrisFace/markFace/original-256/467.png\n",
      "/home/jupyter/tutorials/fastai/course-v3/nbs/dl1/images/KrisFace/markFace/original-256/642.png\n",
      "/home/jupyter/tutorials/fastai/course-v3/nbs/dl1/images/KrisFace/markFace/original-256/55.png\n",
      "/home/jupyter/tutorials/fastai/course-v3/nbs/dl1/images/KrisFace/markFace/original-256/416.png\n",
      "/home/jupyter/tutorials/fastai/course-v3/nbs/dl1/images/KrisFace/markFace/original-256/852.png\n",
      "/home/jupyter/tutorials/fastai/course-v3/nbs/dl1/images/KrisFace/markFace/original-256/664.png\n",
      "/home/jupyter/tutorials/fastai/course-v3/nbs/dl1/images/KrisFace/markFace/original-256/376.png\n",
      "/home/jupyter/tutorials/fastai/course-v3/nbs/dl1/images/KrisFace/markFace/original-256/148.png\n",
      "/home/jupyter/tutorials/fastai/course-v3/nbs/dl1/images/KrisFace/markFace/original-256/168.png\n",
      "/home/jupyter/tutorials/fastai/course-v3/nbs/dl1/images/KrisFace/markFace/original-256/569.png\n",
      "/home/jupyter/tutorials/fastai/course-v3/nbs/dl1/images/KrisFace/markFace/original-256/352.png\n",
      "/home/jupyter/tutorials/fastai/course-v3/nbs/dl1/images/KrisFace/markFace/original-256/163.png\n",
      "/home/jupyter/tutorials/fastai/course-v3/nbs/dl1/images/KrisFace/markFace/original-256/552.png\n",
      "/home/jupyter/tutorials/fastai/course-v3/nbs/dl1/images/KrisFace/markFace/original-256/830.png\n",
      "/home/jupyter/tutorials/fastai/course-v3/nbs/dl1/images/KrisFace/markFace/original-256/30.png\n",
      "/home/jupyter/tutorials/fastai/course-v3/nbs/dl1/images/KrisFace/markFace/original-256/212.png\n",
      "/home/jupyter/tutorials/fastai/course-v3/nbs/dl1/images/KrisFace/markFace/original-256/408.png\n",
      "/home/jupyter/tutorials/fastai/course-v3/nbs/dl1/images/KrisFace/markFace/original-256/695.png\n",
      "/home/jupyter/tutorials/fastai/course-v3/nbs/dl1/images/KrisFace/markFace/original-256/638.png\n"
     ]
    },
    {
     "name": "stdout",
     "output_type": "stream",
     "text": [
      "/home/jupyter/tutorials/fastai/course-v3/nbs/dl1/images/KrisFace/markFace/original-256/387.png\n",
      "/home/jupyter/tutorials/fastai/course-v3/nbs/dl1/images/KrisFace/markFace/original-256/90.png\n",
      "/home/jupyter/tutorials/fastai/course-v3/nbs/dl1/images/KrisFace/markFace/original-256/271.png\n",
      "/home/jupyter/tutorials/fastai/course-v3/nbs/dl1/images/KrisFace/markFace/original-256/370.png\n",
      "/home/jupyter/tutorials/fastai/course-v3/nbs/dl1/images/KrisFace/markFace/original-256/132.png\n",
      "/home/jupyter/tutorials/fastai/course-v3/nbs/dl1/images/KrisFace/markFace/original-256/519.png\n",
      "/home/jupyter/tutorials/fastai/course-v3/nbs/dl1/images/KrisFace/markFace/original-256/120.png\n",
      "/home/jupyter/tutorials/fastai/course-v3/nbs/dl1/images/KrisFace/markFace/original-256/769.png\n",
      "/home/jupyter/tutorials/fastai/course-v3/nbs/dl1/images/KrisFace/markFace/original-256/263.png\n",
      "/home/jupyter/tutorials/fastai/course-v3/nbs/dl1/images/KrisFace/markFace/original-256/335.png\n",
      "/home/jupyter/tutorials/fastai/course-v3/nbs/dl1/images/KrisFace/markFace/original-256/341.png\n",
      "/home/jupyter/tutorials/fastai/course-v3/nbs/dl1/images/KrisFace/markFace/original-256/382.png\n",
      "/home/jupyter/tutorials/fastai/course-v3/nbs/dl1/images/KrisFace/markFace/original-256/358.png\n",
      "/home/jupyter/tutorials/fastai/course-v3/nbs/dl1/images/KrisFace/markFace/original-256/63.png\n",
      "/home/jupyter/tutorials/fastai/course-v3/nbs/dl1/images/KrisFace/markFace/original-256/679.png\n",
      "/home/jupyter/tutorials/fastai/course-v3/nbs/dl1/images/KrisFace/markFace/original-256/331.png\n",
      "/home/jupyter/tutorials/fastai/course-v3/nbs/dl1/images/KrisFace/markFace/original-256/405.png\n",
      "/home/jupyter/tutorials/fastai/course-v3/nbs/dl1/images/KrisFace/markFace/original-256/257.png\n",
      "/home/jupyter/tutorials/fastai/course-v3/nbs/dl1/images/KrisFace/markFace/original-256/780.png\n",
      "/home/jupyter/tutorials/fastai/course-v3/nbs/dl1/images/KrisFace/markFace/original-256/783.png\n",
      "/home/jupyter/tutorials/fastai/course-v3/nbs/dl1/images/KrisFace/markFace/original-256/623.png\n",
      "/home/jupyter/tutorials/fastai/course-v3/nbs/dl1/images/KrisFace/markFace/original-256/78.png\n",
      "/home/jupyter/tutorials/fastai/course-v3/nbs/dl1/images/KrisFace/markFace/original-256/485.png\n",
      "/home/jupyter/tutorials/fastai/course-v3/nbs/dl1/images/KrisFace/markFace/original-256/484.png\n",
      "/home/jupyter/tutorials/fastai/course-v3/nbs/dl1/images/KrisFace/markFace/original-256/553.png\n",
      "/home/jupyter/tutorials/fastai/course-v3/nbs/dl1/images/KrisFace/markFace/original-256/821.png\n",
      "/home/jupyter/tutorials/fastai/course-v3/nbs/dl1/images/KrisFace/markFace/original-256/884.png\n",
      "/home/jupyter/tutorials/fastai/course-v3/nbs/dl1/images/KrisFace/markFace/original-256/181.png\n",
      "/home/jupyter/tutorials/fastai/course-v3/nbs/dl1/images/KrisFace/markFace/original-256/321.png\n",
      "/home/jupyter/tutorials/fastai/course-v3/nbs/dl1/images/KrisFace/markFace/original-256/223.png\n",
      "/home/jupyter/tutorials/fastai/course-v3/nbs/dl1/images/KrisFace/markFace/original-256/451.png\n",
      "/home/jupyter/tutorials/fastai/course-v3/nbs/dl1/images/KrisFace/markFace/original-256/739.png\n",
      "/home/jupyter/tutorials/fastai/course-v3/nbs/dl1/images/KrisFace/markFace/original-256/266.png\n",
      "/home/jupyter/tutorials/fastai/course-v3/nbs/dl1/images/KrisFace/markFace/original-256/359.png\n",
      "/home/jupyter/tutorials/fastai/course-v3/nbs/dl1/images/KrisFace/markFace/original-256/503.png\n",
      "/home/jupyter/tutorials/fastai/course-v3/nbs/dl1/images/KrisFace/markFace/original-256/151.png\n",
      "/home/jupyter/tutorials/fastai/course-v3/nbs/dl1/images/KrisFace/markFace/original-256/760.png\n",
      "/home/jupyter/tutorials/fastai/course-v3/nbs/dl1/images/KrisFace/markFace/original-256/742.png\n",
      "/home/jupyter/tutorials/fastai/course-v3/nbs/dl1/images/KrisFace/markFace/original-256/238.png\n",
      "/home/jupyter/tutorials/fastai/course-v3/nbs/dl1/images/KrisFace/markFace/original-256/27.png\n",
      "/home/jupyter/tutorials/fastai/course-v3/nbs/dl1/images/KrisFace/markFace/original-256/103.png\n",
      "/home/jupyter/tutorials/fastai/course-v3/nbs/dl1/images/KrisFace/markFace/original-256/716.png\n",
      "/home/jupyter/tutorials/fastai/course-v3/nbs/dl1/images/KrisFace/markFace/original-256/126.png\n",
      "/home/jupyter/tutorials/fastai/course-v3/nbs/dl1/images/KrisFace/markFace/original-256/614.png\n",
      "/home/jupyter/tutorials/fastai/course-v3/nbs/dl1/images/KrisFace/markFace/original-256/548.png\n",
      "/home/jupyter/tutorials/fastai/course-v3/nbs/dl1/images/KrisFace/markFace/original-256/773.png\n",
      "/home/jupyter/tutorials/fastai/course-v3/nbs/dl1/images/KrisFace/markFace/original-256/225.png\n",
      "/home/jupyter/tutorials/fastai/course-v3/nbs/dl1/images/KrisFace/markFace/original-256/719.png\n",
      "/home/jupyter/tutorials/fastai/course-v3/nbs/dl1/images/KrisFace/markFace/original-256/606.png\n",
      "/home/jupyter/tutorials/fastai/course-v3/nbs/dl1/images/KrisFace/markFace/original-256/863.png\n",
      "/home/jupyter/tutorials/fastai/course-v3/nbs/dl1/images/KrisFace/markFace/original-256/845.png\n",
      "/home/jupyter/tutorials/fastai/course-v3/nbs/dl1/images/KrisFace/markFace/original-256/450.png\n",
      "/home/jupyter/tutorials/fastai/course-v3/nbs/dl1/images/KrisFace/markFace/original-256/839.png\n",
      "/home/jupyter/tutorials/fastai/course-v3/nbs/dl1/images/KrisFace/markFace/original-256/895.png\n",
      "/home/jupyter/tutorials/fastai/course-v3/nbs/dl1/images/KrisFace/markFace/original-256/681.png\n",
      "/home/jupyter/tutorials/fastai/course-v3/nbs/dl1/images/KrisFace/markFace/original-256/618.png\n",
      "/home/jupyter/tutorials/fastai/course-v3/nbs/dl1/images/KrisFace/markFace/original-256/76.png\n",
      "/home/jupyter/tutorials/fastai/course-v3/nbs/dl1/images/KrisFace/markFace/original-256/101.png\n",
      "/home/jupyter/tutorials/fastai/course-v3/nbs/dl1/images/KrisFace/markFace/original-256/558.png\n",
      "/home/jupyter/tutorials/fastai/course-v3/nbs/dl1/images/KrisFace/markFace/original-256/209.png\n",
      "/home/jupyter/tutorials/fastai/course-v3/nbs/dl1/images/KrisFace/markFace/original-256/133.png\n",
      "/home/jupyter/tutorials/fastai/course-v3/nbs/dl1/images/KrisFace/markFace/original-256/854.png\n",
      "/home/jupyter/tutorials/fastai/course-v3/nbs/dl1/images/KrisFace/markFace/original-256/786.png\n",
      "/home/jupyter/tutorials/fastai/course-v3/nbs/dl1/images/KrisFace/markFace/original-256/792.png\n",
      "/home/jupyter/tutorials/fastai/course-v3/nbs/dl1/images/KrisFace/markFace/original-256/179.png\n",
      "/home/jupyter/tutorials/fastai/course-v3/nbs/dl1/images/KrisFace/markFace/original-256/294.png\n",
      "/home/jupyter/tutorials/fastai/course-v3/nbs/dl1/images/KrisFace/markFace/original-256/866.png\n",
      "/home/jupyter/tutorials/fastai/course-v3/nbs/dl1/images/KrisFace/markFace/original-256/213.png\n",
      "/home/jupyter/tutorials/fastai/course-v3/nbs/dl1/images/KrisFace/markFace/original-256/295.png\n",
      "/home/jupyter/tutorials/fastai/course-v3/nbs/dl1/images/KrisFace/markFace/original-256/279.png\n",
      "/home/jupyter/tutorials/fastai/course-v3/nbs/dl1/images/KrisFace/markFace/original-256/246.png\n",
      "/home/jupyter/tutorials/fastai/course-v3/nbs/dl1/images/KrisFace/markFace/original-256/288.png\n",
      "/home/jupyter/tutorials/fastai/course-v3/nbs/dl1/images/KrisFace/markFace/original-256/727.png\n",
      "/home/jupyter/tutorials/fastai/course-v3/nbs/dl1/images/KrisFace/markFace/original-256/564.png\n",
      "/home/jupyter/tutorials/fastai/course-v3/nbs/dl1/images/KrisFace/markFace/original-256/297.png\n",
      "/home/jupyter/tutorials/fastai/course-v3/nbs/dl1/images/KrisFace/markFace/original-256/609.png\n",
      "/home/jupyter/tutorials/fastai/course-v3/nbs/dl1/images/KrisFace/markFace/original-256/657.png\n",
      "/home/jupyter/tutorials/fastai/course-v3/nbs/dl1/images/KrisFace/markFace/original-256/473.png\n",
      "/home/jupyter/tutorials/fastai/course-v3/nbs/dl1/images/KrisFace/markFace/original-256/737.png\n",
      "/home/jupyter/tutorials/fastai/course-v3/nbs/dl1/images/KrisFace/markFace/original-256/803.png\n",
      "/home/jupyter/tutorials/fastai/course-v3/nbs/dl1/images/KrisFace/markFace/original-256/562.png\n",
      "/home/jupyter/tutorials/fastai/course-v3/nbs/dl1/images/KrisFace/markFace/original-256/514.png\n",
      "/home/jupyter/tutorials/fastai/course-v3/nbs/dl1/images/KrisFace/markFace/original-256/506.png\n",
      "/home/jupyter/tutorials/fastai/course-v3/nbs/dl1/images/KrisFace/markFace/original-256/398.png\n",
      "/home/jupyter/tutorials/fastai/course-v3/nbs/dl1/images/KrisFace/markFace/original-256/390.png\n",
      "/home/jupyter/tutorials/fastai/course-v3/nbs/dl1/images/KrisFace/markFace/original-256/306.png\n",
      "/home/jupyter/tutorials/fastai/course-v3/nbs/dl1/images/KrisFace/markFace/original-256/73.png\n"
     ]
    },
    {
     "name": "stdout",
     "output_type": "stream",
     "text": [
      "/home/jupyter/tutorials/fastai/course-v3/nbs/dl1/images/KrisFace/markFace/original-256/88.png\n",
      "/home/jupyter/tutorials/fastai/course-v3/nbs/dl1/images/KrisFace/markFace/original-256/849.png\n",
      "/home/jupyter/tutorials/fastai/course-v3/nbs/dl1/images/KrisFace/markFace/original-256/466.png\n",
      "/home/jupyter/tutorials/fastai/course-v3/nbs/dl1/images/KrisFace/markFace/original-256/877.png\n",
      "/home/jupyter/tutorials/fastai/course-v3/nbs/dl1/images/KrisFace/markFace/original-256/355.png\n",
      "/home/jupyter/tutorials/fastai/course-v3/nbs/dl1/images/KrisFace/markFace/original-256/262.png\n",
      "/home/jupyter/tutorials/fastai/course-v3/nbs/dl1/images/KrisFace/markFace/original-256/386.png\n",
      "/home/jupyter/tutorials/fastai/course-v3/nbs/dl1/images/KrisFace/markFace/original-256/771.png\n",
      "/home/jupyter/tutorials/fastai/course-v3/nbs/dl1/images/KrisFace/markFace/original-256/402.png\n",
      "/home/jupyter/tutorials/fastai/course-v3/nbs/dl1/images/KrisFace/markFace/original-256/661.png\n",
      "/home/jupyter/tutorials/fastai/course-v3/nbs/dl1/images/KrisFace/markFace/original-256/674.png\n",
      "/home/jupyter/tutorials/fastai/course-v3/nbs/dl1/images/KrisFace/markFace/original-256/435.png\n",
      "/home/jupyter/tutorials/fastai/course-v3/nbs/dl1/images/KrisFace/markFace/original-256/184.png\n",
      "/home/jupyter/tutorials/fastai/course-v3/nbs/dl1/images/KrisFace/markFace/original-256/68.png\n",
      "/home/jupyter/tutorials/fastai/course-v3/nbs/dl1/images/KrisFace/markFace/original-256/509.png\n",
      "/home/jupyter/tutorials/fastai/course-v3/nbs/dl1/images/KrisFace/markFace/original-256/539.png\n",
      "/home/jupyter/tutorials/fastai/course-v3/nbs/dl1/images/KrisFace/markFace/original-256/892.png\n",
      "/home/jupyter/tutorials/fastai/course-v3/nbs/dl1/images/KrisFace/markFace/original-256/693.png\n",
      "/home/jupyter/tutorials/fastai/course-v3/nbs/dl1/images/KrisFace/markFace/original-256/728.png\n",
      "/home/jupyter/tutorials/fastai/course-v3/nbs/dl1/images/KrisFace/markFace/original-256/807.png\n",
      "/home/jupyter/tutorials/fastai/course-v3/nbs/dl1/images/KrisFace/markFace/original-256/342.png\n",
      "/home/jupyter/tutorials/fastai/course-v3/nbs/dl1/images/KrisFace/markFace/original-256/86.png\n",
      "/home/jupyter/tutorials/fastai/course-v3/nbs/dl1/images/KrisFace/markFace/original-256/683.png\n",
      "/home/jupyter/tutorials/fastai/course-v3/nbs/dl1/images/KrisFace/markFace/original-256/525.png\n",
      "/home/jupyter/tutorials/fastai/course-v3/nbs/dl1/images/KrisFace/markFace/original-256/848.png\n",
      "/home/jupyter/tutorials/fastai/course-v3/nbs/dl1/images/KrisFace/markFace/original-256/644.png\n",
      "/home/jupyter/tutorials/fastai/course-v3/nbs/dl1/images/KrisFace/markFace/original-256/890.png\n",
      "/home/jupyter/tutorials/fastai/course-v3/nbs/dl1/images/KrisFace/markFace/original-256/844.png\n",
      "/home/jupyter/tutorials/fastai/course-v3/nbs/dl1/images/KrisFace/markFace/original-256/61.png\n",
      "/home/jupyter/tutorials/fastai/course-v3/nbs/dl1/images/KrisFace/markFace/original-256/46.png\n",
      "/home/jupyter/tutorials/fastai/course-v3/nbs/dl1/images/KrisFace/markFace/original-256/573.png\n",
      "/home/jupyter/tutorials/fastai/course-v3/nbs/dl1/images/KrisFace/markFace/original-256/814.png\n",
      "/home/jupyter/tutorials/fastai/course-v3/nbs/dl1/images/KrisFace/markFace/original-256/313.png\n",
      "/home/jupyter/tutorials/fastai/course-v3/nbs/dl1/images/KrisFace/markFace/original-256/658.png\n",
      "/home/jupyter/tutorials/fastai/course-v3/nbs/dl1/images/KrisFace/markFace/original-256/433.png\n",
      "/home/jupyter/tutorials/fastai/course-v3/nbs/dl1/images/KrisFace/markFace/original-256/211.png\n",
      "/home/jupyter/tutorials/fastai/course-v3/nbs/dl1/images/KrisFace/markFace/original-256/351.png\n",
      "/home/jupyter/tutorials/fastai/course-v3/nbs/dl1/images/KrisFace/markFace/original-256/248.png\n",
      "/home/jupyter/tutorials/fastai/course-v3/nbs/dl1/images/KrisFace/markFace/original-256/420.png\n",
      "/home/jupyter/tutorials/fastai/course-v3/nbs/dl1/images/KrisFace/markFace/original-256/242.png\n",
      "/home/jupyter/tutorials/fastai/course-v3/nbs/dl1/images/KrisFace/markFace/original-256/508.png\n",
      "/home/jupyter/tutorials/fastai/course-v3/nbs/dl1/images/KrisFace/markFace/original-256/594.png\n",
      "/home/jupyter/tutorials/fastai/course-v3/nbs/dl1/images/KrisFace/markFace/original-256/687.png\n",
      "/home/jupyter/tutorials/fastai/course-v3/nbs/dl1/images/KrisFace/markFace/original-256/822.png\n",
      "/home/jupyter/tutorials/fastai/course-v3/nbs/dl1/images/KrisFace/markFace/original-256/58.png\n",
      "/home/jupyter/tutorials/fastai/course-v3/nbs/dl1/images/KrisFace/markFace/original-256/656.png\n",
      "/home/jupyter/tutorials/fastai/course-v3/nbs/dl1/images/KrisFace/markFace/original-256/187.png\n",
      "/home/jupyter/tutorials/fastai/course-v3/nbs/dl1/images/KrisFace/markFace/original-256/50.png\n",
      "/home/jupyter/tutorials/fastai/course-v3/nbs/dl1/images/KrisFace/markFace/original-256/52.png\n",
      "/home/jupyter/tutorials/fastai/course-v3/nbs/dl1/images/KrisFace/markFace/original-256/160.png\n",
      "/home/jupyter/tutorials/fastai/course-v3/nbs/dl1/images/KrisFace/markFace/original-256/805.png\n",
      "/home/jupyter/tutorials/fastai/course-v3/nbs/dl1/images/KrisFace/markFace/original-256/705.png\n",
      "/home/jupyter/tutorials/fastai/course-v3/nbs/dl1/images/KrisFace/markFace/original-256/667.png\n",
      "/home/jupyter/tutorials/fastai/course-v3/nbs/dl1/images/KrisFace/markFace/original-256/697.png\n",
      "/home/jupyter/tutorials/fastai/course-v3/nbs/dl1/images/KrisFace/markFace/original-256/650.png\n",
      "/home/jupyter/tutorials/fastai/course-v3/nbs/dl1/images/KrisFace/markFace/original-256/626.png\n",
      "/home/jupyter/tutorials/fastai/course-v3/nbs/dl1/images/KrisFace/markFace/original-256/734.png\n",
      "/home/jupyter/tutorials/fastai/course-v3/nbs/dl1/images/KrisFace/markFace/original-256/198.png\n",
      "/home/jupyter/tutorials/fastai/course-v3/nbs/dl1/images/KrisFace/markFace/original-256/873.png\n",
      "/home/jupyter/tutorials/fastai/course-v3/nbs/dl1/images/KrisFace/markFace/original-256/589.png\n",
      "/home/jupyter/tutorials/fastai/course-v3/nbs/dl1/images/KrisFace/markFace/original-256/424.png\n",
      "/home/jupyter/tutorials/fastai/course-v3/nbs/dl1/images/KrisFace/markFace/original-256/668.png\n",
      "/home/jupyter/tutorials/fastai/course-v3/nbs/dl1/images/KrisFace/markFace/original-256/797.png\n",
      "/home/jupyter/tutorials/fastai/course-v3/nbs/dl1/images/KrisFace/markFace/original-256/173.png\n",
      "/home/jupyter/tutorials/fastai/course-v3/nbs/dl1/images/KrisFace/markFace/original-256/743.png\n",
      "/home/jupyter/tutorials/fastai/course-v3/nbs/dl1/images/KrisFace/markFace/original-256/832.png\n",
      "/home/jupyter/tutorials/fastai/course-v3/nbs/dl1/images/KrisFace/markFace/original-256/156.png\n",
      "/home/jupyter/tutorials/fastai/course-v3/nbs/dl1/images/KrisFace/markFace/original-256/874.png\n",
      "/home/jupyter/tutorials/fastai/course-v3/nbs/dl1/images/KrisFace/markFace/original-256/454.png\n",
      "/home/jupyter/tutorials/fastai/course-v3/nbs/dl1/images/KrisFace/markFace/original-256/135.png\n",
      "/home/jupyter/tutorials/fastai/course-v3/nbs/dl1/images/KrisFace/markFace/original-256/872.png\n",
      "/home/jupyter/tutorials/fastai/course-v3/nbs/dl1/images/KrisFace/markFace/original-256/214.png\n",
      "/home/jupyter/tutorials/fastai/course-v3/nbs/dl1/images/KrisFace/markFace/original-256/862.png\n",
      "/home/jupyter/tutorials/fastai/course-v3/nbs/dl1/images/KrisFace/markFace/original-256/633.png\n",
      "/home/jupyter/tutorials/fastai/course-v3/nbs/dl1/images/KrisFace/markFace/original-256/795.png\n",
      "/home/jupyter/tutorials/fastai/course-v3/nbs/dl1/images/KrisFace/markFace/original-256/524.png\n",
      "/home/jupyter/tutorials/fastai/course-v3/nbs/dl1/images/KrisFace/markFace/original-256/178.png\n",
      "/home/jupyter/tutorials/fastai/course-v3/nbs/dl1/images/KrisFace/markFace/original-256/660.png\n",
      "/home/jupyter/tutorials/fastai/course-v3/nbs/dl1/images/KrisFace/markFace/original-256/640.png\n",
      "/home/jupyter/tutorials/fastai/course-v3/nbs/dl1/images/KrisFace/markFace/original-256/430.png\n",
      "/home/jupyter/tutorials/fastai/course-v3/nbs/dl1/images/KrisFace/markFace/original-256/345.png\n",
      "/home/jupyter/tutorials/fastai/course-v3/nbs/dl1/images/KrisFace/markFace/original-256/816.png\n",
      "/home/jupyter/tutorials/fastai/course-v3/nbs/dl1/images/KrisFace/markFace/original-256/749.png\n",
      "/home/jupyter/tutorials/fastai/course-v3/nbs/dl1/images/KrisFace/markFace/original-256/70.png\n",
      "/home/jupyter/tutorials/fastai/course-v3/nbs/dl1/images/KrisFace/markFace/original-256/445.png\n",
      "/home/jupyter/tutorials/fastai/course-v3/nbs/dl1/images/KrisFace/markFace/original-256/603.png\n",
      "/home/jupyter/tutorials/fastai/course-v3/nbs/dl1/images/KrisFace/markFace/original-256/528.png\n"
     ]
    },
    {
     "name": "stdout",
     "output_type": "stream",
     "text": [
      "/home/jupyter/tutorials/fastai/course-v3/nbs/dl1/images/KrisFace/markFace/original-256/846.png\n",
      "/home/jupyter/tutorials/fastai/course-v3/nbs/dl1/images/KrisFace/markFace/original-256/584.png\n",
      "/home/jupyter/tutorials/fastai/course-v3/nbs/dl1/images/KrisFace/markFace/original-256/619.png\n",
      "/home/jupyter/tutorials/fastai/course-v3/nbs/dl1/images/KrisFace/markFace/original-256/764.png\n",
      "/home/jupyter/tutorials/fastai/course-v3/nbs/dl1/images/KrisFace/markFace/original-256/166.png\n",
      "/home/jupyter/tutorials/fastai/course-v3/nbs/dl1/images/KrisFace/markFace/original-256/164.png\n",
      "/home/jupyter/tutorials/fastai/course-v3/nbs/dl1/images/KrisFace/markFace/original-256/885.png\n",
      "/home/jupyter/tutorials/fastai/course-v3/nbs/dl1/images/KrisFace/markFace/original-256/278.png\n",
      "/home/jupyter/tutorials/fastai/course-v3/nbs/dl1/images/KrisFace/markFace/original-256/622.png\n",
      "/home/jupyter/tutorials/fastai/course-v3/nbs/dl1/images/KrisFace/markFace/original-256/636.png\n",
      "/home/jupyter/tutorials/fastai/course-v3/nbs/dl1/images/KrisFace/markFace/original-256/753.png\n",
      "/home/jupyter/tutorials/fastai/course-v3/nbs/dl1/images/KrisFace/markFace/original-256/829.png\n",
      "/home/jupyter/tutorials/fastai/course-v3/nbs/dl1/images/KrisFace/markFace/original-256/883.png\n",
      "/home/jupyter/tutorials/fastai/course-v3/nbs/dl1/images/KrisFace/markFace/original-256/239.png\n",
      "/home/jupyter/tutorials/fastai/course-v3/nbs/dl1/images/KrisFace/markFace/original-256/440.png\n",
      "/home/jupyter/tutorials/fastai/course-v3/nbs/dl1/images/KrisFace/markFace/original-256/700.png\n",
      "/home/jupyter/tutorials/fastai/course-v3/nbs/dl1/images/KrisFace/markFace/original-256/121.png\n",
      "/home/jupyter/tutorials/fastai/course-v3/nbs/dl1/images/KrisFace/markFace/original-256/833.png\n",
      "/home/jupyter/tutorials/fastai/course-v3/nbs/dl1/images/KrisFace/markFace/original-256/511.png\n",
      "/home/jupyter/tutorials/fastai/course-v3/nbs/dl1/images/KrisFace/markFace/original-256/234.png\n",
      "/home/jupyter/tutorials/fastai/course-v3/nbs/dl1/images/KrisFace/markFace/original-256/741.png\n",
      "/home/jupyter/tutorials/fastai/course-v3/nbs/dl1/images/KrisFace/markFace/original-256/867.png\n",
      "/home/jupyter/tutorials/fastai/course-v3/nbs/dl1/images/KrisFace/markFace/original-256/273.png\n",
      "/home/jupyter/tutorials/fastai/course-v3/nbs/dl1/images/KrisFace/markFace/original-256/724.png\n",
      "/home/jupyter/tutorials/fastai/course-v3/nbs/dl1/images/KrisFace/markFace/original-256/328.png\n",
      "/home/jupyter/tutorials/fastai/course-v3/nbs/dl1/images/KrisFace/markFace/original-256/894.png\n",
      "/home/jupyter/tutorials/fastai/course-v3/nbs/dl1/images/KrisFace/markFace/original-256/688.png\n",
      "/home/jupyter/tutorials/fastai/course-v3/nbs/dl1/images/KrisFace/markFace/original-256/531.png\n",
      "/home/jupyter/tutorials/fastai/course-v3/nbs/dl1/images/KrisFace/markFace/original-256/123.png\n",
      "/home/jupyter/tutorials/fastai/course-v3/nbs/dl1/images/KrisFace/markFace/original-256/850.png\n",
      "/home/jupyter/tutorials/fastai/course-v3/nbs/dl1/images/KrisFace/markFace/original-256/42.png\n",
      "/home/jupyter/tutorials/fastai/course-v3/nbs/dl1/images/KrisFace/markFace/original-256/817.png\n",
      "/home/jupyter/tutorials/fastai/course-v3/nbs/dl1/images/KrisFace/markFace/original-256/150.png\n",
      "/home/jupyter/tutorials/fastai/course-v3/nbs/dl1/images/KrisFace/markFace/original-256/709.png\n",
      "/home/jupyter/tutorials/fastai/course-v3/nbs/dl1/images/KrisFace/markFace/original-256/675.png\n",
      "/home/jupyter/tutorials/fastai/course-v3/nbs/dl1/images/KrisFace/markFace/original-256/499.png\n",
      "/home/jupyter/tutorials/fastai/course-v3/nbs/dl1/images/KrisFace/markFace/original-256/788.png\n",
      "/home/jupyter/tutorials/fastai/course-v3/nbs/dl1/images/KrisFace/markFace/original-256/428.png\n",
      "/home/jupyter/tutorials/fastai/course-v3/nbs/dl1/images/KrisFace/markFace/original-256/491.png\n",
      "/home/jupyter/tutorials/fastai/course-v3/nbs/dl1/images/KrisFace/markFace/original-256/765.png\n",
      "/home/jupyter/tutorials/fastai/course-v3/nbs/dl1/images/KrisFace/markFace/original-256/169.png\n",
      "/home/jupyter/tutorials/fastai/course-v3/nbs/dl1/images/KrisFace/markFace/original-256/206.png\n",
      "/home/jupyter/tutorials/fastai/course-v3/nbs/dl1/images/KrisFace/markFace/original-256/789.png\n",
      "/home/jupyter/tutorials/fastai/course-v3/nbs/dl1/images/KrisFace/markFace/original-256/94.png\n",
      "/home/jupyter/tutorials/fastai/course-v3/nbs/dl1/images/KrisFace/markFace/original-256/105.png\n",
      "/home/jupyter/tutorials/fastai/course-v3/nbs/dl1/images/KrisFace/markFace/original-256/360.png\n",
      "/home/jupyter/tutorials/fastai/course-v3/nbs/dl1/images/KrisFace/markFace/original-256/901.png\n",
      "/home/jupyter/tutorials/fastai/course-v3/nbs/dl1/images/KrisFace/markFace/original-256/425.png\n",
      "/home/jupyter/tutorials/fastai/course-v3/nbs/dl1/images/KrisFace/markFace/original-256/651.png\n",
      "/home/jupyter/tutorials/fastai/course-v3/nbs/dl1/images/KrisFace/markFace/original-256/244.png\n",
      "/home/jupyter/tutorials/fastai/course-v3/nbs/dl1/images/KrisFace/markFace/original-256/828.png\n",
      "/home/jupyter/tutorials/fastai/course-v3/nbs/dl1/images/KrisFace/markFace/original-256/43.png\n",
      "/home/jupyter/tutorials/fastai/course-v3/nbs/dl1/images/KrisFace/markFace/original-256/458.png\n",
      "/home/jupyter/tutorials/fastai/course-v3/nbs/dl1/images/KrisFace/markFace/original-256/374.png\n",
      "/home/jupyter/tutorials/fastai/course-v3/nbs/dl1/images/KrisFace/markFace/original-256/859.png\n",
      "/home/jupyter/tutorials/fastai/course-v3/nbs/dl1/images/KrisFace/markFace/original-256/722.png\n",
      "/home/jupyter/tutorials/fastai/course-v3/nbs/dl1/images/KrisFace/markFace/original-256/823.png\n",
      "/home/jupyter/tutorials/fastai/course-v3/nbs/dl1/images/KrisFace/markFace/original-256/434.png\n",
      "/home/jupyter/tutorials/fastai/course-v3/nbs/dl1/images/KrisFace/markFace/original-256/33.png\n",
      "/home/jupyter/tutorials/fastai/course-v3/nbs/dl1/images/KrisFace/markFace/original-256/819.png\n",
      "/home/jupyter/tutorials/fastai/course-v3/nbs/dl1/images/KrisFace/markFace/original-256/442.png\n",
      "/home/jupyter/tutorials/fastai/course-v3/nbs/dl1/images/KrisFace/markFace/original-256/694.png\n",
      "/home/jupyter/tutorials/fastai/course-v3/nbs/dl1/images/KrisFace/markFace/original-256/580.png\n",
      "/home/jupyter/tutorials/fastai/course-v3/nbs/dl1/images/KrisFace/markFace/original-256/535.png\n",
      "/home/jupyter/tutorials/fastai/course-v3/nbs/dl1/images/KrisFace/markFace/original-256/282.png\n",
      "/home/jupyter/tutorials/fastai/course-v3/nbs/dl1/images/KrisFace/markFace/original-256/772.png\n",
      "/home/jupyter/tutorials/fastai/course-v3/nbs/dl1/images/KrisFace/markFace/original-256/85.png\n",
      "/home/jupyter/tutorials/fastai/course-v3/nbs/dl1/images/KrisFace/markFace/original-256/48.png\n",
      "/home/jupyter/tutorials/fastai/course-v3/nbs/dl1/images/KrisFace/markFace/original-256/197.png\n",
      "/home/jupyter/tutorials/fastai/course-v3/nbs/dl1/images/KrisFace/markFace/original-256/6.png\n",
      "/home/jupyter/tutorials/fastai/course-v3/nbs/dl1/images/KrisFace/markFace/original-256/708.png\n",
      "/home/jupyter/tutorials/fastai/course-v3/nbs/dl1/images/KrisFace/markFace/original-256/439.png\n",
      "/home/jupyter/tutorials/fastai/course-v3/nbs/dl1/images/KrisFace/markFace/original-256/868.png\n",
      "/home/jupyter/tutorials/fastai/course-v3/nbs/dl1/images/KrisFace/markFace/original-256/429.png\n",
      "/home/jupyter/tutorials/fastai/course-v3/nbs/dl1/images/KrisFace/markFace/original-256/579.png\n",
      "/home/jupyter/tutorials/fastai/course-v3/nbs/dl1/images/KrisFace/markFace/original-256/665.png\n",
      "/home/jupyter/tutorials/fastai/course-v3/nbs/dl1/images/KrisFace/markFace/original-256/592.png\n",
      "/home/jupyter/tutorials/fastai/course-v3/nbs/dl1/images/KrisFace/markFace/original-256/154.png\n",
      "/home/jupyter/tutorials/fastai/course-v3/nbs/dl1/images/KrisFace/markFace/original-256/601.png\n",
      "/home/jupyter/tutorials/fastai/course-v3/nbs/dl1/images/KrisFace/markFace/original-256/637.png\n",
      "/home/jupyter/tutorials/fastai/course-v3/nbs/dl1/images/KrisFace/markFace/original-256/145.png\n",
      "/home/jupyter/tutorials/fastai/course-v3/nbs/dl1/images/KrisFace/markFace/original-256/585.png\n",
      "/home/jupyter/tutorials/fastai/course-v3/nbs/dl1/images/KrisFace/markFace/original-256/460.png\n",
      "/home/jupyter/tutorials/fastai/course-v3/nbs/dl1/images/KrisFace/markFace/original-256/192.png\n",
      "/home/jupyter/tutorials/fastai/course-v3/nbs/dl1/images/KrisFace/markFace/original-256/689.png\n",
      "/home/jupyter/tutorials/fastai/course-v3/nbs/dl1/images/KrisFace/markFace/original-256/67.png\n",
      "/home/jupyter/tutorials/fastai/course-v3/nbs/dl1/images/KrisFace/markFace/original-256/119.png\n"
     ]
    },
    {
     "name": "stdout",
     "output_type": "stream",
     "text": [
      "/home/jupyter/tutorials/fastai/course-v3/nbs/dl1/images/KrisFace/markFace/original-256/452.png\n",
      "/home/jupyter/tutorials/fastai/course-v3/nbs/dl1/images/KrisFace/markFace/original-256/549.png\n",
      "/home/jupyter/tutorials/fastai/course-v3/nbs/dl1/images/KrisFace/markFace/original-256/698.png\n",
      "/home/jupyter/tutorials/fastai/course-v3/nbs/dl1/images/KrisFace/markFace/original-256/841.png\n",
      "/home/jupyter/tutorials/fastai/course-v3/nbs/dl1/images/KrisFace/markFace/original-256/128.png\n",
      "/home/jupyter/tutorials/fastai/course-v3/nbs/dl1/images/KrisFace/markFace/original-256/678.png\n",
      "/home/jupyter/tutorials/fastai/course-v3/nbs/dl1/images/KrisFace/markFace/original-256/256.png\n",
      "/home/jupyter/tutorials/fastai/course-v3/nbs/dl1/images/KrisFace/markFace/original-256/530.png\n",
      "/home/jupyter/tutorials/fastai/course-v3/nbs/dl1/images/KrisFace/markFace/original-256/527.png\n",
      "/home/jupyter/tutorials/fastai/course-v3/nbs/dl1/images/KrisFace/markFace/original-256/291.png\n",
      "/home/jupyter/tutorials/fastai/course-v3/nbs/dl1/images/KrisFace/markFace/original-256/448.png\n",
      "/home/jupyter/tutorials/fastai/course-v3/nbs/dl1/images/KrisFace/markFace/original-256/809.png\n",
      "/home/jupyter/tutorials/fastai/course-v3/nbs/dl1/images/KrisFace/markFace/original-256/322.png\n",
      "/home/jupyter/tutorials/fastai/course-v3/nbs/dl1/images/KrisFace/markFace/original-256/404.png\n",
      "/home/jupyter/tutorials/fastai/course-v3/nbs/dl1/images/KrisFace/markFace/original-256/806.png\n",
      "/home/jupyter/tutorials/fastai/course-v3/nbs/dl1/images/KrisFace/markFace/original-256/22.png\n",
      "/home/jupyter/tutorials/fastai/course-v3/nbs/dl1/images/KrisFace/markFace/original-256/463.png\n",
      "/home/jupyter/tutorials/fastai/course-v3/nbs/dl1/images/KrisFace/markFace/original-256/218.png\n",
      "/home/jupyter/tutorials/fastai/course-v3/nbs/dl1/images/KrisFace/markFace/original-256/329.png\n",
      "/home/jupyter/tutorials/fastai/course-v3/nbs/dl1/images/KrisFace/markFace/original-256/401.png\n",
      "/home/jupyter/tutorials/fastai/course-v3/nbs/dl1/images/KrisFace/markFace/original-256/560.png\n",
      "/home/jupyter/tutorials/fastai/course-v3/nbs/dl1/images/KrisFace/markFace/original-256/544.png\n",
      "/home/jupyter/tutorials/fastai/course-v3/nbs/dl1/images/KrisFace/markFace/original-256/240.png\n",
      "/home/jupyter/tutorials/fastai/course-v3/nbs/dl1/images/KrisFace/markFace/original-256/628.png\n",
      "/home/jupyter/tutorials/fastai/course-v3/nbs/dl1/images/KrisFace/markFace/original-256/323.png\n",
      "/home/jupyter/tutorials/fastai/course-v3/nbs/dl1/images/KrisFace/markFace/original-256/81.png\n",
      "/home/jupyter/tutorials/fastai/course-v3/nbs/dl1/images/KrisFace/markFace/original-256/691.png\n",
      "/home/jupyter/tutorials/fastai/course-v3/nbs/dl1/images/KrisFace/markFace/original-256/182.png\n",
      "/home/jupyter/tutorials/fastai/course-v3/nbs/dl1/images/KrisFace/markFace/original-256/87.png\n",
      "/home/jupyter/tutorials/fastai/course-v3/nbs/dl1/images/KrisFace/markFace/original-256/252.png\n",
      "/home/jupyter/tutorials/fastai/course-v3/nbs/dl1/images/KrisFace/markFace/original-256/702.png\n",
      "/home/jupyter/tutorials/fastai/course-v3/nbs/dl1/images/KrisFace/markFace/original-256/835.png\n",
      "/home/jupyter/tutorials/fastai/course-v3/nbs/dl1/images/KrisFace/markFace/original-256/437.png\n",
      "/home/jupyter/tutorials/fastai/course-v3/nbs/dl1/images/KrisFace/markFace/original-256/243.png\n",
      "/home/jupyter/tutorials/fastai/course-v3/nbs/dl1/images/KrisFace/markFace/original-256/114.png\n",
      "/home/jupyter/tutorials/fastai/course-v3/nbs/dl1/images/KrisFace/markFace/original-256/171.png\n",
      "/home/jupyter/tutorials/fastai/course-v3/nbs/dl1/images/KrisFace/markFace/original-256/146.png\n",
      "/home/jupyter/tutorials/fastai/course-v3/nbs/dl1/images/KrisFace/markFace/original-256/599.png\n",
      "/home/jupyter/tutorials/fastai/course-v3/nbs/dl1/images/KrisFace/markFace/original-256/701.png\n",
      "/home/jupyter/tutorials/fastai/course-v3/nbs/dl1/images/KrisFace/markFace/original-256/19.png\n",
      "/home/jupyter/tutorials/fastai/course-v3/nbs/dl1/images/KrisFace/markFace/original-256/177.png\n",
      "/home/jupyter/tutorials/fastai/course-v3/nbs/dl1/images/KrisFace/markFace/original-256/903.png\n",
      "/home/jupyter/tutorials/fastai/course-v3/nbs/dl1/images/KrisFace/markFace/original-256/596.png\n",
      "/home/jupyter/tutorials/fastai/course-v3/nbs/dl1/images/KrisFace/markFace/original-256/831.png\n",
      "/home/jupyter/tutorials/fastai/course-v3/nbs/dl1/images/KrisFace/markFace/original-256/143.png\n",
      "/home/jupyter/tutorials/fastai/course-v3/nbs/dl1/images/KrisFace/markFace/original-256/25.png\n",
      "/home/jupyter/tutorials/fastai/course-v3/nbs/dl1/images/KrisFace/markFace/original-256/611.png\n",
      "/home/jupyter/tutorials/fastai/course-v3/nbs/dl1/images/KrisFace/markFace/original-256/578.png\n",
      "/home/jupyter/tutorials/fastai/course-v3/nbs/dl1/images/KrisFace/markFace/original-256/776.png\n",
      "/home/jupyter/tutorials/fastai/course-v3/nbs/dl1/images/KrisFace/markFace/original-256/763.png\n",
      "/home/jupyter/tutorials/fastai/course-v3/nbs/dl1/images/KrisFace/markFace/original-256/779.png\n",
      "/home/jupyter/tutorials/fastai/course-v3/nbs/dl1/images/KrisFace/markFace/original-256/31.png\n",
      "/home/jupyter/tutorials/fastai/course-v3/nbs/dl1/images/KrisFace/markFace/original-256/245.png\n",
      "/home/jupyter/tutorials/fastai/course-v3/nbs/dl1/images/KrisFace/markFace/original-256/364.png\n",
      "/home/jupyter/tutorials/fastai/course-v3/nbs/dl1/images/KrisFace/markFace/original-256/57.png\n",
      "/home/jupyter/tutorials/fastai/course-v3/nbs/dl1/images/KrisFace/markFace/original-256/853.png\n",
      "/home/jupyter/tutorials/fastai/course-v3/nbs/dl1/images/KrisFace/markFace/original-256/26.png\n",
      "/home/jupyter/tutorials/fastai/course-v3/nbs/dl1/images/KrisFace/markFace/original-256/496.png\n",
      "/home/jupyter/tutorials/fastai/course-v3/nbs/dl1/images/KrisFace/markFace/original-256/3.png\n",
      "/home/jupyter/tutorials/fastai/course-v3/nbs/dl1/images/KrisFace/markFace/original-256/24.png\n",
      "/home/jupyter/tutorials/fastai/course-v3/nbs/dl1/images/KrisFace/markFace/original-256/492.png\n",
      "/home/jupyter/tutorials/fastai/course-v3/nbs/dl1/images/KrisFace/markFace/original-256/165.png\n",
      "/home/jupyter/tutorials/fastai/course-v3/nbs/dl1/images/KrisFace/markFace/original-256/556.png\n",
      "/home/jupyter/tutorials/fastai/course-v3/nbs/dl1/images/KrisFace/markFace/original-256/526.png\n",
      "/home/jupyter/tutorials/fastai/course-v3/nbs/dl1/images/KrisFace/markFace/original-256/112.png\n",
      "/home/jupyter/tutorials/fastai/course-v3/nbs/dl1/images/KrisFace/markFace/original-256/444.png\n",
      "/home/jupyter/tutorials/fastai/course-v3/nbs/dl1/images/KrisFace/markFace/original-256/65.png\n",
      "/home/jupyter/tutorials/fastai/course-v3/nbs/dl1/images/KrisFace/markFace/original-256/93.png\n",
      "/home/jupyter/tutorials/fastai/course-v3/nbs/dl1/images/KrisFace/markFace/original-256/309.png\n",
      "/home/jupyter/tutorials/fastai/course-v3/nbs/dl1/images/KrisFace/markFace/original-256/840.png\n",
      "/home/jupyter/tutorials/fastai/course-v3/nbs/dl1/images/KrisFace/markFace/original-256/9.png\n",
      "/home/jupyter/tutorials/fastai/course-v3/nbs/dl1/images/KrisFace/markFace/original-256/241.png\n",
      "/home/jupyter/tutorials/fastai/course-v3/nbs/dl1/images/KrisFace/markFace/original-256/673.png\n",
      "/home/jupyter/tutorials/fastai/course-v3/nbs/dl1/images/KrisFace/markFace/original-256/513.png\n",
      "/home/jupyter/tutorials/fastai/course-v3/nbs/dl1/images/KrisFace/markFace/original-256/826.png\n",
      "/home/jupyter/tutorials/fastai/course-v3/nbs/dl1/images/KrisFace/markFace/original-256/264.png\n",
      "/home/jupyter/tutorials/fastai/course-v3/nbs/dl1/images/KrisFace/markFace/original-256/710.png\n",
      "/home/jupyter/tutorials/fastai/course-v3/nbs/dl1/images/KrisFace/markFace/original-256/418.png\n",
      "/home/jupyter/tutorials/fastai/course-v3/nbs/dl1/images/KrisFace/markFace/original-256/645.png\n",
      "/home/jupyter/tutorials/fastai/course-v3/nbs/dl1/images/KrisFace/markFace/original-256/107.png\n",
      "/home/jupyter/tutorials/fastai/course-v3/nbs/dl1/images/KrisFace/markFace/original-256/595.png\n",
      "/home/jupyter/tutorials/fastai/course-v3/nbs/dl1/images/KrisFace/markFace/original-256/861.png\n",
      "/home/jupyter/tutorials/fastai/course-v3/nbs/dl1/images/KrisFace/markFace/original-256/102.png\n",
      "/home/jupyter/tutorials/fastai/course-v3/nbs/dl1/images/KrisFace/markFace/original-256/686.png\n",
      "/home/jupyter/tutorials/fastai/course-v3/nbs/dl1/images/KrisFace/markFace/original-256/756.png\n",
      "/home/jupyter/tutorials/fastai/course-v3/nbs/dl1/images/KrisFace/markFace/original-256/20.png\n",
      "/home/jupyter/tutorials/fastai/course-v3/nbs/dl1/images/KrisFace/markFace/original-256/44.png\n"
     ]
    },
    {
     "name": "stdout",
     "output_type": "stream",
     "text": [
      "/home/jupyter/tutorials/fastai/course-v3/nbs/dl1/images/KrisFace/markFace/original-256/715.png\n",
      "/home/jupyter/tutorials/fastai/course-v3/nbs/dl1/images/KrisFace/markFace/original-256/889.png\n",
      "/home/jupyter/tutorials/fastai/course-v3/nbs/dl1/images/KrisFace/markFace/original-256/203.png\n",
      "/home/jupyter/tutorials/fastai/course-v3/nbs/dl1/images/KrisFace/markFace/original-256/707.png\n",
      "/home/jupyter/tutorials/fastai/course-v3/nbs/dl1/images/KrisFace/markFace/original-256/812.png\n",
      "/home/jupyter/tutorials/fastai/course-v3/nbs/dl1/images/KrisFace/markFace/original-256/858.png\n",
      "/home/jupyter/tutorials/fastai/course-v3/nbs/dl1/images/KrisFace/markFace/original-256/762.png\n",
      "/home/jupyter/tutorials/fastai/course-v3/nbs/dl1/images/KrisFace/markFace/original-256/838.png\n",
      "/home/jupyter/tutorials/fastai/course-v3/nbs/dl1/images/KrisFace/markFace/original-256/501.png\n",
      "/home/jupyter/tutorials/fastai/course-v3/nbs/dl1/images/KrisFace/markFace/original-256/361.png\n",
      "/home/jupyter/tutorials/fastai/course-v3/nbs/dl1/images/KrisFace/markFace/original-256/202.png\n",
      "/home/jupyter/tutorials/fastai/course-v3/nbs/dl1/images/KrisFace/markFace/original-256/7.png\n",
      "/home/jupyter/tutorials/fastai/course-v3/nbs/dl1/images/KrisFace/markFace/original-256/811.png\n",
      "/home/jupyter/tutorials/fastai/course-v3/nbs/dl1/images/KrisFace/markFace/original-256/334.png\n",
      "/home/jupyter/tutorials/fastai/course-v3/nbs/dl1/images/KrisFace/markFace/original-256/83.png\n",
      "/home/jupyter/tutorials/fastai/course-v3/nbs/dl1/images/KrisFace/markFace/original-256/110.png\n",
      "/home/jupyter/tutorials/fastai/course-v3/nbs/dl1/images/KrisFace/markFace/original-256/893.png\n",
      "/home/jupyter/tutorials/fastai/course-v3/nbs/dl1/images/KrisFace/markFace/original-256/79.png\n",
      "/home/jupyter/tutorials/fastai/course-v3/nbs/dl1/images/KrisFace/markFace/original-256/782.png\n",
      "/home/jupyter/tutorials/fastai/course-v3/nbs/dl1/images/KrisFace/markFace/original-256/21.png\n",
      "/home/jupyter/tutorials/fastai/course-v3/nbs/dl1/images/KrisFace/markFace/original-256/189.png\n",
      "/home/jupyter/tutorials/fastai/course-v3/nbs/dl1/images/KrisFace/markFace/original-256/547.png\n",
      "/home/jupyter/tutorials/fastai/course-v3/nbs/dl1/images/KrisFace/markFace/original-256/216.png\n",
      "/home/jupyter/tutorials/fastai/course-v3/nbs/dl1/images/KrisFace/markFace/original-256/545.png\n",
      "/home/jupyter/tutorials/fastai/course-v3/nbs/dl1/images/KrisFace/markFace/original-256/106.png\n",
      "/home/jupyter/tutorials/fastai/course-v3/nbs/dl1/images/KrisFace/markFace/original-256/375.png\n",
      "/home/jupyter/tutorials/fastai/course-v3/nbs/dl1/images/KrisFace/markFace/original-256/365.png\n",
      "/home/jupyter/tutorials/fastai/course-v3/nbs/dl1/images/KrisFace/markFace/original-256/718.png\n",
      "/home/jupyter/tutorials/fastai/course-v3/nbs/dl1/images/KrisFace/markFace/original-256/684.png\n",
      "/home/jupyter/tutorials/fastai/course-v3/nbs/dl1/images/KrisFace/markFace/original-256/324.png\n",
      "/home/jupyter/tutorials/fastai/course-v3/nbs/dl1/images/KrisFace/markFace/original-256/283.png\n",
      "/home/jupyter/tutorials/fastai/course-v3/nbs/dl1/images/KrisFace/markFace/original-256/237.png\n",
      "/home/jupyter/tutorials/fastai/course-v3/nbs/dl1/images/KrisFace/markFace/original-256/736.png\n"
     ]
    }
   ],
   "source": [
    "#create smaller og pics first time this nb is run\n",
    "sets = [(path_og_lr, 96), (path_og_mr, 256)]\n",
    "for p,size in sets:\n",
    "    if not p.exists(): # if already exists, don't perform\n",
    "        print(f'resizing to {size} into {p}')\n",
    "        parallel(partial(resize_one, path=p, size=size), il.items)"
   ]
  },
  {
   "cell_type": "code",
   "execution_count": 45,
   "metadata": {},
   "outputs": [
    {
     "data": {
      "text/plain": [
       "array([PosixPath('/home/jupyter/tutorials/fastai/course-v3/nbs/dl1/images/KrisFace/markFace/original/692.png'),\n",
       "       PosixPath('/home/jupyter/tutorials/fastai/course-v3/nbs/dl1/images/KrisFace/markFace/original/898.png'),\n",
       "       PosixPath('/home/jupyter/tutorials/fastai/course-v3/nbs/dl1/images/KrisFace/markFace/original/784.png'),\n",
       "       PosixPath('/home/jupyter/tutorials/fastai/course-v3/nbs/dl1/images/KrisFace/markFace/original/607.png'), ...,\n",
       "       PosixPath('/home/jupyter/tutorials/fastai/course-v3/nbs/dl1/images/KrisFace/markFace/original/324.png'),\n",
       "       PosixPath('/home/jupyter/tutorials/fastai/course-v3/nbs/dl1/images/KrisFace/markFace/original/283.png'),\n",
       "       PosixPath('/home/jupyter/tutorials/fastai/course-v3/nbs/dl1/images/KrisFace/markFace/original/736.png'),\n",
       "       PosixPath('/home/jupyter/tutorials/fastai/course-v3/nbs/dl1/images/KrisFace/markFace/original/237.png')],\n",
       "      dtype=object)"
      ]
     },
     "execution_count": 45,
     "metadata": {},
     "output_type": "execute_result"
    }
   ],
   "source": [
    "il.items"
   ]
  },
  {
   "cell_type": "code",
   "execution_count": null,
   "metadata": {},
   "outputs": [],
   "source": []
  },
  {
   "cell_type": "markdown",
   "metadata": {
    "nbpresent": {
     "id": "8c3973ad-9196-4f28-94f2-ee4d220c2617"
    }
   },
   "source": [
    "# Load Model\n",
    "\n",
    "myFace-Generator-256b"
   ]
  },
  {
   "cell_type": "code",
   "execution_count": 60,
   "metadata": {
    "nbpresent": {
     "id": "0138dbfe-e2ec-4c1b-8575-9f68270ef81b"
    }
   },
   "outputs": [],
   "source": [
    "# medium res\n",
    "src = ImageImageList.from_folder(path_land_mr).split_none() #(0.1, seed=42)"
   ]
  },
  {
   "cell_type": "code",
   "execution_count": 61,
   "metadata": {
    "nbpresent": {
     "id": "ee1dacf7-3613-4e51-b77f-5a6578c050a7"
    }
   },
   "outputs": [],
   "source": [
    "def get_data(bs, size):\n",
    "    data = (src.label_from_func(lambda x: path_og_lr/x.name)\n",
    "           .transform(get_transforms(max_zoom=2.), size=size, tfm_y=True)\n",
    "           .databunch(bs=bs).normalize(do_y=True))\n",
    "    \n",
    "    data.c = 3\n",
    "    return data"
   ]
  },
  {
   "cell_type": "code",
   "execution_count": 62,
   "metadata": {
    "nbpresent": {
     "id": "b7f2649a-ceb9-47cf-b673-374d2398bb81"
    }
   },
   "outputs": [],
   "source": [
    "def gram_matrix(x):\n",
    "    n,c,h,w = x.size()\n",
    "    x = x.view(n, c, -1)\n",
    "    return (x @ x.transpose(1,2))/(c*h*w)"
   ]
  },
  {
   "cell_type": "code",
   "execution_count": 63,
   "metadata": {
    "nbpresent": {
     "id": "a394ccdd-747c-4680-8d37-689913276c31"
    }
   },
   "outputs": [
    {
     "data": {
      "text/plain": [
       "([5, 12, 22, 32, 42],\n",
       " [ReLU(inplace), ReLU(inplace), ReLU(inplace), ReLU(inplace), ReLU(inplace)])"
      ]
     },
     "execution_count": 63,
     "metadata": {},
     "output_type": "execute_result"
    }
   ],
   "source": [
    "base_loss = F.l1_loss\n",
    "\n",
    "from torchvision.models import vgg16_bn\n",
    "vgg_m = vgg16_bn(True).features.cuda().eval()\n",
    "requires_grad(vgg_m, False) #False means don't update weights and just use for loss\n",
    "\n",
    "#MaxPool is the final activation fn in a layer\n",
    "blocks = [i-1 for i,o in enumerate(children(vgg_m)) if isinstance(o,nn.MaxPool2d)]\n",
    "blocks, [vgg_m[i] for i in blocks]"
   ]
  },
  {
   "cell_type": "code",
   "execution_count": 64,
   "metadata": {
    "nbpresent": {
     "id": "ac48842a-2d98-4142-b23b-cafb21cece7c"
    }
   },
   "outputs": [],
   "source": [
    "class FeatureLoss(nn.Module):\n",
    "    def __init__(self, m_feat, layer_ids, layer_wgts):\n",
    "        super().__init__()\n",
    "        self.m_feat = m_feat\n",
    "        self.loss_features = [self.m_feat[i] for i in layer_ids]\n",
    "        self.hooks = hook_outputs(self.loss_features, detach=False)\n",
    "        self.wgts = layer_wgts\n",
    "        self.metric_names = ['pixel',] + [f'feat_{i}' for i in range(len(layer_ids))\n",
    "              ] + [f'gram_{i}' for i in range(len(layer_ids))]\n",
    "\n",
    "    def make_features(self, x, clone=False):\n",
    "        self.m_feat(x)\n",
    "        return [(o.clone() if clone else o) for o in self.hooks.stored]\n",
    "    \n",
    "    def forward(self, input, target):\n",
    "        out_feat = self.make_features(target, clone=True)\n",
    "        in_feat = self.make_features(input)\n",
    "        self.feat_losses = [base_loss(input,target)]\n",
    "        self.feat_losses += [base_loss(f_in, f_out)*w\n",
    "                             for f_in, f_out, w in zip(in_feat, out_feat, self.wgts)]\n",
    "        self.feat_losses += [base_loss(gram_matrix(f_in), gram_matrix(f_out))*w**2 * 5e3\n",
    "                             for f_in, f_out, w in zip(in_feat, out_feat, self.wgts)]\n",
    "        self.metrics = dict(zip(self.metric_names, self.feat_losses))\n",
    "        return sum(self.feat_losses)\n",
    "    \n",
    "    def __del__(self): self.hooks.remove()"
   ]
  },
  {
   "cell_type": "code",
   "execution_count": 65,
   "metadata": {
    "nbpresent": {
     "id": "69e22679-6a77-48aa-87ee-41c825dca0ed"
    }
   },
   "outputs": [],
   "source": [
    "feat_loss = FeatureLoss(vgg_m, blocks[2:5], [5,15,12])"
   ]
  },
  {
   "cell_type": "code",
   "execution_count": 68,
   "metadata": {
    "nbpresent": {
     "id": "53aedb0f-7074-47f2-ae9b-63f975e4feb0"
    }
   },
   "outputs": [],
   "source": [
    "bs, size = 6, 256\n",
    "data = get_data(bs, size)"
   ]
  },
  {
   "cell_type": "code",
   "execution_count": 69,
   "metadata": {
    "nbpresent": {
     "id": "8b3504e6-b917-48f1-a03a-03e7b5ca0448"
    }
   },
   "outputs": [],
   "source": [
    "arch = models.resnet34"
   ]
  },
  {
   "cell_type": "code",
   "execution_count": 75,
   "metadata": {
    "nbpresent": {
     "id": "cbc4ad25-b975-460c-a6a7-6c7f7ffc6ca4"
    }
   },
   "outputs": [
    {
     "data": {
      "text/plain": [
       "Learner(data=ImageDataBunch;\n",
       "\n",
       "Train: LabelList (903 items)\n",
       "x: ImageImageList\n",
       "Image (3, 256, 256),Image (3, 256, 256),Image (3, 256, 256),Image (3, 256, 256),Image (3, 256, 256)\n",
       "y: ImageList\n",
       "Image (3, 256, 256),Image (3, 256, 256),Image (3, 256, 256),Image (3, 256, 256),Image (3, 256, 256)\n",
       "Path: /home/jupyter/tutorials/fastai/course-v3/nbs/dl1/images/KrisFace/markFace/landmarks-256;\n",
       "\n",
       "Valid: LabelList (0 items)\n",
       "x: ImageImageList\n",
       "\n",
       "y: ImageList\n",
       "\n",
       "Path: /home/jupyter/tutorials/fastai/course-v3/nbs/dl1/images/KrisFace/markFace/landmarks-256;\n",
       "\n",
       "Test: None, model=DynamicUnet(\n",
       "  (layers): ModuleList(\n",
       "    (0): Sequential(\n",
       "      (0): Conv2d(3, 64, kernel_size=(7, 7), stride=(2, 2), padding=(3, 3), bias=False)\n",
       "      (1): BatchNorm2d(64, eps=1e-05, momentum=0.1, affine=True, track_running_stats=True)\n",
       "      (2): ReLU(inplace)\n",
       "      (3): MaxPool2d(kernel_size=3, stride=2, padding=1, dilation=1, ceil_mode=False)\n",
       "      (4): Sequential(\n",
       "        (0): BasicBlock(\n",
       "          (conv1): Conv2d(64, 64, kernel_size=(3, 3), stride=(1, 1), padding=(1, 1), bias=False)\n",
       "          (bn1): BatchNorm2d(64, eps=1e-05, momentum=0.1, affine=True, track_running_stats=True)\n",
       "          (relu): ReLU(inplace)\n",
       "          (conv2): Conv2d(64, 64, kernel_size=(3, 3), stride=(1, 1), padding=(1, 1), bias=False)\n",
       "          (bn2): BatchNorm2d(64, eps=1e-05, momentum=0.1, affine=True, track_running_stats=True)\n",
       "        )\n",
       "        (1): BasicBlock(\n",
       "          (conv1): Conv2d(64, 64, kernel_size=(3, 3), stride=(1, 1), padding=(1, 1), bias=False)\n",
       "          (bn1): BatchNorm2d(64, eps=1e-05, momentum=0.1, affine=True, track_running_stats=True)\n",
       "          (relu): ReLU(inplace)\n",
       "          (conv2): Conv2d(64, 64, kernel_size=(3, 3), stride=(1, 1), padding=(1, 1), bias=False)\n",
       "          (bn2): BatchNorm2d(64, eps=1e-05, momentum=0.1, affine=True, track_running_stats=True)\n",
       "        )\n",
       "        (2): BasicBlock(\n",
       "          (conv1): Conv2d(64, 64, kernel_size=(3, 3), stride=(1, 1), padding=(1, 1), bias=False)\n",
       "          (bn1): BatchNorm2d(64, eps=1e-05, momentum=0.1, affine=True, track_running_stats=True)\n",
       "          (relu): ReLU(inplace)\n",
       "          (conv2): Conv2d(64, 64, kernel_size=(3, 3), stride=(1, 1), padding=(1, 1), bias=False)\n",
       "          (bn2): BatchNorm2d(64, eps=1e-05, momentum=0.1, affine=True, track_running_stats=True)\n",
       "        )\n",
       "      )\n",
       "      (5): Sequential(\n",
       "        (0): BasicBlock(\n",
       "          (conv1): Conv2d(64, 128, kernel_size=(3, 3), stride=(2, 2), padding=(1, 1), bias=False)\n",
       "          (bn1): BatchNorm2d(128, eps=1e-05, momentum=0.1, affine=True, track_running_stats=True)\n",
       "          (relu): ReLU(inplace)\n",
       "          (conv2): Conv2d(128, 128, kernel_size=(3, 3), stride=(1, 1), padding=(1, 1), bias=False)\n",
       "          (bn2): BatchNorm2d(128, eps=1e-05, momentum=0.1, affine=True, track_running_stats=True)\n",
       "          (downsample): Sequential(\n",
       "            (0): Conv2d(64, 128, kernel_size=(1, 1), stride=(2, 2), bias=False)\n",
       "            (1): BatchNorm2d(128, eps=1e-05, momentum=0.1, affine=True, track_running_stats=True)\n",
       "          )\n",
       "        )\n",
       "        (1): BasicBlock(\n",
       "          (conv1): Conv2d(128, 128, kernel_size=(3, 3), stride=(1, 1), padding=(1, 1), bias=False)\n",
       "          (bn1): BatchNorm2d(128, eps=1e-05, momentum=0.1, affine=True, track_running_stats=True)\n",
       "          (relu): ReLU(inplace)\n",
       "          (conv2): Conv2d(128, 128, kernel_size=(3, 3), stride=(1, 1), padding=(1, 1), bias=False)\n",
       "          (bn2): BatchNorm2d(128, eps=1e-05, momentum=0.1, affine=True, track_running_stats=True)\n",
       "        )\n",
       "        (2): BasicBlock(\n",
       "          (conv1): Conv2d(128, 128, kernel_size=(3, 3), stride=(1, 1), padding=(1, 1), bias=False)\n",
       "          (bn1): BatchNorm2d(128, eps=1e-05, momentum=0.1, affine=True, track_running_stats=True)\n",
       "          (relu): ReLU(inplace)\n",
       "          (conv2): Conv2d(128, 128, kernel_size=(3, 3), stride=(1, 1), padding=(1, 1), bias=False)\n",
       "          (bn2): BatchNorm2d(128, eps=1e-05, momentum=0.1, affine=True, track_running_stats=True)\n",
       "        )\n",
       "        (3): BasicBlock(\n",
       "          (conv1): Conv2d(128, 128, kernel_size=(3, 3), stride=(1, 1), padding=(1, 1), bias=False)\n",
       "          (bn1): BatchNorm2d(128, eps=1e-05, momentum=0.1, affine=True, track_running_stats=True)\n",
       "          (relu): ReLU(inplace)\n",
       "          (conv2): Conv2d(128, 128, kernel_size=(3, 3), stride=(1, 1), padding=(1, 1), bias=False)\n",
       "          (bn2): BatchNorm2d(128, eps=1e-05, momentum=0.1, affine=True, track_running_stats=True)\n",
       "        )\n",
       "      )\n",
       "      (6): Sequential(\n",
       "        (0): BasicBlock(\n",
       "          (conv1): Conv2d(128, 256, kernel_size=(3, 3), stride=(2, 2), padding=(1, 1), bias=False)\n",
       "          (bn1): BatchNorm2d(256, eps=1e-05, momentum=0.1, affine=True, track_running_stats=True)\n",
       "          (relu): ReLU(inplace)\n",
       "          (conv2): Conv2d(256, 256, kernel_size=(3, 3), stride=(1, 1), padding=(1, 1), bias=False)\n",
       "          (bn2): BatchNorm2d(256, eps=1e-05, momentum=0.1, affine=True, track_running_stats=True)\n",
       "          (downsample): Sequential(\n",
       "            (0): Conv2d(128, 256, kernel_size=(1, 1), stride=(2, 2), bias=False)\n",
       "            (1): BatchNorm2d(256, eps=1e-05, momentum=0.1, affine=True, track_running_stats=True)\n",
       "          )\n",
       "        )\n",
       "        (1): BasicBlock(\n",
       "          (conv1): Conv2d(256, 256, kernel_size=(3, 3), stride=(1, 1), padding=(1, 1), bias=False)\n",
       "          (bn1): BatchNorm2d(256, eps=1e-05, momentum=0.1, affine=True, track_running_stats=True)\n",
       "          (relu): ReLU(inplace)\n",
       "          (conv2): Conv2d(256, 256, kernel_size=(3, 3), stride=(1, 1), padding=(1, 1), bias=False)\n",
       "          (bn2): BatchNorm2d(256, eps=1e-05, momentum=0.1, affine=True, track_running_stats=True)\n",
       "        )\n",
       "        (2): BasicBlock(\n",
       "          (conv1): Conv2d(256, 256, kernel_size=(3, 3), stride=(1, 1), padding=(1, 1), bias=False)\n",
       "          (bn1): BatchNorm2d(256, eps=1e-05, momentum=0.1, affine=True, track_running_stats=True)\n",
       "          (relu): ReLU(inplace)\n",
       "          (conv2): Conv2d(256, 256, kernel_size=(3, 3), stride=(1, 1), padding=(1, 1), bias=False)\n",
       "          (bn2): BatchNorm2d(256, eps=1e-05, momentum=0.1, affine=True, track_running_stats=True)\n",
       "        )\n",
       "        (3): BasicBlock(\n",
       "          (conv1): Conv2d(256, 256, kernel_size=(3, 3), stride=(1, 1), padding=(1, 1), bias=False)\n",
       "          (bn1): BatchNorm2d(256, eps=1e-05, momentum=0.1, affine=True, track_running_stats=True)\n",
       "          (relu): ReLU(inplace)\n",
       "          (conv2): Conv2d(256, 256, kernel_size=(3, 3), stride=(1, 1), padding=(1, 1), bias=False)\n",
       "          (bn2): BatchNorm2d(256, eps=1e-05, momentum=0.1, affine=True, track_running_stats=True)\n",
       "        )\n",
       "        (4): BasicBlock(\n",
       "          (conv1): Conv2d(256, 256, kernel_size=(3, 3), stride=(1, 1), padding=(1, 1), bias=False)\n",
       "          (bn1): BatchNorm2d(256, eps=1e-05, momentum=0.1, affine=True, track_running_stats=True)\n",
       "          (relu): ReLU(inplace)\n",
       "          (conv2): Conv2d(256, 256, kernel_size=(3, 3), stride=(1, 1), padding=(1, 1), bias=False)\n",
       "          (bn2): BatchNorm2d(256, eps=1e-05, momentum=0.1, affine=True, track_running_stats=True)\n",
       "        )\n",
       "        (5): BasicBlock(\n",
       "          (conv1): Conv2d(256, 256, kernel_size=(3, 3), stride=(1, 1), padding=(1, 1), bias=False)\n",
       "          (bn1): BatchNorm2d(256, eps=1e-05, momentum=0.1, affine=True, track_running_stats=True)\n",
       "          (relu): ReLU(inplace)\n",
       "          (conv2): Conv2d(256, 256, kernel_size=(3, 3), stride=(1, 1), padding=(1, 1), bias=False)\n",
       "          (bn2): BatchNorm2d(256, eps=1e-05, momentum=0.1, affine=True, track_running_stats=True)\n",
       "        )\n",
       "      )\n",
       "      (7): Sequential(\n",
       "        (0): BasicBlock(\n",
       "          (conv1): Conv2d(256, 512, kernel_size=(3, 3), stride=(2, 2), padding=(1, 1), bias=False)\n",
       "          (bn1): BatchNorm2d(512, eps=1e-05, momentum=0.1, affine=True, track_running_stats=True)\n",
       "          (relu): ReLU(inplace)\n",
       "          (conv2): Conv2d(512, 512, kernel_size=(3, 3), stride=(1, 1), padding=(1, 1), bias=False)\n",
       "          (bn2): BatchNorm2d(512, eps=1e-05, momentum=0.1, affine=True, track_running_stats=True)\n",
       "          (downsample): Sequential(\n",
       "            (0): Conv2d(256, 512, kernel_size=(1, 1), stride=(2, 2), bias=False)\n",
       "            (1): BatchNorm2d(512, eps=1e-05, momentum=0.1, affine=True, track_running_stats=True)\n",
       "          )\n",
       "        )\n",
       "        (1): BasicBlock(\n",
       "          (conv1): Conv2d(512, 512, kernel_size=(3, 3), stride=(1, 1), padding=(1, 1), bias=False)\n",
       "          (bn1): BatchNorm2d(512, eps=1e-05, momentum=0.1, affine=True, track_running_stats=True)\n",
       "          (relu): ReLU(inplace)\n",
       "          (conv2): Conv2d(512, 512, kernel_size=(3, 3), stride=(1, 1), padding=(1, 1), bias=False)\n",
       "          (bn2): BatchNorm2d(512, eps=1e-05, momentum=0.1, affine=True, track_running_stats=True)\n",
       "        )\n",
       "        (2): BasicBlock(\n",
       "          (conv1): Conv2d(512, 512, kernel_size=(3, 3), stride=(1, 1), padding=(1, 1), bias=False)\n",
       "          (bn1): BatchNorm2d(512, eps=1e-05, momentum=0.1, affine=True, track_running_stats=True)\n",
       "          (relu): ReLU(inplace)\n",
       "          (conv2): Conv2d(512, 512, kernel_size=(3, 3), stride=(1, 1), padding=(1, 1), bias=False)\n",
       "          (bn2): BatchNorm2d(512, eps=1e-05, momentum=0.1, affine=True, track_running_stats=True)\n",
       "        )\n",
       "      )\n",
       "    )\n",
       "    (1): BatchNorm2d(512, eps=1e-05, momentum=0.1, affine=True, track_running_stats=True)\n",
       "    (2): ReLU()\n",
       "    (3): Sequential(\n",
       "      (0): Sequential(\n",
       "        (0): Conv2d(512, 1024, kernel_size=(3, 3), stride=(1, 1), padding=(1, 1))\n",
       "        (1): ReLU(inplace)\n",
       "      )\n",
       "      (1): Sequential(\n",
       "        (0): Conv2d(1024, 512, kernel_size=(3, 3), stride=(1, 1), padding=(1, 1))\n",
       "        (1): ReLU(inplace)\n",
       "      )\n",
       "    )\n",
       "    (4): UnetBlock(\n",
       "      (shuf): PixelShuffle_ICNR(\n",
       "        (conv): Sequential(\n",
       "          (0): Conv2d(512, 1024, kernel_size=(1, 1), stride=(1, 1))\n",
       "        )\n",
       "        (shuf): PixelShuffle(upscale_factor=2)\n",
       "        (pad): ReplicationPad2d((1, 0, 1, 0))\n",
       "        (blur): AvgPool2d(kernel_size=2, stride=1, padding=0)\n",
       "        (relu): ReLU(inplace)\n",
       "      )\n",
       "      (bn): BatchNorm2d(256, eps=1e-05, momentum=0.1, affine=True, track_running_stats=True)\n",
       "      (conv1): Sequential(\n",
       "        (0): Conv2d(512, 512, kernel_size=(3, 3), stride=(1, 1), padding=(1, 1))\n",
       "        (1): ReLU(inplace)\n",
       "      )\n",
       "      (conv2): Sequential(\n",
       "        (0): Conv2d(512, 512, kernel_size=(3, 3), stride=(1, 1), padding=(1, 1))\n",
       "        (1): ReLU(inplace)\n",
       "      )\n",
       "      (relu): ReLU()\n",
       "    )\n",
       "    (5): UnetBlock(\n",
       "      (shuf): PixelShuffle_ICNR(\n",
       "        (conv): Sequential(\n",
       "          (0): Conv2d(512, 1024, kernel_size=(1, 1), stride=(1, 1))\n",
       "        )\n",
       "        (shuf): PixelShuffle(upscale_factor=2)\n",
       "        (pad): ReplicationPad2d((1, 0, 1, 0))\n",
       "        (blur): AvgPool2d(kernel_size=2, stride=1, padding=0)\n",
       "        (relu): ReLU(inplace)\n",
       "      )\n",
       "      (bn): BatchNorm2d(128, eps=1e-05, momentum=0.1, affine=True, track_running_stats=True)\n",
       "      (conv1): Sequential(\n",
       "        (0): Conv2d(384, 384, kernel_size=(3, 3), stride=(1, 1), padding=(1, 1))\n",
       "        (1): ReLU(inplace)\n",
       "      )\n",
       "      (conv2): Sequential(\n",
       "        (0): Conv2d(384, 384, kernel_size=(3, 3), stride=(1, 1), padding=(1, 1))\n",
       "        (1): ReLU(inplace)\n",
       "      )\n",
       "      (relu): ReLU()\n",
       "    )\n",
       "    (6): UnetBlock(\n",
       "      (shuf): PixelShuffle_ICNR(\n",
       "        (conv): Sequential(\n",
       "          (0): Conv2d(384, 768, kernel_size=(1, 1), stride=(1, 1))\n",
       "        )\n",
       "        (shuf): PixelShuffle(upscale_factor=2)\n",
       "        (pad): ReplicationPad2d((1, 0, 1, 0))\n",
       "        (blur): AvgPool2d(kernel_size=2, stride=1, padding=0)\n",
       "        (relu): ReLU(inplace)\n",
       "      )\n",
       "      (bn): BatchNorm2d(64, eps=1e-05, momentum=0.1, affine=True, track_running_stats=True)\n",
       "      (conv1): Sequential(\n",
       "        (0): Conv2d(256, 256, kernel_size=(3, 3), stride=(1, 1), padding=(1, 1))\n",
       "        (1): ReLU(inplace)\n",
       "      )\n",
       "      (conv2): Sequential(\n",
       "        (0): Conv2d(256, 256, kernel_size=(3, 3), stride=(1, 1), padding=(1, 1))\n",
       "        (1): ReLU(inplace)\n",
       "      )\n",
       "      (relu): ReLU()\n",
       "    )\n",
       "    (7): UnetBlock(\n",
       "      (shuf): PixelShuffle_ICNR(\n",
       "        (conv): Sequential(\n",
       "          (0): Conv2d(256, 512, kernel_size=(1, 1), stride=(1, 1))\n",
       "        )\n",
       "        (shuf): PixelShuffle(upscale_factor=2)\n",
       "        (pad): ReplicationPad2d((1, 0, 1, 0))\n",
       "        (blur): AvgPool2d(kernel_size=2, stride=1, padding=0)\n",
       "        (relu): ReLU(inplace)\n",
       "      )\n",
       "      (bn): BatchNorm2d(64, eps=1e-05, momentum=0.1, affine=True, track_running_stats=True)\n",
       "      (conv1): Sequential(\n",
       "        (0): Conv2d(192, 96, kernel_size=(3, 3), stride=(1, 1), padding=(1, 1))\n",
       "        (1): ReLU(inplace)\n",
       "      )\n",
       "      (conv2): Sequential(\n",
       "        (0): Conv2d(96, 96, kernel_size=(3, 3), stride=(1, 1), padding=(1, 1))\n",
       "        (1): ReLU(inplace)\n",
       "      )\n",
       "      (relu): ReLU()\n",
       "    )\n",
       "    (8): PixelShuffle_ICNR(\n",
       "      (conv): Sequential(\n",
       "        (0): Conv2d(96, 384, kernel_size=(1, 1), stride=(1, 1))\n",
       "      )\n",
       "      (shuf): PixelShuffle(upscale_factor=2)\n",
       "      (pad): ReplicationPad2d((1, 0, 1, 0))\n",
       "      (blur): AvgPool2d(kernel_size=2, stride=1, padding=0)\n",
       "      (relu): ReLU(inplace)\n",
       "    )\n",
       "    (9): MergeLayer()\n",
       "    (10): SequentialEx(\n",
       "      (layers): ModuleList(\n",
       "        (0): Sequential(\n",
       "          (0): Conv2d(99, 99, kernel_size=(3, 3), stride=(1, 1), padding=(1, 1))\n",
       "          (1): ReLU(inplace)\n",
       "        )\n",
       "        (1): Sequential(\n",
       "          (0): Conv2d(99, 99, kernel_size=(3, 3), stride=(1, 1), padding=(1, 1))\n",
       "          (1): ReLU(inplace)\n",
       "        )\n",
       "        (2): MergeLayer()\n",
       "      )\n",
       "    )\n",
       "    (11): Sequential(\n",
       "      (0): Conv2d(99, 3, kernel_size=(1, 1), stride=(1, 1))\n",
       "    )\n",
       "  )\n",
       "), opt_func=functools.partial(<class 'torch.optim.adam.Adam'>, betas=(0.9, 0.99)), loss_func=FeatureLoss(\n",
       "  (m_feat): Sequential(\n",
       "    (0): Conv2d(3, 64, kernel_size=(3, 3), stride=(1, 1), padding=(1, 1))\n",
       "    (1): BatchNorm2d(64, eps=1e-05, momentum=0.1, affine=True, track_running_stats=True)\n",
       "    (2): ReLU(inplace)\n",
       "    (3): Conv2d(64, 64, kernel_size=(3, 3), stride=(1, 1), padding=(1, 1))\n",
       "    (4): BatchNorm2d(64, eps=1e-05, momentum=0.1, affine=True, track_running_stats=True)\n",
       "    (5): ReLU(inplace)\n",
       "    (6): MaxPool2d(kernel_size=2, stride=2, padding=0, dilation=1, ceil_mode=False)\n",
       "    (7): Conv2d(64, 128, kernel_size=(3, 3), stride=(1, 1), padding=(1, 1))\n",
       "    (8): BatchNorm2d(128, eps=1e-05, momentum=0.1, affine=True, track_running_stats=True)\n",
       "    (9): ReLU(inplace)\n",
       "    (10): Conv2d(128, 128, kernel_size=(3, 3), stride=(1, 1), padding=(1, 1))\n",
       "    (11): BatchNorm2d(128, eps=1e-05, momentum=0.1, affine=True, track_running_stats=True)\n",
       "    (12): ReLU(inplace)\n",
       "    (13): MaxPool2d(kernel_size=2, stride=2, padding=0, dilation=1, ceil_mode=False)\n",
       "    (14): Conv2d(128, 256, kernel_size=(3, 3), stride=(1, 1), padding=(1, 1))\n",
       "    (15): BatchNorm2d(256, eps=1e-05, momentum=0.1, affine=True, track_running_stats=True)\n",
       "    (16): ReLU(inplace)\n",
       "    (17): Conv2d(256, 256, kernel_size=(3, 3), stride=(1, 1), padding=(1, 1))\n",
       "    (18): BatchNorm2d(256, eps=1e-05, momentum=0.1, affine=True, track_running_stats=True)\n",
       "    (19): ReLU(inplace)\n",
       "    (20): Conv2d(256, 256, kernel_size=(3, 3), stride=(1, 1), padding=(1, 1))\n",
       "    (21): BatchNorm2d(256, eps=1e-05, momentum=0.1, affine=True, track_running_stats=True)\n",
       "    (22): ReLU(inplace)\n",
       "    (23): MaxPool2d(kernel_size=2, stride=2, padding=0, dilation=1, ceil_mode=False)\n",
       "    (24): Conv2d(256, 512, kernel_size=(3, 3), stride=(1, 1), padding=(1, 1))\n",
       "    (25): BatchNorm2d(512, eps=1e-05, momentum=0.1, affine=True, track_running_stats=True)\n",
       "    (26): ReLU(inplace)\n",
       "    (27): Conv2d(512, 512, kernel_size=(3, 3), stride=(1, 1), padding=(1, 1))\n",
       "    (28): BatchNorm2d(512, eps=1e-05, momentum=0.1, affine=True, track_running_stats=True)\n",
       "    (29): ReLU(inplace)\n",
       "    (30): Conv2d(512, 512, kernel_size=(3, 3), stride=(1, 1), padding=(1, 1))\n",
       "    (31): BatchNorm2d(512, eps=1e-05, momentum=0.1, affine=True, track_running_stats=True)\n",
       "    (32): ReLU(inplace)\n",
       "    (33): MaxPool2d(kernel_size=2, stride=2, padding=0, dilation=1, ceil_mode=False)\n",
       "    (34): Conv2d(512, 512, kernel_size=(3, 3), stride=(1, 1), padding=(1, 1))\n",
       "    (35): BatchNorm2d(512, eps=1e-05, momentum=0.1, affine=True, track_running_stats=True)\n",
       "    (36): ReLU(inplace)\n",
       "    (37): Conv2d(512, 512, kernel_size=(3, 3), stride=(1, 1), padding=(1, 1))\n",
       "    (38): BatchNorm2d(512, eps=1e-05, momentum=0.1, affine=True, track_running_stats=True)\n",
       "    (39): ReLU(inplace)\n",
       "    (40): Conv2d(512, 512, kernel_size=(3, 3), stride=(1, 1), padding=(1, 1))\n",
       "    (41): BatchNorm2d(512, eps=1e-05, momentum=0.1, affine=True, track_running_stats=True)\n",
       "    (42): ReLU(inplace)\n",
       "    (43): MaxPool2d(kernel_size=2, stride=2, padding=0, dilation=1, ceil_mode=False)\n",
       "  )\n",
       "), metrics=[], true_wd=True, bn_wd=True, wd=0.001, train_bn=True, path=PosixPath('/home/jupyter/tutorials/fastai/course-v3/nbs/dl1/images/KrisFace/markFace/landmarks-256'), model_dir='models', callback_fns=[functools.partial(<class 'fastai.basic_train.Recorder'>, add_time=True, silent=False), <class 'fastai.callbacks.loss_metrics.LossMetrics'>], callbacks=[], layer_groups=[Sequential(\n",
       "  (0): Conv2d(3, 64, kernel_size=(7, 7), stride=(2, 2), padding=(3, 3), bias=False)\n",
       "  (1): BatchNorm2d(64, eps=1e-05, momentum=0.1, affine=True, track_running_stats=True)\n",
       "  (2): ReLU(inplace)\n",
       "  (3): MaxPool2d(kernel_size=3, stride=2, padding=1, dilation=1, ceil_mode=False)\n",
       "  (4): Conv2d(64, 64, kernel_size=(3, 3), stride=(1, 1), padding=(1, 1), bias=False)\n",
       "  (5): BatchNorm2d(64, eps=1e-05, momentum=0.1, affine=True, track_running_stats=True)\n",
       "  (6): ReLU(inplace)\n",
       "  (7): Conv2d(64, 64, kernel_size=(3, 3), stride=(1, 1), padding=(1, 1), bias=False)\n",
       "  (8): BatchNorm2d(64, eps=1e-05, momentum=0.1, affine=True, track_running_stats=True)\n",
       "  (9): Conv2d(64, 64, kernel_size=(3, 3), stride=(1, 1), padding=(1, 1), bias=False)\n",
       "  (10): BatchNorm2d(64, eps=1e-05, momentum=0.1, affine=True, track_running_stats=True)\n",
       "  (11): ReLU(inplace)\n",
       "  (12): Conv2d(64, 64, kernel_size=(3, 3), stride=(1, 1), padding=(1, 1), bias=False)\n",
       "  (13): BatchNorm2d(64, eps=1e-05, momentum=0.1, affine=True, track_running_stats=True)\n",
       "  (14): Conv2d(64, 64, kernel_size=(3, 3), stride=(1, 1), padding=(1, 1), bias=False)\n",
       "  (15): BatchNorm2d(64, eps=1e-05, momentum=0.1, affine=True, track_running_stats=True)\n",
       "  (16): ReLU(inplace)\n",
       "  (17): Conv2d(64, 64, kernel_size=(3, 3), stride=(1, 1), padding=(1, 1), bias=False)\n",
       "  (18): BatchNorm2d(64, eps=1e-05, momentum=0.1, affine=True, track_running_stats=True)\n",
       "  (19): Conv2d(64, 128, kernel_size=(3, 3), stride=(2, 2), padding=(1, 1), bias=False)\n",
       "  (20): BatchNorm2d(128, eps=1e-05, momentum=0.1, affine=True, track_running_stats=True)\n",
       "  (21): ReLU(inplace)\n",
       "  (22): Conv2d(128, 128, kernel_size=(3, 3), stride=(1, 1), padding=(1, 1), bias=False)\n",
       "  (23): BatchNorm2d(128, eps=1e-05, momentum=0.1, affine=True, track_running_stats=True)\n",
       "  (24): Conv2d(64, 128, kernel_size=(1, 1), stride=(2, 2), bias=False)\n",
       "  (25): BatchNorm2d(128, eps=1e-05, momentum=0.1, affine=True, track_running_stats=True)\n",
       "  (26): Conv2d(128, 128, kernel_size=(3, 3), stride=(1, 1), padding=(1, 1), bias=False)\n",
       "  (27): BatchNorm2d(128, eps=1e-05, momentum=0.1, affine=True, track_running_stats=True)\n",
       "  (28): ReLU(inplace)\n",
       "  (29): Conv2d(128, 128, kernel_size=(3, 3), stride=(1, 1), padding=(1, 1), bias=False)\n",
       "  (30): BatchNorm2d(128, eps=1e-05, momentum=0.1, affine=True, track_running_stats=True)\n",
       "  (31): Conv2d(128, 128, kernel_size=(3, 3), stride=(1, 1), padding=(1, 1), bias=False)\n",
       "  (32): BatchNorm2d(128, eps=1e-05, momentum=0.1, affine=True, track_running_stats=True)\n",
       "  (33): ReLU(inplace)\n",
       "  (34): Conv2d(128, 128, kernel_size=(3, 3), stride=(1, 1), padding=(1, 1), bias=False)\n",
       "  (35): BatchNorm2d(128, eps=1e-05, momentum=0.1, affine=True, track_running_stats=True)\n",
       "  (36): Conv2d(128, 128, kernel_size=(3, 3), stride=(1, 1), padding=(1, 1), bias=False)\n",
       "  (37): BatchNorm2d(128, eps=1e-05, momentum=0.1, affine=True, track_running_stats=True)\n",
       "  (38): ReLU(inplace)\n",
       "  (39): Conv2d(128, 128, kernel_size=(3, 3), stride=(1, 1), padding=(1, 1), bias=False)\n",
       "  (40): BatchNorm2d(128, eps=1e-05, momentum=0.1, affine=True, track_running_stats=True)\n",
       "), Sequential(\n",
       "  (0): Conv2d(128, 256, kernel_size=(3, 3), stride=(2, 2), padding=(1, 1), bias=False)\n",
       "  (1): BatchNorm2d(256, eps=1e-05, momentum=0.1, affine=True, track_running_stats=True)\n",
       "  (2): ReLU(inplace)\n",
       "  (3): Conv2d(256, 256, kernel_size=(3, 3), stride=(1, 1), padding=(1, 1), bias=False)\n",
       "  (4): BatchNorm2d(256, eps=1e-05, momentum=0.1, affine=True, track_running_stats=True)\n",
       "  (5): Conv2d(128, 256, kernel_size=(1, 1), stride=(2, 2), bias=False)\n",
       "  (6): BatchNorm2d(256, eps=1e-05, momentum=0.1, affine=True, track_running_stats=True)\n",
       "  (7): Conv2d(256, 256, kernel_size=(3, 3), stride=(1, 1), padding=(1, 1), bias=False)\n",
       "  (8): BatchNorm2d(256, eps=1e-05, momentum=0.1, affine=True, track_running_stats=True)\n",
       "  (9): ReLU(inplace)\n",
       "  (10): Conv2d(256, 256, kernel_size=(3, 3), stride=(1, 1), padding=(1, 1), bias=False)\n",
       "  (11): BatchNorm2d(256, eps=1e-05, momentum=0.1, affine=True, track_running_stats=True)\n",
       "  (12): Conv2d(256, 256, kernel_size=(3, 3), stride=(1, 1), padding=(1, 1), bias=False)\n",
       "  (13): BatchNorm2d(256, eps=1e-05, momentum=0.1, affine=True, track_running_stats=True)\n",
       "  (14): ReLU(inplace)\n",
       "  (15): Conv2d(256, 256, kernel_size=(3, 3), stride=(1, 1), padding=(1, 1), bias=False)\n",
       "  (16): BatchNorm2d(256, eps=1e-05, momentum=0.1, affine=True, track_running_stats=True)\n",
       "  (17): Conv2d(256, 256, kernel_size=(3, 3), stride=(1, 1), padding=(1, 1), bias=False)\n",
       "  (18): BatchNorm2d(256, eps=1e-05, momentum=0.1, affine=True, track_running_stats=True)\n",
       "  (19): ReLU(inplace)\n",
       "  (20): Conv2d(256, 256, kernel_size=(3, 3), stride=(1, 1), padding=(1, 1), bias=False)\n",
       "  (21): BatchNorm2d(256, eps=1e-05, momentum=0.1, affine=True, track_running_stats=True)\n",
       "  (22): Conv2d(256, 256, kernel_size=(3, 3), stride=(1, 1), padding=(1, 1), bias=False)\n",
       "  (23): BatchNorm2d(256, eps=1e-05, momentum=0.1, affine=True, track_running_stats=True)\n",
       "  (24): ReLU(inplace)\n",
       "  (25): Conv2d(256, 256, kernel_size=(3, 3), stride=(1, 1), padding=(1, 1), bias=False)\n",
       "  (26): BatchNorm2d(256, eps=1e-05, momentum=0.1, affine=True, track_running_stats=True)\n",
       "  (27): Conv2d(256, 256, kernel_size=(3, 3), stride=(1, 1), padding=(1, 1), bias=False)\n",
       "  (28): BatchNorm2d(256, eps=1e-05, momentum=0.1, affine=True, track_running_stats=True)\n",
       "  (29): ReLU(inplace)\n",
       "  (30): Conv2d(256, 256, kernel_size=(3, 3), stride=(1, 1), padding=(1, 1), bias=False)\n",
       "  (31): BatchNorm2d(256, eps=1e-05, momentum=0.1, affine=True, track_running_stats=True)\n",
       "  (32): Conv2d(256, 512, kernel_size=(3, 3), stride=(2, 2), padding=(1, 1), bias=False)\n",
       "  (33): BatchNorm2d(512, eps=1e-05, momentum=0.1, affine=True, track_running_stats=True)\n",
       "  (34): ReLU(inplace)\n",
       "  (35): Conv2d(512, 512, kernel_size=(3, 3), stride=(1, 1), padding=(1, 1), bias=False)\n",
       "  (36): BatchNorm2d(512, eps=1e-05, momentum=0.1, affine=True, track_running_stats=True)\n",
       "  (37): Conv2d(256, 512, kernel_size=(1, 1), stride=(2, 2), bias=False)\n",
       "  (38): BatchNorm2d(512, eps=1e-05, momentum=0.1, affine=True, track_running_stats=True)\n",
       "  (39): Conv2d(512, 512, kernel_size=(3, 3), stride=(1, 1), padding=(1, 1), bias=False)\n",
       "  (40): BatchNorm2d(512, eps=1e-05, momentum=0.1, affine=True, track_running_stats=True)\n",
       "  (41): ReLU(inplace)\n",
       "  (42): Conv2d(512, 512, kernel_size=(3, 3), stride=(1, 1), padding=(1, 1), bias=False)\n",
       "  (43): BatchNorm2d(512, eps=1e-05, momentum=0.1, affine=True, track_running_stats=True)\n",
       "  (44): Conv2d(512, 512, kernel_size=(3, 3), stride=(1, 1), padding=(1, 1), bias=False)\n",
       "  (45): BatchNorm2d(512, eps=1e-05, momentum=0.1, affine=True, track_running_stats=True)\n",
       "  (46): ReLU(inplace)\n",
       "  (47): Conv2d(512, 512, kernel_size=(3, 3), stride=(1, 1), padding=(1, 1), bias=False)\n",
       "  (48): BatchNorm2d(512, eps=1e-05, momentum=0.1, affine=True, track_running_stats=True)\n",
       "), Sequential(\n",
       "  (0): BatchNorm2d(512, eps=1e-05, momentum=0.1, affine=True, track_running_stats=True)\n",
       "  (1): ReLU()\n",
       "  (2): Conv2d(512, 1024, kernel_size=(3, 3), stride=(1, 1), padding=(1, 1))\n",
       "  (3): ReLU(inplace)\n",
       "  (4): Conv2d(1024, 512, kernel_size=(3, 3), stride=(1, 1), padding=(1, 1))\n",
       "  (5): ReLU(inplace)\n",
       "  (6): Conv2d(512, 1024, kernel_size=(1, 1), stride=(1, 1))\n",
       "  (7): PixelShuffle(upscale_factor=2)\n",
       "  (8): ReplicationPad2d((1, 0, 1, 0))\n",
       "  (9): AvgPool2d(kernel_size=2, stride=1, padding=0)\n",
       "  (10): ReLU(inplace)\n",
       "  (11): BatchNorm2d(256, eps=1e-05, momentum=0.1, affine=True, track_running_stats=True)\n",
       "  (12): Conv2d(512, 512, kernel_size=(3, 3), stride=(1, 1), padding=(1, 1))\n",
       "  (13): ReLU(inplace)\n",
       "  (14): Conv2d(512, 512, kernel_size=(3, 3), stride=(1, 1), padding=(1, 1))\n",
       "  (15): ReLU(inplace)\n",
       "  (16): ReLU()\n",
       "  (17): Conv2d(512, 1024, kernel_size=(1, 1), stride=(1, 1))\n",
       "  (18): PixelShuffle(upscale_factor=2)\n",
       "  (19): ReplicationPad2d((1, 0, 1, 0))\n",
       "  (20): AvgPool2d(kernel_size=2, stride=1, padding=0)\n",
       "  (21): ReLU(inplace)\n",
       "  (22): BatchNorm2d(128, eps=1e-05, momentum=0.1, affine=True, track_running_stats=True)\n",
       "  (23): Conv2d(384, 384, kernel_size=(3, 3), stride=(1, 1), padding=(1, 1))\n",
       "  (24): ReLU(inplace)\n",
       "  (25): Conv2d(384, 384, kernel_size=(3, 3), stride=(1, 1), padding=(1, 1))\n",
       "  (26): ReLU(inplace)\n",
       "  (27): ReLU()\n",
       "  (28): Conv2d(384, 768, kernel_size=(1, 1), stride=(1, 1))\n",
       "  (29): PixelShuffle(upscale_factor=2)\n",
       "  (30): ReplicationPad2d((1, 0, 1, 0))\n",
       "  (31): AvgPool2d(kernel_size=2, stride=1, padding=0)\n",
       "  (32): ReLU(inplace)\n",
       "  (33): BatchNorm2d(64, eps=1e-05, momentum=0.1, affine=True, track_running_stats=True)\n",
       "  (34): Conv2d(256, 256, kernel_size=(3, 3), stride=(1, 1), padding=(1, 1))\n",
       "  (35): ReLU(inplace)\n",
       "  (36): Conv2d(256, 256, kernel_size=(3, 3), stride=(1, 1), padding=(1, 1))\n",
       "  (37): ReLU(inplace)\n",
       "  (38): ReLU()\n",
       "  (39): Conv2d(256, 512, kernel_size=(1, 1), stride=(1, 1))\n",
       "  (40): PixelShuffle(upscale_factor=2)\n",
       "  (41): ReplicationPad2d((1, 0, 1, 0))\n",
       "  (42): AvgPool2d(kernel_size=2, stride=1, padding=0)\n",
       "  (43): ReLU(inplace)\n",
       "  (44): BatchNorm2d(64, eps=1e-05, momentum=0.1, affine=True, track_running_stats=True)\n",
       "  (45): Conv2d(192, 96, kernel_size=(3, 3), stride=(1, 1), padding=(1, 1))\n",
       "  (46): ReLU(inplace)\n",
       "  (47): Conv2d(96, 96, kernel_size=(3, 3), stride=(1, 1), padding=(1, 1))\n",
       "  (48): ReLU(inplace)\n",
       "  (49): ReLU()\n",
       "  (50): Conv2d(96, 384, kernel_size=(1, 1), stride=(1, 1))\n",
       "  (51): PixelShuffle(upscale_factor=2)\n",
       "  (52): ReplicationPad2d((1, 0, 1, 0))\n",
       "  (53): AvgPool2d(kernel_size=2, stride=1, padding=0)\n",
       "  (54): ReLU(inplace)\n",
       "  (55): MergeLayer()\n",
       "  (56): Conv2d(99, 99, kernel_size=(3, 3), stride=(1, 1), padding=(1, 1))\n",
       "  (57): ReLU(inplace)\n",
       "  (58): Conv2d(99, 99, kernel_size=(3, 3), stride=(1, 1), padding=(1, 1))\n",
       "  (59): ReLU(inplace)\n",
       "  (60): MergeLayer()\n",
       "  (61): Conv2d(99, 3, kernel_size=(1, 1), stride=(1, 1))\n",
       ")], add_time=True, silent=None)"
      ]
     },
     "execution_count": 75,
     "metadata": {},
     "output_type": "execute_result"
    }
   ],
   "source": [
    "wd = 1e-3 #weight decay\n",
    "learn = unet_learner(data, arch, wd=wd, loss_func=feat_loss, callback_fns=LossMetrics,\n",
    "                     blur=True, norm_type=NormType.Weight)\n",
    "\n",
    "#bs must correspond\n",
    "learn.load\n",
    "('/home/jupyter/tutorials/fastai/course-v3/nbs/dl1/images/KrisFace/krisFace_test1/landmarks-96/models/myFace-Generator-256a')\n",
    "# learn.load('myFace-Generator-256a')\n",
    "# learn.load('2d')\n",
    "# learn.load('myFace-Generator-1c')"
   ]
  },
  {
   "cell_type": "code",
   "execution_count": 76,
   "metadata": {},
   "outputs": [
    {
     "name": "stdout",
     "output_type": "stream",
     "text": [
      "Populating the interactive namespace from numpy and matplotlib\n"
     ]
    },
    {
     "data": {
      "image/jpeg": "[encoded data removed]",
      "image/png": "[encoded data removed]",
      "text/plain": [
       "Image (3, 96, 170)"
      ]
     },
     "execution_count": 76,
     "metadata": {},
     "output_type": "execute_result"
    }
   ],
   "source": [
    "%pylab inline\n",
    "import matplotlib.pyplot as plt\n",
    "import matplotlib.image as mpimg\n",
    "\n",
    "data.y[4]"
   ]
  },
  {
   "cell_type": "code",
   "execution_count": 77,
   "metadata": {},
   "outputs": [
    {
     "data": {
      "image/png": "[encoded data removed]",
      "text/plain": [
       "<Figure size 432x288 with 1 Axes>"
      ]
     },
     "metadata": {
      "needs_background": "light"
     },
     "output_type": "display_data"
    }
   ],
   "source": [
    "# img = mpimg.imread('/home/jupyter/tutorials/fastai/course-v3/nbs/dl1/images/KrisFace/landmarks-256/4.png')\n",
    "img = mpimg.imread('/home/jupyter/tutorials/fastai/course-v3/nbs/dl1/images/KrisFace/markFace/original-256/4.png')\n",
    "imgplot = plt.imshow(img)\n",
    "plt.show()"
   ]
  },
  {
   "cell_type": "markdown",
   "metadata": {},
   "source": [
    "# Inferences w/ a loop\n",
    "Lazy but effective. Not sure how to maintain chronology w/ a data_block"
   ]
  },
  {
   "cell_type": "code",
   "execution_count": 87,
   "metadata": {},
   "outputs": [
    {
     "data": {
      "text/plain": [
       "PosixPath('/home/jupyter/tutorials/fastai/course-v3/nbs/dl1/images/KrisFace/markFace/landmarks-256')"
      ]
     },
     "execution_count": 87,
     "metadata": {},
     "output_type": "execute_result"
    }
   ],
   "source": [
    "path_land_mr"
   ]
  },
  {
   "cell_type": "code",
   "execution_count": 91,
   "metadata": {},
   "outputs": [
    {
     "data": {
      "text/plain": [
       "904"
      ]
     },
     "execution_count": 91,
     "metadata": {},
     "output_type": "execute_result"
    }
   ],
   "source": [
    "len(path_land_mr.ls())"
   ]
  },
  {
   "cell_type": "code",
   "execution_count": 92,
   "metadata": {},
   "outputs": [
    {
     "name": "stdout",
     "output_type": "stream",
     "text": [
      "/home/jupyter/tutorials/fastai/course-v3/nbs/dl1/images/KrisFace/markFace/landmarks-256/100.png\n",
      "/home/jupyter/tutorials/fastai/course-v3/nbs/dl1/images/KrisFace/markFace/landmarks-256/200.png\n",
      "/home/jupyter/tutorials/fastai/course-v3/nbs/dl1/images/KrisFace/markFace/landmarks-256/300.png\n",
      "/home/jupyter/tutorials/fastai/course-v3/nbs/dl1/images/KrisFace/markFace/landmarks-256/400.png\n",
      "/home/jupyter/tutorials/fastai/course-v3/nbs/dl1/images/KrisFace/markFace/landmarks-256/500.png\n",
      "/home/jupyter/tutorials/fastai/course-v3/nbs/dl1/images/KrisFace/markFace/landmarks-256/600.png\n",
      "/home/jupyter/tutorials/fastai/course-v3/nbs/dl1/images/KrisFace/markFace/landmarks-256/700.png\n",
      "/home/jupyter/tutorials/fastai/course-v3/nbs/dl1/images/KrisFace/markFace/landmarks-256/800.png\n",
      "/home/jupyter/tutorials/fastai/course-v3/nbs/dl1/images/KrisFace/markFace/landmarks-256/900.png\n"
     ]
    }
   ],
   "source": [
    "y_hat = []\n",
    "\n",
    "for fn in range(1, len(path_land_mr.ls())):\n",
    "    img_path = r'' + str(path_land_mr) + f'/{fn}.png'\n",
    "    img = open_image(img_path)\n",
    "    y_hat.append(learn.predict(img)[1])\n",
    "    if fn % 100 == 0: \n",
    "        print (img_path)\n"
   ]
  },
  {
   "cell_type": "code",
   "execution_count": 93,
   "metadata": {},
   "outputs": [
    {
     "data": {
      "text/plain": [
       "torch.Size([3, 256, 256])"
      ]
     },
     "execution_count": 93,
     "metadata": {},
     "output_type": "execute_result"
    }
   ],
   "source": [
    "y_hat[0].shape\n",
    "#expecting ([3,256,256])"
   ]
  },
  {
   "cell_type": "markdown",
   "metadata": {},
   "source": [
    "# Overlay Inference on Orig\n",
    "\n",
    "Make a video that has the og in the bkg for demonstrative purposes. Side by side would probs be best, but encoding trickiness makes this a pain"
   ]
  },
  {
   "cell_type": "code",
   "execution_count": null,
   "metadata": {},
   "outputs": [],
   "source": []
  },
  {
   "cell_type": "code",
   "execution_count": null,
   "metadata": {},
   "outputs": [],
   "source": []
  },
  {
   "cell_type": "code",
   "execution_count": null,
   "metadata": {},
   "outputs": [],
   "source": []
  },
  {
   "cell_type": "markdown",
   "metadata": {
    "nbpresent": {
     "id": "83ce4734-deee-47d9-a34b-e474211af366"
    }
   },
   "source": [
    "# Img Preprocessing for Video\n",
    "----\n",
    "`y_hat_1` has all the predictions. Now to combined them"
   ]
  },
  {
   "cell_type": "code",
   "execution_count": 96,
   "metadata": {},
   "outputs": [],
   "source": [
    "import torch.nn.functional as F"
   ]
  },
  {
   "cell_type": "code",
   "execution_count": 97,
   "metadata": {},
   "outputs": [
    {
     "data": {
      "image/jpeg": "[encoded data removed]",
      "image/png": "[encoded data removed]",
      "text/plain": [
       "Image (3, 256, 455)"
      ]
     },
     "execution_count": 97,
     "metadata": {},
     "output_type": "execute_result"
    }
   ],
   "source": [
    "# y_hat[0][0].shape\n",
    "# learn.predict(img)\n",
    "img"
   ]
  },
  {
   "cell_type": "code",
   "execution_count": 98,
   "metadata": {},
   "outputs": [
    {
     "data": {
      "text/plain": [
       "torch.Size([3, 256, 256])"
      ]
     },
     "execution_count": 98,
     "metadata": {},
     "output_type": "execute_result"
    }
   ],
   "source": [
    "y_hat[0].shape"
   ]
  },
  {
   "cell_type": "code",
   "execution_count": 99,
   "metadata": {},
   "outputs": [],
   "source": [
    "w,h = 640, 480\n",
    "w1, h1 = (640-256)//2, (480-256)//2\n"
   ]
  },
  {
   "cell_type": "code",
   "execution_count": 100,
   "metadata": {},
   "outputs": [
    {
     "data": {
      "text/plain": [
       "(torch.Size([3, 112, 256]), torch.Size([3, 480, 192]))"
      ]
     },
     "execution_count": 100,
     "metadata": {},
     "output_type": "execute_result"
    }
   ],
   "source": [
    "# torch.zeros??\n",
    "z1 = torch.zeros([3, h1, 256])\n",
    "z2 = torch.zeros([3, h, w1])\n",
    "z1.shape, z2.shape"
   ]
  },
  {
   "cell_type": "code",
   "execution_count": 101,
   "metadata": {},
   "outputs": [
    {
     "data": {
      "text/plain": [
       "(tensor(-0.0784), tensor(0.8877))"
      ]
     },
     "execution_count": 101,
     "metadata": {},
     "output_type": "execute_result"
    }
   ],
   "source": [
    "y_hat[0].min(), y_hat[0].max()"
   ]
  },
  {
   "cell_type": "code",
   "execution_count": 102,
   "metadata": {},
   "outputs": [],
   "source": [
    "# pad 0's so can export as video (codec has a required aspect ratio)\n",
    "y_t = []\n",
    "for y in y_hat:\n",
    "    y = torch.cat((z1, torch.clamp(y, min=0, max=1), z1), 1)\n",
    "    y = torch.cat((z2, y, z2), 2)\n",
    "    y_t.append(y)"
   ]
  },
  {
   "cell_type": "code",
   "execution_count": 103,
   "metadata": {},
   "outputs": [],
   "source": [
    "# x = F.relu(y_t[0])"
   ]
  },
  {
   "cell_type": "code",
   "execution_count": 104,
   "metadata": {},
   "outputs": [
    {
     "data": {
      "text/plain": [
       "(480, 640, 3)"
      ]
     },
     "execution_count": 104,
     "metadata": {},
     "output_type": "execute_result"
    }
   ],
   "source": [
    "#og shape is (3,256,256) and is rgb, cv2 expects (640,480,3) and bgr\n",
    "# just going to pad w/ 0s to get to 640x480\n",
    "y_hat_bgr_formatted = [(img.permute(1,2,0)[:,:,[2,1,0]]*255).int().numpy().astype('uint8') for img in y_t]\n",
    "\n",
    "\n",
    "y_hat_bgr_formatted[0].shape"
   ]
  },
  {
   "cell_type": "code",
   "execution_count": 105,
   "metadata": {},
   "outputs": [
    {
     "data": {
      "text/plain": [
       "(0, 226)"
      ]
     },
     "execution_count": 105,
     "metadata": {},
     "output_type": "execute_result"
    }
   ],
   "source": [
    "y_hat_bgr_formatted[0].min(), y_hat_bgr_formatted[0].max()"
   ]
  },
  {
   "cell_type": "code",
   "execution_count": 106,
   "metadata": {},
   "outputs": [
    {
     "data": {
      "text/plain": [
       "<matplotlib.image.AxesImage at 0x7f82490ed0f0>"
      ]
     },
     "execution_count": 106,
     "metadata": {},
     "output_type": "execute_result"
    },
    {
     "data": {
      "image/png": "[encoded data removed]",
      "text/plain": [
       "<Figure size 432x288 with 1 Axes>"
      ]
     },
     "metadata": {
      "needs_background": "light"
     },
     "output_type": "display_data"
    }
   ],
   "source": [
    "# plt.imshow(y_hat_bgr_formatted[0])\n",
    "plt.imshow(y_hat_bgr_formatted[0])"
   ]
  },
  {
   "cell_type": "code",
   "execution_count": 107,
   "metadata": {},
   "outputs": [],
   "source": [
    "# transform.resize??\n",
    "# y_t = transform.resize(y_hat_bgr_formatted[0], (640,480))\n"
   ]
  },
  {
   "cell_type": "markdown",
   "metadata": {},
   "source": [
    "# Combine Into Video"
   ]
  },
  {
   "cell_type": "code",
   "execution_count": 108,
   "metadata": {
    "nbpresent": {
     "id": "9a4f7c76-f0ef-44a5-ad21-dc8a171a9af0"
    }
   },
   "outputs": [
    {
     "data": {
      "text/plain": [
       "903"
      ]
     },
     "execution_count": 108,
     "metadata": {},
     "output_type": "execute_result"
    }
   ],
   "source": [
    "frames_number = len(y_hat_bgr_formatted)\n",
    "frames_number"
   ]
  },
  {
   "cell_type": "code",
   "execution_count": 109,
   "metadata": {},
   "outputs": [
    {
     "data": {
      "text/plain": [
       "(480, 640, 3)"
      ]
     },
     "execution_count": 109,
     "metadata": {},
     "output_type": "execute_result"
    }
   ],
   "source": [
    "height, width, layers = y_hat_bgr_formatted[0].shape[:]\n",
    "height, width, layers"
   ]
  },
  {
   "cell_type": "markdown",
   "metadata": {
    "nbpresent": {
     "id": "e0f1cc97-9392-418c-b13e-1fa0d660ee72"
    }
   },
   "source": [
    "# fin"
   ]
  },
  {
   "cell_type": "code",
   "execution_count": 111,
   "metadata": {},
   "outputs": [],
   "source": [
    "import cv2\n",
    "import numpy as np\n",
    "\n",
    "fn = 'MarkFace'\n",
    "fps = 30\n",
    "\n",
    "fn_full = f'/home/jupyter/tutorials/fastai/course-v3/nbs/dl1/images/KrisFace/{fn}.avi'\n",
    "\n",
    "writer = cv2.VideoWriter(fn_full, cv2.VideoWriter_fourcc('M','P','4','V'),fps,(width,height))\n",
    "\n",
    "for i in range(len(y_hat_bgr_formatted)):\n",
    "    x = y_hat_bgr_formatted[i]\n",
    "#     x = x.reshape(480, 640, 3)\n",
    "    writer.write(x)"
   ]
  },
  {
   "cell_type": "code",
   "execution_count": 1,
   "metadata": {},
   "outputs": [
    {
     "ename": "NameError",
     "evalue": "name 'writer' is not defined",
     "output_type": "error",
     "traceback": [
      "\u001b[0;31m---------------------------------------------------------------------------\u001b[0m",
      "\u001b[0;31mNameError\u001b[0m                                 Traceback (most recent call last)",
      "\u001b[0;32m<ipython-input-1-0a3b6e87dc1f>\u001b[0m in \u001b[0;36m<module>\u001b[0;34m\u001b[0m\n\u001b[0;32m----> 1\u001b[0;31m \u001b[0mwriter\u001b[0m\u001b[0;34m.\u001b[0m\u001b[0misOpened\u001b[0m\u001b[0;34m(\u001b[0m\u001b[0;34m)\u001b[0m\u001b[0;34m\u001b[0m\u001b[0m\n\u001b[0m",
      "\u001b[0;31mNameError\u001b[0m: name 'writer' is not defined"
     ]
    }
   ],
   "source": [
    "writer.isOpened()"
   ]
  },
  {
   "cell_type": "code",
   "execution_count": 121,
   "metadata": {},
   "outputs": [],
   "source": [
    "cv2.destroyAllWindows()\n",
    "writer.release()"
   ]
  }
 ],
 "metadata": {
  "kernelspec": {
   "display_name": "Python 3",
   "language": "python",
   "name": "python3"
  },
  "language_info": {
   "codemirror_mode": {
    "name": "ipython",
    "version": 3
   },
   "file_extension": ".py",
   "mimetype": "text/x-python",
   "name": "python",
   "nbconvert_exporter": "python",
   "pygments_lexer": "ipython3",
   "version": "3.5.3"
  },
  "nbpresent": {
   "slides": {
    "000c71e3-6ca2-42ff-bd1d-752d75829a50": {
     "id": "000c71e3-6ca2-42ff-bd1d-752d75829a50",
     "prev": "5eec836d-c19b-42a1-b2bc-e00fe1ea361d",
     "regions": {
      "93b1e486-548d-41e4-8b68-f21b7ad9ec55": {
       "attrs": {
        "height": 0.8,
        "width": 0.8,
        "x": 0.1,
        "y": 0.1
       },
       "content": {
        "cell": "8c3973ad-9196-4f28-94f2-ee4d220c2617",
        "part": "whole"
       },
       "id": "93b1e486-548d-41e4-8b68-f21b7ad9ec55"
      }
     }
    },
    "05a5b3fa-d02e-4b96-b528-4c8dea9513b8": {
     "id": "05a5b3fa-d02e-4b96-b528-4c8dea9513b8",
     "prev": "218017ed-712a-4ccc-a2b2-6ee3afd49c49",
     "regions": {
      "8d12a606-d5c9-4039-b821-56694d626e85": {
       "attrs": {
        "height": 0.8,
        "width": 0.8,
        "x": 0.1,
        "y": 0.1
       },
       "content": {
        "cell": "fe2e75f1-7cb6-4e3b-806e-7a009ea7dc30",
        "part": "whole"
       },
       "id": "8d12a606-d5c9-4039-b821-56694d626e85"
      }
     }
    },
    "08c36203-77b5-41bc-a67d-eaa9410e630a": {
     "id": "08c36203-77b5-41bc-a67d-eaa9410e630a",
     "prev": "edc516be-fe56-4569-b1ae-bfde40e2fe5f",
     "regions": {
      "0a9ebf7c-0168-4c90-b68f-769e9365a2a2": {
       "attrs": {
        "height": 0.8,
        "width": 0.8,
        "x": 0.1,
        "y": 0.1
       },
       "content": {
        "cell": "84eee5e0-449b-4aa8-8960-eaf07d2771e2",
        "part": "whole"
       },
       "id": "0a9ebf7c-0168-4c90-b68f-769e9365a2a2"
      }
     }
    },
    "0cb2bf57-c85c-413e-9ebf-98c9fba2e42c": {
     "id": "0cb2bf57-c85c-413e-9ebf-98c9fba2e42c",
     "prev": "f0dcf31c-6d6b-49e5-976f-9754ee3281a1",
     "regions": {
      "0164789a-1d9a-4fef-a42a-6c7ec50e70cf": {
       "attrs": {
        "height": 0.8,
        "width": 0.8,
        "x": 0.1,
        "y": 0.1
       },
       "content": {
        "cell": "8c595651-e316-40cc-889a-27542197d3b3",
        "part": "whole"
       },
       "id": "0164789a-1d9a-4fef-a42a-6c7ec50e70cf"
      }
     }
    },
    "0d6ad8cf-0ede-49d8-963a-964968f4d071": {
     "id": "0d6ad8cf-0ede-49d8-963a-964968f4d071",
     "prev": "5232d8e3-5fc2-41fb-b0df-31104e1783bf",
     "regions": {
      "13eeb0e9-bdd7-4a5b-a1e1-41a9bafe3f5d": {
       "attrs": {
        "height": 0.8,
        "width": 0.8,
        "x": 0.1,
        "y": 0.1
       },
       "content": {
        "cell": "83ce4734-deee-47d9-a34b-e474211af366",
        "part": "whole"
       },
       "id": "13eeb0e9-bdd7-4a5b-a1e1-41a9bafe3f5d"
      }
     }
    },
    "0e8a04d6-06da-4884-816a-be586d8d8254": {
     "id": "0e8a04d6-06da-4884-816a-be586d8d8254",
     "prev": "2364cd35-a927-4375-bf67-1dcfe6713b2c",
     "regions": {
      "7f3548fb-0db3-4d7a-9492-f5d34bfb48f9": {
       "attrs": {
        "height": 0.8,
        "width": 0.8,
        "x": 0.1,
        "y": 0.1
       },
       "content": {
        "cell": "8b3504e6-b917-48f1-a03a-03e7b5ca0448",
        "part": "whole"
       },
       "id": "7f3548fb-0db3-4d7a-9492-f5d34bfb48f9"
      }
     }
    },
    "15f1e97c-0d79-420c-a75e-a75ac63c7811": {
     "id": "15f1e97c-0d79-420c-a75e-a75ac63c7811",
     "prev": "08c36203-77b5-41bc-a67d-eaa9410e630a",
     "regions": {
      "a7ca576d-db5d-4594-bb6b-c1ee8a9e8c40": {
       "attrs": {
        "height": 0.8,
        "width": 0.8,
        "x": 0.1,
        "y": 0.1
       },
       "content": {
        "cell": "a701f04d-e7c0-4fdf-84c7-5917ee34f572",
        "part": "whole"
       },
       "id": "a7ca576d-db5d-4594-bb6b-c1ee8a9e8c40"
      }
     }
    },
    "1bb25c8e-4e0b-4b8a-a853-00686941a8e3": {
     "id": "1bb25c8e-4e0b-4b8a-a853-00686941a8e3",
     "prev": "496120cf-3137-4a35-8105-60b77ad248d5",
     "regions": {
      "b5bf4e14-2a4d-49b9-b6dc-b422c71bee99": {
       "attrs": {
        "height": 0.8,
        "width": 0.8,
        "x": 0.1,
        "y": 0.1
       },
       "content": {
        "cell": "db5fc785-e4e9-4d34-9ac4-a4d63c9f567e",
        "part": "whole"
       },
       "id": "b5bf4e14-2a4d-49b9-b6dc-b422c71bee99"
      }
     }
    },
    "218017ed-712a-4ccc-a2b2-6ee3afd49c49": {
     "id": "218017ed-712a-4ccc-a2b2-6ee3afd49c49",
     "prev": "9e249561-377c-4043-9a3b-10c2df70063c",
     "regions": {
      "99b95499-bb40-46e0-b8c0-e465a1d24d63": {
       "attrs": {
        "height": 0.8,
        "width": 0.8,
        "x": 0.1,
        "y": 0.1
       },
       "content": {
        "cell": "12213500-b7dd-4d30-a1d9-b6e5da052739",
        "part": "whole"
       },
       "id": "99b95499-bb40-46e0-b8c0-e465a1d24d63"
      }
     }
    },
    "2364cd35-a927-4375-bf67-1dcfe6713b2c": {
     "id": "2364cd35-a927-4375-bf67-1dcfe6713b2c",
     "prev": "b499f0d6-69f9-45a2-8af1-c9d07c536be7",
     "regions": {
      "5402b491-82b8-4c70-85c0-d85a86df0d06": {
       "attrs": {
        "height": 0.8,
        "width": 0.8,
        "x": 0.1,
        "y": 0.1
       },
       "content": {
        "cell": "53aedb0f-7074-47f2-ae9b-63f975e4feb0",
        "part": "whole"
       },
       "id": "5402b491-82b8-4c70-85c0-d85a86df0d06"
      }
     }
    },
    "31a1aaf2-4792-4dcc-b76e-f501288d6d5d": {
     "id": "31a1aaf2-4792-4dcc-b76e-f501288d6d5d",
     "prev": "781ff4a4-d497-4820-a5d4-599735f5d4d8",
     "regions": {
      "1f974187-b862-4c1c-8c86-e5b07d01022c": {
       "attrs": {
        "height": 0.8,
        "width": 0.8,
        "x": 0.1,
        "y": 0.1
       },
       "content": {
        "cell": "991a53cf-3729-4513-8758-d966d30e642c",
        "part": "whole"
       },
       "id": "1f974187-b862-4c1c-8c86-e5b07d01022c"
      }
     }
    },
    "3ab377d4-15fc-44a6-ae50-98fc14b1826a": {
     "id": "3ab377d4-15fc-44a6-ae50-98fc14b1826a",
     "prev": "f9e70b21-30e1-44ea-8806-d767b2f07760",
     "regions": {
      "a11563dc-a714-47f3-92b4-254661239d47": {
       "attrs": {
        "height": 0.8,
        "width": 0.8,
        "x": 0.1,
        "y": 0.1
       },
       "content": {
        "cell": "a5b2ed9f-97c5-4461-b884-22c597832b3d",
        "part": "whole"
       },
       "id": "a11563dc-a714-47f3-92b4-254661239d47"
      }
     }
    },
    "47687b11-9a46-4272-b6db-0b13617dc774": {
     "id": "47687b11-9a46-4272-b6db-0b13617dc774",
     "prev": "6a694674-7bff-4371-9741-111705d166d3",
     "regions": {
      "f64e6244-948f-42c4-82e4-881dcd6df0ed": {
       "attrs": {
        "height": 0.8,
        "width": 0.8,
        "x": 0.1,
        "y": 0.1
       },
       "content": {
        "cell": "a394ccdd-747c-4680-8d37-689913276c31",
        "part": "whole"
       },
       "id": "f64e6244-948f-42c4-82e4-881dcd6df0ed"
      }
     }
    },
    "496120cf-3137-4a35-8105-60b77ad248d5": {
     "id": "496120cf-3137-4a35-8105-60b77ad248d5",
     "prev": "31a1aaf2-4792-4dcc-b76e-f501288d6d5d",
     "regions": {
      "a1e52b51-d956-4781-9dee-c8aa3927d28c": {
       "attrs": {
        "height": 0.8,
        "width": 0.8,
        "x": 0.1,
        "y": 0.1
       },
       "content": {
        "cell": "42ddd840-b238-4430-b336-d8cb752c262b",
        "part": "whole"
       },
       "id": "a1e52b51-d956-4781-9dee-c8aa3927d28c"
      }
     }
    },
    "4fb9bd4c-53b6-4f57-aeca-2fba6746cb02": {
     "id": "4fb9bd4c-53b6-4f57-aeca-2fba6746cb02",
     "prev": "0cb2bf57-c85c-413e-9ebf-98c9fba2e42c",
     "regions": {
      "884bf2b2-1ada-45d4-b700-3805faa6a616": {
       "attrs": {
        "height": 0.8,
        "width": 0.8,
        "x": 0.1,
        "y": 0.1
       },
       "content": {
        "cell": "bf29ee70-0bd8-4bee-afca-cc93ca3f9f51",
        "part": "whole"
       },
       "id": "884bf2b2-1ada-45d4-b700-3805faa6a616"
      }
     }
    },
    "5232d8e3-5fc2-41fb-b0df-31104e1783bf": {
     "id": "5232d8e3-5fc2-41fb-b0df-31104e1783bf",
     "prev": "a7e567fe-ce93-486f-bbf9-3e065da95db4",
     "regions": {
      "170a4836-3560-44d0-88c7-df9573bf8009": {
       "attrs": {
        "height": 0.8,
        "width": 0.8,
        "x": 0.1,
        "y": 0.1
       },
       "content": {
        "cell": "b1c8d36e-1383-41ff-90c7-de8108fb7d39",
        "part": "whole"
       },
       "id": "170a4836-3560-44d0-88c7-df9573bf8009"
      }
     }
    },
    "5281312b-5a83-47d5-973b-11f4a33d8cfa": {
     "id": "5281312b-5a83-47d5-973b-11f4a33d8cfa",
     "prev": "05a5b3fa-d02e-4b96-b528-4c8dea9513b8",
     "regions": {
      "285ac08e-7f76-474b-97db-320c83169e24": {
       "attrs": {
        "height": 0.8,
        "width": 0.8,
        "x": 0.1,
        "y": 0.1
       },
       "content": {
        "cell": "cd29f9fe-d675-4f50-9d49-e8ec995459cb",
        "part": "whole"
       },
       "id": "285ac08e-7f76-474b-97db-320c83169e24"
      }
     }
    },
    "5976542a-f146-4446-87e0-488a554efb40": {
     "id": "5976542a-f146-4446-87e0-488a554efb40",
     "prev": "4fb9bd4c-53b6-4f57-aeca-2fba6746cb02",
     "regions": {
      "76eb024f-b344-4243-b229-1afb32a4b5b2": {
       "attrs": {
        "height": 0.8,
        "width": 0.8,
        "x": 0.1,
        "y": 0.1
       },
       "content": {
        "cell": "e1488b70-d9f8-44ca-91dc-5b16b1fce159",
        "part": "whole"
       },
       "id": "76eb024f-b344-4243-b229-1afb32a4b5b2"
      }
     }
    },
    "5eec836d-c19b-42a1-b2bc-e00fe1ea361d": {
     "id": "5eec836d-c19b-42a1-b2bc-e00fe1ea361d",
     "prev": "1bb25c8e-4e0b-4b8a-a853-00686941a8e3",
     "regions": {
      "d3ed1240-f197-456c-845a-8c4de7d1242a": {
       "attrs": {
        "height": 0.8,
        "width": 0.8,
        "x": 0.1,
        "y": 0.1
       },
       "content": {
        "cell": "3333a246-7871-4eac-875a-8a2dfd6966bb",
        "part": "whole"
       },
       "id": "d3ed1240-f197-456c-845a-8c4de7d1242a"
      }
     }
    },
    "66b58e3b-849d-4f98-8c01-14f291a412de": {
     "id": "66b58e3b-849d-4f98-8c01-14f291a412de",
     "prev": "a9f56594-47e8-44c8-88d9-b1283447dea4",
     "regions": {
      "d5638193-c64f-4903-b900-27a0f2a344f3": {
       "attrs": {
        "height": 0.8,
        "width": 0.8,
        "x": 0.1,
        "y": 0.1
       },
       "content": {
        "cell": "2fe04f9c-e6e2-4105-b762-882914b1fb01",
        "part": "whole"
       },
       "id": "d5638193-c64f-4903-b900-27a0f2a344f3"
      }
     }
    },
    "6a694674-7bff-4371-9741-111705d166d3": {
     "id": "6a694674-7bff-4371-9741-111705d166d3",
     "prev": "7548f40c-2918-4672-a40f-3200b7e13206",
     "regions": {
      "42694d6e-5c56-42ad-ac08-b84234cc7a71": {
       "attrs": {
        "height": 0.8,
        "width": 0.8,
        "x": 0.1,
        "y": 0.1
       },
       "content": {
        "cell": "b7f2649a-ceb9-47cf-b673-374d2398bb81",
        "part": "whole"
       },
       "id": "42694d6e-5c56-42ad-ac08-b84234cc7a71"
      }
     }
    },
    "71034244-5f26-4430-b1e0-48d3248dc3be": {
     "id": "71034244-5f26-4430-b1e0-48d3248dc3be",
     "prev": "a8ea1a8e-6da6-47bd-976c-fb0880b2a264",
     "regions": {
      "7220f742-833c-4f07-b795-69548c763356": {
       "attrs": {
        "height": 0.8,
        "width": 0.8,
        "x": 0.1,
        "y": 0.1
       },
       "content": {
        "cell": "e0f1cc97-9392-418c-b13e-1fa0d660ee72",
        "part": "whole"
       },
       "id": "7220f742-833c-4f07-b795-69548c763356"
      }
     }
    },
    "7548f40c-2918-4672-a40f-3200b7e13206": {
     "id": "7548f40c-2918-4672-a40f-3200b7e13206",
     "prev": "8f4abbb1-ff6b-4a95-8c29-d879ff026b4e",
     "regions": {
      "8dea27bf-820b-4aa0-bf26-e6b2cd675ac8": {
       "attrs": {
        "height": 0.8,
        "width": 0.8,
        "x": 0.1,
        "y": 0.1
       },
       "content": {
        "cell": "ee1dacf7-3613-4e51-b77f-5a6578c050a7",
        "part": "whole"
       },
       "id": "8dea27bf-820b-4aa0-bf26-e6b2cd675ac8"
      }
     }
    },
    "781ff4a4-d497-4820-a5d4-599735f5d4d8": {
     "id": "781ff4a4-d497-4820-a5d4-599735f5d4d8",
     "prev": null,
     "regions": {
      "7e83e27a-f62d-4240-b03a-e2162357fbe2": {
       "attrs": {
        "height": 0.8,
        "width": 0.8,
        "x": 0.1,
        "y": 0.1
       },
       "content": {
        "cell": "c732b8cb-0352-4235-b6de-bf85c41e574f",
        "part": "whole"
       },
       "id": "7e83e27a-f62d-4240-b03a-e2162357fbe2"
      }
     }
    },
    "80f993a3-bf9c-4859-87bb-7b2e6f53b86e": {
     "id": "80f993a3-bf9c-4859-87bb-7b2e6f53b86e",
     "prev": "15f1e97c-0d79-420c-a75e-a75ac63c7811",
     "regions": {
      "e2e3abf8-85fa-4a57-a350-a94bd18d45e8": {
       "attrs": {
        "height": 0.8,
        "width": 0.8,
        "x": 0.1,
        "y": 0.1
       },
       "content": {
        "cell": "7477e754-e801-4baa-ac95-8432c3f69e42",
        "part": "whole"
       },
       "id": "e2e3abf8-85fa-4a57-a350-a94bd18d45e8"
      }
     }
    },
    "8f4abbb1-ff6b-4a95-8c29-d879ff026b4e": {
     "id": "8f4abbb1-ff6b-4a95-8c29-d879ff026b4e",
     "prev": "000c71e3-6ca2-42ff-bd1d-752d75829a50",
     "regions": {
      "dc337012-f2d8-4322-932a-b1509a48d22b": {
       "attrs": {
        "height": 0.8,
        "width": 0.8,
        "x": 0.1,
        "y": 0.1
       },
       "content": {
        "cell": "0138dbfe-e2ec-4c1b-8575-9f68270ef81b",
        "part": "whole"
       },
       "id": "dc337012-f2d8-4322-932a-b1509a48d22b"
      }
     }
    },
    "8f98c4f1-a9c0-4565-b51c-7b59be155f4f": {
     "id": "8f98c4f1-a9c0-4565-b51c-7b59be155f4f",
     "prev": "0d6ad8cf-0ede-49d8-963a-964968f4d071",
     "regions": {
      "b964839b-2cd0-499c-b5f0-06730393d51b": {
       "attrs": {
        "height": 0.8,
        "width": 0.8,
        "x": 0.1,
        "y": 0.1
       },
       "content": {
        "cell": "4409a02e-7b2a-4758-8335-e8211a617998",
        "part": "whole"
       },
       "id": "b964839b-2cd0-499c-b5f0-06730393d51b"
      }
     }
    },
    "90cae4e9-a536-45b1-aa1d-8b492e3769f6": {
     "id": "90cae4e9-a536-45b1-aa1d-8b492e3769f6",
     "prev": "bcc697c2-ec01-4fac-be15-ff31e4e6383f",
     "regions": {
      "3b191850-1e89-4280-8a4f-fbdc33b1f269": {
       "attrs": {
        "height": 0.8,
        "width": 0.8,
        "x": 0.1,
        "y": 0.1
       },
       "content": {
        "cell": "e7b16192-6154-45dd-ad2f-c789db97c073",
        "part": "whole"
       },
       "id": "3b191850-1e89-4280-8a4f-fbdc33b1f269"
      }
     }
    },
    "9e249561-377c-4043-9a3b-10c2df70063c": {
     "id": "9e249561-377c-4043-9a3b-10c2df70063c",
     "prev": "0e8a04d6-06da-4884-816a-be586d8d8254",
     "regions": {
      "50eeabe7-3cd1-41ff-bb04-8066ea371ae5": {
       "attrs": {
        "height": 0.8,
        "width": 0.8,
        "x": 0.1,
        "y": 0.1
       },
       "content": {
        "cell": "cbc4ad25-b975-460c-a6a7-6c7f7ffc6ca4",
        "part": "whole"
       },
       "id": "50eeabe7-3cd1-41ff-bb04-8066ea371ae5"
      }
     }
    },
    "a48db2f3-672b-4f55-893d-19eaa08adfb0": {
     "id": "a48db2f3-672b-4f55-893d-19eaa08adfb0",
     "prev": "90cae4e9-a536-45b1-aa1d-8b492e3769f6",
     "regions": {
      "87e0f85a-e884-4d94-958a-b16ad0ae500a": {
       "attrs": {
        "height": 0.8,
        "width": 0.8,
        "x": 0.1,
        "y": 0.1
       },
       "content": {
        "cell": "81a8961f-53b1-4909-95e7-4fcf18d96fca",
        "part": "whole"
       },
       "id": "87e0f85a-e884-4d94-958a-b16ad0ae500a"
      }
     }
    },
    "a7e567fe-ce93-486f-bbf9-3e065da95db4": {
     "id": "a7e567fe-ce93-486f-bbf9-3e065da95db4",
     "prev": "5976542a-f146-4446-87e0-488a554efb40",
     "regions": {
      "e06ccb89-039c-4536-9a26-0c47ef10d360": {
       "attrs": {
        "height": 0.8,
        "width": 0.8,
        "x": 0.1,
        "y": 0.1
       },
       "content": {
        "cell": "4a8e644c-efa1-456f-8fc1-74c11b05a935",
        "part": "whole"
       },
       "id": "e06ccb89-039c-4536-9a26-0c47ef10d360"
      }
     }
    },
    "a86da87a-37fe-4641-b664-f6564af19bf2": {
     "id": "a86da87a-37fe-4641-b664-f6564af19bf2",
     "prev": "d3fd9f3a-849f-4142-bde0-e50a740a288f",
     "regions": {
      "83719897-f1d8-4acb-8176-05a08e48eb2c": {
       "attrs": {
        "height": 0.8,
        "width": 0.8,
        "x": 0.1,
        "y": 0.1
       },
       "content": {
        "cell": "723fdcfe-ffe6-4275-9a3f-c8105258c52b",
        "part": "whole"
       },
       "id": "83719897-f1d8-4acb-8176-05a08e48eb2c"
      }
     }
    },
    "a8ea1a8e-6da6-47bd-976c-fb0880b2a264": {
     "id": "a8ea1a8e-6da6-47bd-976c-fb0880b2a264",
     "prev": "cd84a5b7-0ba3-4194-b65f-83d9a33979c7",
     "regions": {
      "9045beb8-bb04-420a-99ac-492c93536a01": {
       "attrs": {
        "height": 0.8,
        "width": 0.8,
        "x": 0.1,
        "y": 0.1
       },
       "content": {
        "cell": "9a4f7c76-f0ef-44a5-ad21-dc8a171a9af0",
        "part": "whole"
       },
       "id": "9045beb8-bb04-420a-99ac-492c93536a01"
      }
     }
    },
    "a9f56594-47e8-44c8-88d9-b1283447dea4": {
     "id": "a9f56594-47e8-44c8-88d9-b1283447dea4",
     "prev": "bffd0c24-164d-4066-a086-add380df7874",
     "regions": {
      "ae4c7b4a-eaf9-4dc5-8bb0-8a46e7a8de41": {
       "attrs": {
        "height": 0.8,
        "width": 0.8,
        "x": 0.1,
        "y": 0.1
       },
       "content": {
        "cell": "737445fd-8069-4794-8fe0-d8b71f0ca38b",
        "part": "whole"
       },
       "id": "ae4c7b4a-eaf9-4dc5-8bb0-8a46e7a8de41"
      }
     }
    },
    "b499f0d6-69f9-45a2-8af1-c9d07c536be7": {
     "id": "b499f0d6-69f9-45a2-8af1-c9d07c536be7",
     "prev": "bf19fd53-8c4c-42d0-bea0-5e01c64593ff",
     "regions": {
      "dfe7d8a5-568c-4f98-9d26-07ece8bc3d63": {
       "attrs": {
        "height": 0.8,
        "width": 0.8,
        "x": 0.1,
        "y": 0.1
       },
       "content": {
        "cell": "69e22679-6a77-48aa-87ee-41c825dca0ed",
        "part": "whole"
       },
       "id": "dfe7d8a5-568c-4f98-9d26-07ece8bc3d63"
      }
     }
    },
    "bcc697c2-ec01-4fac-be15-ff31e4e6383f": {
     "id": "bcc697c2-ec01-4fac-be15-ff31e4e6383f",
     "prev": "fe70bddc-2c44-4189-a993-dc24c912e682",
     "regions": {
      "50f98f60-1f8f-4b40-8101-66450e8049d5": {
       "attrs": {
        "height": 0.8,
        "width": 0.8,
        "x": 0.1,
        "y": 0.1
       },
       "content": {
        "cell": "638af798-305a-4646-bf88-7620e788a788",
        "part": "whole"
       },
       "id": "50f98f60-1f8f-4b40-8101-66450e8049d5"
      }
     }
    },
    "bf19fd53-8c4c-42d0-bea0-5e01c64593ff": {
     "id": "bf19fd53-8c4c-42d0-bea0-5e01c64593ff",
     "prev": "47687b11-9a46-4272-b6db-0b13617dc774",
     "regions": {
      "911367cd-89e2-4f15-a544-3f27b12ab661": {
       "attrs": {
        "height": 0.8,
        "width": 0.8,
        "x": 0.1,
        "y": 0.1
       },
       "content": {
        "cell": "ac48842a-2d98-4142-b23b-cafb21cece7c",
        "part": "whole"
       },
       "id": "911367cd-89e2-4f15-a544-3f27b12ab661"
      }
     }
    },
    "bffd0c24-164d-4066-a086-add380df7874": {
     "id": "bffd0c24-164d-4066-a086-add380df7874",
     "prev": "3ab377d4-15fc-44a6-ae50-98fc14b1826a",
     "regions": {
      "2d4b283d-ad82-4d63-8b38-bc81f38a031a": {
       "attrs": {
        "height": 0.8,
        "width": 0.8,
        "x": 0.1,
        "y": 0.1
       },
       "content": {
        "cell": "e6cb463a-3798-4d22-8fe3-ed4cd9aa133a",
        "part": "whole"
       },
       "id": "2d4b283d-ad82-4d63-8b38-bc81f38a031a"
      }
     }
    },
    "cd84a5b7-0ba3-4194-b65f-83d9a33979c7": {
     "id": "cd84a5b7-0ba3-4194-b65f-83d9a33979c7",
     "prev": "8f98c4f1-a9c0-4565-b51c-7b59be155f4f",
     "regions": {
      "ea0baa88-a4f4-47e0-833d-7003fdbc5d45": {
       "attrs": {
        "height": 0.8,
        "width": 0.8,
        "x": 0.1,
        "y": 0.1
       },
       "content": {
        "cell": "679cd4a5-7bb7-4fc9-890b-80557747dcdd",
        "part": "whole"
       },
       "id": "ea0baa88-a4f4-47e0-833d-7003fdbc5d45"
      }
     }
    },
    "d3fd9f3a-849f-4142-bde0-e50a740a288f": {
     "id": "d3fd9f3a-849f-4142-bde0-e50a740a288f",
     "prev": "80f993a3-bf9c-4859-87bb-7b2e6f53b86e",
     "regions": {
      "eaca980c-d0de-4271-9614-be6304e4fa60": {
       "attrs": {
        "height": 0.8,
        "width": 0.8,
        "x": 0.1,
        "y": 0.1
       },
       "content": {
        "cell": "1520ea40-7722-4c94-b8e5-38a89ddaad39",
        "part": "whole"
       },
       "id": "eaca980c-d0de-4271-9614-be6304e4fa60"
      }
     }
    },
    "edc516be-fe56-4569-b1ae-bfde40e2fe5f": {
     "id": "edc516be-fe56-4569-b1ae-bfde40e2fe5f",
     "prev": "66b58e3b-849d-4f98-8c01-14f291a412de",
     "regions": {
      "f890b58e-2b3a-456f-91e2-a46346f27e55": {
       "attrs": {
        "height": 0.8,
        "width": 0.8,
        "x": 0.1,
        "y": 0.1
       },
       "content": {
        "cell": "ff31330d-e75f-430f-a24e-8689ae151a6a",
        "part": "whole"
       },
       "id": "f890b58e-2b3a-456f-91e2-a46346f27e55"
      }
     }
    },
    "f0dcf31c-6d6b-49e5-976f-9754ee3281a1": {
     "id": "f0dcf31c-6d6b-49e5-976f-9754ee3281a1",
     "prev": "a48db2f3-672b-4f55-893d-19eaa08adfb0",
     "regions": {
      "a4d3da7f-0d84-41a8-ab27-4c0e48457dde": {
       "attrs": {
        "height": 0.8,
        "width": 0.8,
        "x": 0.1,
        "y": 0.1
       },
       "content": {
        "cell": "a48e7ca2-149f-4b84-abe2-926433c71827",
        "part": "whole"
       },
       "id": "a4d3da7f-0d84-41a8-ab27-4c0e48457dde"
      }
     }
    },
    "f9e70b21-30e1-44ea-8806-d767b2f07760": {
     "id": "f9e70b21-30e1-44ea-8806-d767b2f07760",
     "prev": "5281312b-5a83-47d5-973b-11f4a33d8cfa",
     "regions": {
      "1a730090-dc99-44a2-880c-026d47124867": {
       "attrs": {
        "height": 0.8,
        "width": 0.8,
        "x": 0.1,
        "y": 0.1
       },
       "content": {
        "cell": "85d5cfc5-bfda-48e8-8c90-f5e7a614d257",
        "part": "whole"
       },
       "id": "1a730090-dc99-44a2-880c-026d47124867"
      }
     }
    },
    "fe70bddc-2c44-4189-a993-dc24c912e682": {
     "id": "fe70bddc-2c44-4189-a993-dc24c912e682",
     "prev": "a86da87a-37fe-4641-b664-f6564af19bf2",
     "regions": {
      "9681aa37-5fcd-4f4d-8300-eaf6bdfae9d8": {
       "attrs": {
        "height": 0.8,
        "width": 0.8,
        "x": 0.1,
        "y": 0.1
       },
       "content": {
        "cell": "d7105b3c-ba21-4f95-807c-d39adc7ce3e1",
        "part": "whole"
       },
       "id": "9681aa37-5fcd-4f4d-8300-eaf6bdfae9d8"
      }
     }
    }
   },
   "themes": {}
  }
 },
 "nbformat": 4,
 "nbformat_minor": 1
}
